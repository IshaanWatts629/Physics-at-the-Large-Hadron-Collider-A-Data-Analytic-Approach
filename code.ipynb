{
  "nbformat": 4,
  "nbformat_minor": 0,
  "metadata": {
    "colab": {
      "provenance": [],
      "collapsed_sections": [
        "AF8EiFlwJaEO",
        "hnYWK5YZJJqN",
        "4OkAtS4PI1Mi",
        "U4PI6mHZWRNZ",
        "KgYSW1UiP1Z-",
        "-77PbrU1Uuky",
        "4xSZHlEQU0Wb"
      ]
    },
    "kernelspec": {
      "name": "python3",
      "display_name": "Python 3"
    },
    "language_info": {
      "name": "python"
    }
  },
  "cells": [
    {
      "cell_type": "code",
      "source": [
        "from google.colab import drive\n",
        "drive.mount('/content/drive')"
      ],
      "metadata": {
        "colab": {
          "base_uri": "https://localhost:8080/"
        },
        "id": "x0DRpRCgrmre",
        "outputId": "1977034a-114f-431b-ce31-5ed827de768d"
      },
      "execution_count": null,
      "outputs": [
        {
          "output_type": "stream",
          "name": "stdout",
          "text": [
            "Mounted at /content/drive\n"
          ]
        }
      ]
    },
    {
      "cell_type": "markdown",
      "source": [
        "# **Initial Task**\n",
        "#### Predicting whether a given value of Δη belongs to the signal or the background"
      ],
      "metadata": {
        "id": "AF8EiFlwJaEO"
      }
    },
    {
      "cell_type": "code",
      "execution_count": null,
      "metadata": {
        "id": "Sl4vbNiQq0aB"
      },
      "outputs": [],
      "source": [
        "import pandas as pd\n",
        "import numpy as np\n",
        "from tqdm import tqdm\n",
        "import seaborn as sns\n",
        "import matplotlib.pyplot as plt\n",
        "plt.style.use('seaborn')\n",
        "plt.rcParams[\"figure.figsize\"] = (20, 10)\n",
        "plt.rcParams.update({'font.size': 30})\n",
        "\n",
        "\n",
        "import torch\n",
        "import torch.nn as nn\n",
        "from sklearn.model_selection import train_test_split\n",
        "from sklearn.metrics import accuracy_score, f1_score\n",
        "from sklearn.metrics import roc_curve, auc\n",
        "\n",
        "#import optuna"
      ]
    },
    {
      "cell_type": "markdown",
      "source": [
        "## **Visualizing the Dataset**"
      ],
      "metadata": {
        "id": "hnYWK5YZJJqN"
      }
    },
    {
      "cell_type": "code",
      "source": [
        "signal = pd.read_csv('/content/drive/MyDrive/PYD411/deltaeta_spin0_noncoll.txt').reset_index(drop=True)\n",
        "signal.columns = ['Value']\n",
        "bg = pd.read_csv('/content/drive/MyDrive/PYD411/deltaeta_spin2ff_coll.txt').reset_index(drop=True)\n",
        "bg.columns = ['Value']"
      ],
      "metadata": {
        "id": "RBfxPoZUrHB_"
      },
      "execution_count": null,
      "outputs": []
    },
    {
      "cell_type": "code",
      "source": [
        "signal.describe()"
      ],
      "metadata": {
        "colab": {
          "base_uri": "https://localhost:8080/",
          "height": 300
        },
        "id": "QbCcu_lfr3Ag",
        "outputId": "787d8e45-6529-4aa7-8e43-e731cf74600a"
      },
      "execution_count": null,
      "outputs": [
        {
          "output_type": "execute_result",
          "data": {
            "text/plain": [
              "               Value\n",
              "count  122854.000000\n",
              "mean       -0.003049\n",
              "std         1.442249\n",
              "min        -4.850000\n",
              "25%        -0.978000\n",
              "50%        -0.001200\n",
              "75%         0.970000\n",
              "max         4.820000"
            ],
            "text/html": [
              "\n",
              "  <div id=\"df-19674810-c8ab-4341-a544-0dbee67055fb\">\n",
              "    <div class=\"colab-df-container\">\n",
              "      <div>\n",
              "<style scoped>\n",
              "    .dataframe tbody tr th:only-of-type {\n",
              "        vertical-align: middle;\n",
              "    }\n",
              "\n",
              "    .dataframe tbody tr th {\n",
              "        vertical-align: top;\n",
              "    }\n",
              "\n",
              "    .dataframe thead th {\n",
              "        text-align: right;\n",
              "    }\n",
              "</style>\n",
              "<table border=\"1\" class=\"dataframe\">\n",
              "  <thead>\n",
              "    <tr style=\"text-align: right;\">\n",
              "      <th></th>\n",
              "      <th>Value</th>\n",
              "    </tr>\n",
              "  </thead>\n",
              "  <tbody>\n",
              "    <tr>\n",
              "      <th>count</th>\n",
              "      <td>122854.000000</td>\n",
              "    </tr>\n",
              "    <tr>\n",
              "      <th>mean</th>\n",
              "      <td>-0.003049</td>\n",
              "    </tr>\n",
              "    <tr>\n",
              "      <th>std</th>\n",
              "      <td>1.442249</td>\n",
              "    </tr>\n",
              "    <tr>\n",
              "      <th>min</th>\n",
              "      <td>-4.850000</td>\n",
              "    </tr>\n",
              "    <tr>\n",
              "      <th>25%</th>\n",
              "      <td>-0.978000</td>\n",
              "    </tr>\n",
              "    <tr>\n",
              "      <th>50%</th>\n",
              "      <td>-0.001200</td>\n",
              "    </tr>\n",
              "    <tr>\n",
              "      <th>75%</th>\n",
              "      <td>0.970000</td>\n",
              "    </tr>\n",
              "    <tr>\n",
              "      <th>max</th>\n",
              "      <td>4.820000</td>\n",
              "    </tr>\n",
              "  </tbody>\n",
              "</table>\n",
              "</div>\n",
              "      <button class=\"colab-df-convert\" onclick=\"convertToInteractive('df-19674810-c8ab-4341-a544-0dbee67055fb')\"\n",
              "              title=\"Convert this dataframe to an interactive table.\"\n",
              "              style=\"display:none;\">\n",
              "        \n",
              "  <svg xmlns=\"http://www.w3.org/2000/svg\" height=\"24px\"viewBox=\"0 0 24 24\"\n",
              "       width=\"24px\">\n",
              "    <path d=\"M0 0h24v24H0V0z\" fill=\"none\"/>\n",
              "    <path d=\"M18.56 5.44l.94 2.06.94-2.06 2.06-.94-2.06-.94-.94-2.06-.94 2.06-2.06.94zm-11 1L8.5 8.5l.94-2.06 2.06-.94-2.06-.94L8.5 2.5l-.94 2.06-2.06.94zm10 10l.94 2.06.94-2.06 2.06-.94-2.06-.94-.94-2.06-.94 2.06-2.06.94z\"/><path d=\"M17.41 7.96l-1.37-1.37c-.4-.4-.92-.59-1.43-.59-.52 0-1.04.2-1.43.59L10.3 9.45l-7.72 7.72c-.78.78-.78 2.05 0 2.83L4 21.41c.39.39.9.59 1.41.59.51 0 1.02-.2 1.41-.59l7.78-7.78 2.81-2.81c.8-.78.8-2.07 0-2.86zM5.41 20L4 18.59l7.72-7.72 1.47 1.35L5.41 20z\"/>\n",
              "  </svg>\n",
              "      </button>\n",
              "      \n",
              "  <style>\n",
              "    .colab-df-container {\n",
              "      display:flex;\n",
              "      flex-wrap:wrap;\n",
              "      gap: 12px;\n",
              "    }\n",
              "\n",
              "    .colab-df-convert {\n",
              "      background-color: #E8F0FE;\n",
              "      border: none;\n",
              "      border-radius: 50%;\n",
              "      cursor: pointer;\n",
              "      display: none;\n",
              "      fill: #1967D2;\n",
              "      height: 32px;\n",
              "      padding: 0 0 0 0;\n",
              "      width: 32px;\n",
              "    }\n",
              "\n",
              "    .colab-df-convert:hover {\n",
              "      background-color: #E2EBFA;\n",
              "      box-shadow: 0px 1px 2px rgba(60, 64, 67, 0.3), 0px 1px 3px 1px rgba(60, 64, 67, 0.15);\n",
              "      fill: #174EA6;\n",
              "    }\n",
              "\n",
              "    [theme=dark] .colab-df-convert {\n",
              "      background-color: #3B4455;\n",
              "      fill: #D2E3FC;\n",
              "    }\n",
              "\n",
              "    [theme=dark] .colab-df-convert:hover {\n",
              "      background-color: #434B5C;\n",
              "      box-shadow: 0px 1px 3px 1px rgba(0, 0, 0, 0.15);\n",
              "      filter: drop-shadow(0px 1px 2px rgba(0, 0, 0, 0.3));\n",
              "      fill: #FFFFFF;\n",
              "    }\n",
              "  </style>\n",
              "\n",
              "      <script>\n",
              "        const buttonEl =\n",
              "          document.querySelector('#df-19674810-c8ab-4341-a544-0dbee67055fb button.colab-df-convert');\n",
              "        buttonEl.style.display =\n",
              "          google.colab.kernel.accessAllowed ? 'block' : 'none';\n",
              "\n",
              "        async function convertToInteractive(key) {\n",
              "          const element = document.querySelector('#df-19674810-c8ab-4341-a544-0dbee67055fb');\n",
              "          const dataTable =\n",
              "            await google.colab.kernel.invokeFunction('convertToInteractive',\n",
              "                                                     [key], {});\n",
              "          if (!dataTable) return;\n",
              "\n",
              "          const docLinkHtml = 'Like what you see? Visit the ' +\n",
              "            '<a target=\"_blank\" href=https://colab.research.google.com/notebooks/data_table.ipynb>data table notebook</a>'\n",
              "            + ' to learn more about interactive tables.';\n",
              "          element.innerHTML = '';\n",
              "          dataTable['output_type'] = 'display_data';\n",
              "          await google.colab.output.renderOutput(dataTable, element);\n",
              "          const docLink = document.createElement('div');\n",
              "          docLink.innerHTML = docLinkHtml;\n",
              "          element.appendChild(docLink);\n",
              "        }\n",
              "      </script>\n",
              "    </div>\n",
              "  </div>\n",
              "  "
            ]
          },
          "metadata": {},
          "execution_count": 9
        }
      ]
    },
    {
      "cell_type": "code",
      "source": [
        "bg.describe()"
      ],
      "metadata": {
        "id": "AYJ8LDajugoe",
        "colab": {
          "base_uri": "https://localhost:8080/",
          "height": 300
        },
        "outputId": "e1e93484-5bcb-484e-99d4-cc4530b5ba75"
      },
      "execution_count": null,
      "outputs": [
        {
          "output_type": "execute_result",
          "data": {
            "text/plain": [
              "               Value\n",
              "count  133619.000000\n",
              "mean        0.003904\n",
              "std         1.669666\n",
              "min        -4.760000\n",
              "25%        -1.450000\n",
              "50%         0.080100\n",
              "75%         1.450000\n",
              "max         4.690000"
            ],
            "text/html": [
              "\n",
              "  <div id=\"df-664b4fc8-46d1-4d98-a993-489809095f20\">\n",
              "    <div class=\"colab-df-container\">\n",
              "      <div>\n",
              "<style scoped>\n",
              "    .dataframe tbody tr th:only-of-type {\n",
              "        vertical-align: middle;\n",
              "    }\n",
              "\n",
              "    .dataframe tbody tr th {\n",
              "        vertical-align: top;\n",
              "    }\n",
              "\n",
              "    .dataframe thead th {\n",
              "        text-align: right;\n",
              "    }\n",
              "</style>\n",
              "<table border=\"1\" class=\"dataframe\">\n",
              "  <thead>\n",
              "    <tr style=\"text-align: right;\">\n",
              "      <th></th>\n",
              "      <th>Value</th>\n",
              "    </tr>\n",
              "  </thead>\n",
              "  <tbody>\n",
              "    <tr>\n",
              "      <th>count</th>\n",
              "      <td>133619.000000</td>\n",
              "    </tr>\n",
              "    <tr>\n",
              "      <th>mean</th>\n",
              "      <td>0.003904</td>\n",
              "    </tr>\n",
              "    <tr>\n",
              "      <th>std</th>\n",
              "      <td>1.669666</td>\n",
              "    </tr>\n",
              "    <tr>\n",
              "      <th>min</th>\n",
              "      <td>-4.760000</td>\n",
              "    </tr>\n",
              "    <tr>\n",
              "      <th>25%</th>\n",
              "      <td>-1.450000</td>\n",
              "    </tr>\n",
              "    <tr>\n",
              "      <th>50%</th>\n",
              "      <td>0.080100</td>\n",
              "    </tr>\n",
              "    <tr>\n",
              "      <th>75%</th>\n",
              "      <td>1.450000</td>\n",
              "    </tr>\n",
              "    <tr>\n",
              "      <th>max</th>\n",
              "      <td>4.690000</td>\n",
              "    </tr>\n",
              "  </tbody>\n",
              "</table>\n",
              "</div>\n",
              "      <button class=\"colab-df-convert\" onclick=\"convertToInteractive('df-664b4fc8-46d1-4d98-a993-489809095f20')\"\n",
              "              title=\"Convert this dataframe to an interactive table.\"\n",
              "              style=\"display:none;\">\n",
              "        \n",
              "  <svg xmlns=\"http://www.w3.org/2000/svg\" height=\"24px\"viewBox=\"0 0 24 24\"\n",
              "       width=\"24px\">\n",
              "    <path d=\"M0 0h24v24H0V0z\" fill=\"none\"/>\n",
              "    <path d=\"M18.56 5.44l.94 2.06.94-2.06 2.06-.94-2.06-.94-.94-2.06-.94 2.06-2.06.94zm-11 1L8.5 8.5l.94-2.06 2.06-.94-2.06-.94L8.5 2.5l-.94 2.06-2.06.94zm10 10l.94 2.06.94-2.06 2.06-.94-2.06-.94-.94-2.06-.94 2.06-2.06.94z\"/><path d=\"M17.41 7.96l-1.37-1.37c-.4-.4-.92-.59-1.43-.59-.52 0-1.04.2-1.43.59L10.3 9.45l-7.72 7.72c-.78.78-.78 2.05 0 2.83L4 21.41c.39.39.9.59 1.41.59.51 0 1.02-.2 1.41-.59l7.78-7.78 2.81-2.81c.8-.78.8-2.07 0-2.86zM5.41 20L4 18.59l7.72-7.72 1.47 1.35L5.41 20z\"/>\n",
              "  </svg>\n",
              "      </button>\n",
              "      \n",
              "  <style>\n",
              "    .colab-df-container {\n",
              "      display:flex;\n",
              "      flex-wrap:wrap;\n",
              "      gap: 12px;\n",
              "    }\n",
              "\n",
              "    .colab-df-convert {\n",
              "      background-color: #E8F0FE;\n",
              "      border: none;\n",
              "      border-radius: 50%;\n",
              "      cursor: pointer;\n",
              "      display: none;\n",
              "      fill: #1967D2;\n",
              "      height: 32px;\n",
              "      padding: 0 0 0 0;\n",
              "      width: 32px;\n",
              "    }\n",
              "\n",
              "    .colab-df-convert:hover {\n",
              "      background-color: #E2EBFA;\n",
              "      box-shadow: 0px 1px 2px rgba(60, 64, 67, 0.3), 0px 1px 3px 1px rgba(60, 64, 67, 0.15);\n",
              "      fill: #174EA6;\n",
              "    }\n",
              "\n",
              "    [theme=dark] .colab-df-convert {\n",
              "      background-color: #3B4455;\n",
              "      fill: #D2E3FC;\n",
              "    }\n",
              "\n",
              "    [theme=dark] .colab-df-convert:hover {\n",
              "      background-color: #434B5C;\n",
              "      box-shadow: 0px 1px 3px 1px rgba(0, 0, 0, 0.15);\n",
              "      filter: drop-shadow(0px 1px 2px rgba(0, 0, 0, 0.3));\n",
              "      fill: #FFFFFF;\n",
              "    }\n",
              "  </style>\n",
              "\n",
              "      <script>\n",
              "        const buttonEl =\n",
              "          document.querySelector('#df-664b4fc8-46d1-4d98-a993-489809095f20 button.colab-df-convert');\n",
              "        buttonEl.style.display =\n",
              "          google.colab.kernel.accessAllowed ? 'block' : 'none';\n",
              "\n",
              "        async function convertToInteractive(key) {\n",
              "          const element = document.querySelector('#df-664b4fc8-46d1-4d98-a993-489809095f20');\n",
              "          const dataTable =\n",
              "            await google.colab.kernel.invokeFunction('convertToInteractive',\n",
              "                                                     [key], {});\n",
              "          if (!dataTable) return;\n",
              "\n",
              "          const docLinkHtml = 'Like what you see? Visit the ' +\n",
              "            '<a target=\"_blank\" href=https://colab.research.google.com/notebooks/data_table.ipynb>data table notebook</a>'\n",
              "            + ' to learn more about interactive tables.';\n",
              "          element.innerHTML = '';\n",
              "          dataTable['output_type'] = 'display_data';\n",
              "          await google.colab.output.renderOutput(dataTable, element);\n",
              "          const docLink = document.createElement('div');\n",
              "          docLink.innerHTML = docLinkHtml;\n",
              "          element.appendChild(docLink);\n",
              "        }\n",
              "      </script>\n",
              "    </div>\n",
              "  </div>\n",
              "  "
            ]
          },
          "metadata": {},
          "execution_count": 10
        }
      ]
    },
    {
      "cell_type": "code",
      "source": [
        "num_bins = 50\n",
        "width = (signal.max() -signal.min())/num_bins "
      ],
      "metadata": {
        "id": "j8gRKj-Zr5oI"
      },
      "execution_count": null,
      "outputs": []
    },
    {
      "cell_type": "code",
      "source": [
        "signal_freq, intervals = np.histogram(signal, bins = num_bins, density = True)\n",
        "signal_freq"
      ],
      "metadata": {
        "id": "aXptfEDutGgb",
        "colab": {
          "base_uri": "https://localhost:8080/"
        },
        "outputId": "56187328-1f85-49e5-d78a-45627476968d"
      },
      "execution_count": null,
      "outputs": [
        {
          "output_type": "execute_result",
          "data": {
            "text/plain": [
              "array([0.0003367 , 0.00063131, 0.00290404, 0.00378788, 0.0061027 ,\n",
              "       0.01047981, 0.01338386, 0.02015996, 0.02550509, 0.03333338,\n",
              "       0.04196134, 0.05576608, 0.06645633, 0.08472235, 0.1045877 ,\n",
              "       0.12087561, 0.13627967, 0.16936053, 0.18341779, 0.20888079,\n",
              "       0.22748351, 0.24191956, 0.25883878, 0.2696553 , 0.27845161,\n",
              "       0.27537921, 0.27276978, 0.26308963, 0.24827479, 0.23316534,\n",
              "       0.20795486, 0.18808951, 0.17226457, 0.14242446, 0.12272746,\n",
              "       0.10677626, 0.08282841, 0.06788731, 0.05799672, 0.04351859,\n",
              "       0.03489063, 0.02521048, 0.01986535, 0.01409935, 0.0105219 ,\n",
              "       0.00694446, 0.00433502, 0.00294613, 0.00092593, 0.00046296])"
            ]
          },
          "metadata": {},
          "execution_count": 12
        }
      ]
    },
    {
      "cell_type": "code",
      "source": [
        "bg_freq, intervals_2 = np.histogram(bg, bins = num_bins, density = True)\n",
        "bg_freq"
      ],
      "metadata": {
        "id": "5dzCYdm_uJKk",
        "colab": {
          "base_uri": "https://localhost:8080/"
        },
        "outputId": "e205325b-800f-4a0b-e469-65721623ab1c"
      },
      "execution_count": null,
      "outputs": [
        {
          "output_type": "execute_result",
          "data": {
            "text/plain": [
              "array([2.77183911e-04, 5.93965524e-04, 1.10873564e-03, 2.41545980e-03,\n",
              "       3.99936786e-03, 7.40477020e-03, 1.02558047e-02, 1.60370692e-02,\n",
              "       2.54217244e-02, 3.40144257e-02, 5.42884489e-02, 8.16900584e-02,\n",
              "       1.09289656e-01, 1.45838335e-01, 1.85356841e-01, 2.28320347e-01,\n",
              "       2.66769716e-01, 2.90805521e-01, 2.93181383e-01, 2.75758394e-01,\n",
              "       2.41268796e-01, 1.81951439e-01, 1.14437358e-01, 5.70998857e-02,\n",
              "       1.43343680e-02, 8.63229895e-03, 3.52023567e-02, 9.19458631e-02,\n",
              "       1.54985404e-01, 2.19608853e-01, 2.61938796e-01, 2.92785406e-01,\n",
              "       2.97101555e-01, 2.73659716e-01, 2.47525233e-01, 2.03452991e-01,\n",
              "       1.59539140e-01, 1.26079082e-01, 9.07975298e-02, 5.97133340e-02,\n",
              "       4.48641959e-02, 3.13613797e-02, 2.03928163e-02, 1.17605174e-02,\n",
              "       7.24637939e-03, 5.06850581e-03, 2.61344831e-03, 1.70270117e-03,\n",
              "       7.12758629e-04, 3.95977016e-04])"
            ]
          },
          "metadata": {},
          "execution_count": 13
        }
      ]
    },
    {
      "cell_type": "code",
      "source": [
        "signal_df = pd.DataFrame(index = np.linspace(1,num_bins,num_bins), columns = ['start', 'end', 'mid','freq','label'])\n",
        "signal_df['start'] = intervals[:-1]\n",
        "signal_df['end'] = intervals[1:]\n",
        "signal_df['mid'] = (signal_df['start'] + signal_df['end'])/2\n",
        "signal_df['freq'] = signal_freq\n",
        "signal_df['label'] = 1"
      ],
      "metadata": {
        "id": "gBC0gBlky4ju"
      },
      "execution_count": null,
      "outputs": []
    },
    {
      "cell_type": "code",
      "source": [
        "bg_df = pd.DataFrame(index = np.linspace(1,num_bins,num_bins), columns = ['start', 'end', 'mid','freq'])\n",
        "bg_df['start'] = intervals_2[:-1]\n",
        "bg_df['end'] = intervals_2[1:]\n",
        "bg_df['mid'] = (bg_df['start'] + bg_df['end'])/2\n",
        "bg_df['freq'] = bg_freq\n",
        "bg_df['label'] = 0"
      ],
      "metadata": {
        "id": "dBKYTkO2zk3w"
      },
      "execution_count": null,
      "outputs": []
    },
    {
      "cell_type": "code",
      "source": [
        "plt.bar(signal_df['mid'], signal_df['freq'], width = width, color='blue', ec= 'black',alpha = 0.7)\n",
        "plt.bar(bg_df['mid'], bg_df['freq'], width = width, color='orange', ec= 'black',alpha = 0.7)\n",
        "plt.xlabel(\"Number of bins for each Δη\",fontsize = 14)\n",
        "plt.ylabel(\"Normalized frequency\",fontsize = 14)\n",
        "plt.xticks(fontsize=14)\n",
        "plt.yticks(fontsize=14)\n",
        "plt.title('Signal and Background',fontsize=16)\n",
        "plt.legend(['Signal','Background'],fontsize = 14)\n",
        "plt.show()"
      ],
      "metadata": {
        "id": "Jr0L4L3tuS_v",
        "colab": {
          "base_uri": "https://localhost:8080/",
          "height": 546
        },
        "outputId": "2b270ab2-ff1d-44f1-be66-495f1cd0d065"
      },
      "execution_count": null,
      "outputs": [
        {
          "output_type": "display_data",
          "data": {
            "text/plain": [
              "<Figure size 1440x720 with 1 Axes>"
            ],
            "image/png": "[encoded data removed]"
          },
          "metadata": {}
        }
      ]
    },
    {
      "cell_type": "code",
      "source": [
        "intervals"
      ],
      "metadata": {
        "id": "Nt6UMjBb9UGx"
      },
      "execution_count": null,
      "outputs": []
    },
    {
      "cell_type": "markdown",
      "source": [
        "### Preparing Data for input to Model"
      ],
      "metadata": {
        "id": "QqJI5SGnIsts"
      }
    },
    {
      "cell_type": "code",
      "source": [
        "data = pd.DataFrame(columns = ['Value', 'Probability','Label'])\n",
        "data"
      ],
      "metadata": {
        "colab": {
          "base_uri": "https://localhost:8080/",
          "height": 49
        },
        "id": "wm5gW4li_Jyb",
        "outputId": "36d1fc24-c4fc-48b2-bf7b-3f9c728164b4"
      },
      "execution_count": null,
      "outputs": [
        {
          "output_type": "execute_result",
          "data": {
            "text/plain": [
              "Empty DataFrame\n",
              "Columns: [Value, Probability, Label]\n",
              "Index: []"
            ],
            "text/html": [
              "\n",
              "  <div id=\"df-599fdbfe-bffc-4d2e-91cd-6780571a6776\">\n",
              "    <div class=\"colab-df-container\">\n",
              "      <div>\n",
              "<style scoped>\n",
              "    .dataframe tbody tr th:only-of-type {\n",
              "        vertical-align: middle;\n",
              "    }\n",
              "\n",
              "    .dataframe tbody tr th {\n",
              "        vertical-align: top;\n",
              "    }\n",
              "\n",
              "    .dataframe thead th {\n",
              "        text-align: right;\n",
              "    }\n",
              "</style>\n",
              "<table border=\"1\" class=\"dataframe\">\n",
              "  <thead>\n",
              "    <tr style=\"text-align: right;\">\n",
              "      <th></th>\n",
              "      <th>Value</th>\n",
              "      <th>Probability</th>\n",
              "      <th>Label</th>\n",
              "    </tr>\n",
              "  </thead>\n",
              "  <tbody>\n",
              "  </tbody>\n",
              "</table>\n",
              "</div>\n",
              "      <button class=\"colab-df-convert\" onclick=\"convertToInteractive('df-599fdbfe-bffc-4d2e-91cd-6780571a6776')\"\n",
              "              title=\"Convert this dataframe to an interactive table.\"\n",
              "              style=\"display:none;\">\n",
              "        \n",
              "  <svg xmlns=\"http://www.w3.org/2000/svg\" height=\"24px\"viewBox=\"0 0 24 24\"\n",
              "       width=\"24px\">\n",
              "    <path d=\"M0 0h24v24H0V0z\" fill=\"none\"/>\n",
              "    <path d=\"M18.56 5.44l.94 2.06.94-2.06 2.06-.94-2.06-.94-.94-2.06-.94 2.06-2.06.94zm-11 1L8.5 8.5l.94-2.06 2.06-.94-2.06-.94L8.5 2.5l-.94 2.06-2.06.94zm10 10l.94 2.06.94-2.06 2.06-.94-2.06-.94-.94-2.06-.94 2.06-2.06.94z\"/><path d=\"M17.41 7.96l-1.37-1.37c-.4-.4-.92-.59-1.43-.59-.52 0-1.04.2-1.43.59L10.3 9.45l-7.72 7.72c-.78.78-.78 2.05 0 2.83L4 21.41c.39.39.9.59 1.41.59.51 0 1.02-.2 1.41-.59l7.78-7.78 2.81-2.81c.8-.78.8-2.07 0-2.86zM5.41 20L4 18.59l7.72-7.72 1.47 1.35L5.41 20z\"/>\n",
              "  </svg>\n",
              "      </button>\n",
              "      \n",
              "  <style>\n",
              "    .colab-df-container {\n",
              "      display:flex;\n",
              "      flex-wrap:wrap;\n",
              "      gap: 12px;\n",
              "    }\n",
              "\n",
              "    .colab-df-convert {\n",
              "      background-color: #E8F0FE;\n",
              "      border: none;\n",
              "      border-radius: 50%;\n",
              "      cursor: pointer;\n",
              "      display: none;\n",
              "      fill: #1967D2;\n",
              "      height: 32px;\n",
              "      padding: 0 0 0 0;\n",
              "      width: 32px;\n",
              "    }\n",
              "\n",
              "    .colab-df-convert:hover {\n",
              "      background-color: #E2EBFA;\n",
              "      box-shadow: 0px 1px 2px rgba(60, 64, 67, 0.3), 0px 1px 3px 1px rgba(60, 64, 67, 0.15);\n",
              "      fill: #174EA6;\n",
              "    }\n",
              "\n",
              "    [theme=dark] .colab-df-convert {\n",
              "      background-color: #3B4455;\n",
              "      fill: #D2E3FC;\n",
              "    }\n",
              "\n",
              "    [theme=dark] .colab-df-convert:hover {\n",
              "      background-color: #434B5C;\n",
              "      box-shadow: 0px 1px 3px 1px rgba(0, 0, 0, 0.15);\n",
              "      filter: drop-shadow(0px 1px 2px rgba(0, 0, 0, 0.3));\n",
              "      fill: #FFFFFF;\n",
              "    }\n",
              "  </style>\n",
              "\n",
              "      <script>\n",
              "        const buttonEl =\n",
              "          document.querySelector('#df-599fdbfe-bffc-4d2e-91cd-6780571a6776 button.colab-df-convert');\n",
              "        buttonEl.style.display =\n",
              "          google.colab.kernel.accessAllowed ? 'block' : 'none';\n",
              "\n",
              "        async function convertToInteractive(key) {\n",
              "          const element = document.querySelector('#df-599fdbfe-bffc-4d2e-91cd-6780571a6776');\n",
              "          const dataTable =\n",
              "            await google.colab.kernel.invokeFunction('convertToInteractive',\n",
              "                                                     [key], {});\n",
              "          if (!dataTable) return;\n",
              "\n",
              "          const docLinkHtml = 'Like what you see? Visit the ' +\n",
              "            '<a target=\"_blank\" href=https://colab.research.google.com/notebooks/data_table.ipynb>data table notebook</a>'\n",
              "            + ' to learn more about interactive tables.';\n",
              "          element.innerHTML = '';\n",
              "          dataTable['output_type'] = 'display_data';\n",
              "          await google.colab.output.renderOutput(dataTable, element);\n",
              "          const docLink = document.createElement('div');\n",
              "          docLink.innerHTML = docLinkHtml;\n",
              "          element.appendChild(docLink);\n",
              "        }\n",
              "      </script>\n",
              "    </div>\n",
              "  </div>\n",
              "  "
            ]
          },
          "metadata": {},
          "execution_count": 13
        }
      ]
    },
    {
      "cell_type": "code",
      "source": [
        "signal_dict = {}\n",
        "for index, row in signal_df.iterrows():\n",
        "  signal_dict[row['start']] = row['freq']\n",
        "\n",
        "bg_dict = {}\n",
        "for index, row in bg_df.iterrows():\n",
        "  bg_dict[row['start']] = row['freq']"
      ],
      "metadata": {
        "id": "H5pskOeORtYi"
      },
      "execution_count": null,
      "outputs": []
    },
    {
      "cell_type": "code",
      "source": [
        "data = {}\n",
        "for index, row in tqdm(signal.iterrows()):\n",
        "  val = row['Value']\n",
        "  eps = 1e-7\n",
        "  idx = np.searchsorted(intervals,val-eps,side = 'right')\n",
        "  left = intervals[idx-1]\n",
        "  if(left==intervals[-1]):\n",
        "    left = intervals[-2]\n",
        "  d = {'Value': val,'Probability':signal_dict[left],'Label':1}\n",
        "  data[index] = d"
      ],
      "metadata": {
        "colab": {
          "base_uri": "https://localhost:8080/"
        },
        "id": "ViV8Zbfo53TE",
        "outputId": "5e90a247-2231-41a1-a586-6de4a0baa756"
      },
      "execution_count": null,
      "outputs": [
        {
          "output_type": "stream",
          "name": "stderr",
          "text": [
            "122854it [00:13, 8873.02it/s]\n"
          ]
        }
      ]
    },
    {
      "cell_type": "code",
      "source": [
        "data2 = {}\n",
        "for index, row in tqdm(bg.iterrows()):\n",
        "  val = row['Value']\n",
        "  eps = 1e-7\n",
        "  idx = np.searchsorted(intervals_2,val-eps,side = 'right')\n",
        "  left = intervals_2[idx-1]\n",
        "  if(left==intervals_2[-1]):\n",
        "    left = intervals_2[-2]\n",
        "  d = {'Value': val,'Probability':bg_dict[left],'Label':0}\n",
        "  data2[index] = d"
      ],
      "metadata": {
        "colab": {
          "base_uri": "https://localhost:8080/"
        },
        "id": "Hjy7f-rUYmSR",
        "outputId": "441d86a6-6aea-412e-d49f-8ee573220045"
      },
      "execution_count": null,
      "outputs": [
        {
          "output_type": "stream",
          "name": "stderr",
          "text": [
            "133619it [00:10, 13035.26it/s]\n"
          ]
        }
      ]
    },
    {
      "cell_type": "code",
      "source": [
        "data = pd.concat([pd.DataFrame(data).T,pd.DataFrame(data2).T],ignore_index=True)"
      ],
      "metadata": {
        "id": "mBo_tzgWZClk"
      },
      "execution_count": null,
      "outputs": []
    },
    {
      "cell_type": "code",
      "source": [
        "data = data.sample(frac = 1).reset_index(drop=True)\n",
        "data"
      ],
      "metadata": {
        "colab": {
          "base_uri": "https://localhost:8080/",
          "height": 419
        },
        "id": "nhZN8fjOvTMP",
        "outputId": "b81eedf5-c868-415c-abd4-fa4e59e1f8ef"
      },
      "execution_count": null,
      "outputs": [
        {
          "output_type": "execute_result",
          "data": {
            "text/plain": [
              "        Value  Probability  Label\n",
              "0      -0.891     0.241269    0.0\n",
              "1      -0.193     0.278452    1.0\n",
              "2       1.560     0.273660    0.0\n",
              "3       0.845     0.233165    1.0\n",
              "4       1.860     0.122727    1.0\n",
              "...       ...          ...    ...\n",
              "256468  1.450     0.297102    0.0\n",
              "256469 -1.080     0.275758    0.0\n",
              "256470 -2.530     0.055766    1.0\n",
              "256471  1.300     0.297102    0.0\n",
              "256472  1.150     0.188090    1.0\n",
              "\n",
              "[256473 rows x 3 columns]"
            ],
            "text/html": [
              "\n",
              "  <div id=\"df-6e43eb6d-be7e-41dc-bd2b-932b60af4728\">\n",
              "    <div class=\"colab-df-container\">\n",
              "      <div>\n",
              "<style scoped>\n",
              "    .dataframe tbody tr th:only-of-type {\n",
              "        vertical-align: middle;\n",
              "    }\n",
              "\n",
              "    .dataframe tbody tr th {\n",
              "        vertical-align: top;\n",
              "    }\n",
              "\n",
              "    .dataframe thead th {\n",
              "        text-align: right;\n",
              "    }\n",
              "</style>\n",
              "<table border=\"1\" class=\"dataframe\">\n",
              "  <thead>\n",
              "    <tr style=\"text-align: right;\">\n",
              "      <th></th>\n",
              "      <th>Value</th>\n",
              "      <th>Probability</th>\n",
              "      <th>Label</th>\n",
              "    </tr>\n",
              "  </thead>\n",
              "  <tbody>\n",
              "    <tr>\n",
              "      <th>0</th>\n",
              "      <td>-0.891</td>\n",
              "      <td>0.241269</td>\n",
              "      <td>0.0</td>\n",
              "    </tr>\n",
              "    <tr>\n",
              "      <th>1</th>\n",
              "      <td>-0.193</td>\n",
              "      <td>0.278452</td>\n",
              "      <td>1.0</td>\n",
              "    </tr>\n",
              "    <tr>\n",
              "      <th>2</th>\n",
              "      <td>1.560</td>\n",
              "      <td>0.273660</td>\n",
              "      <td>0.0</td>\n",
              "    </tr>\n",
              "    <tr>\n",
              "      <th>3</th>\n",
              "      <td>0.845</td>\n",
              "      <td>0.233165</td>\n",
              "      <td>1.0</td>\n",
              "    </tr>\n",
              "    <tr>\n",
              "      <th>4</th>\n",
              "      <td>1.860</td>\n",
              "      <td>0.122727</td>\n",
              "      <td>1.0</td>\n",
              "    </tr>\n",
              "    <tr>\n",
              "      <th>...</th>\n",
              "      <td>...</td>\n",
              "      <td>...</td>\n",
              "      <td>...</td>\n",
              "    </tr>\n",
              "    <tr>\n",
              "      <th>256468</th>\n",
              "      <td>1.450</td>\n",
              "      <td>0.297102</td>\n",
              "      <td>0.0</td>\n",
              "    </tr>\n",
              "    <tr>\n",
              "      <th>256469</th>\n",
              "      <td>-1.080</td>\n",
              "      <td>0.275758</td>\n",
              "      <td>0.0</td>\n",
              "    </tr>\n",
              "    <tr>\n",
              "      <th>256470</th>\n",
              "      <td>-2.530</td>\n",
              "      <td>0.055766</td>\n",
              "      <td>1.0</td>\n",
              "    </tr>\n",
              "    <tr>\n",
              "      <th>256471</th>\n",
              "      <td>1.300</td>\n",
              "      <td>0.297102</td>\n",
              "      <td>0.0</td>\n",
              "    </tr>\n",
              "    <tr>\n",
              "      <th>256472</th>\n",
              "      <td>1.150</td>\n",
              "      <td>0.188090</td>\n",
              "      <td>1.0</td>\n",
              "    </tr>\n",
              "  </tbody>\n",
              "</table>\n",
              "<p>256473 rows × 3 columns</p>\n",
              "</div>\n",
              "      <button class=\"colab-df-convert\" onclick=\"convertToInteractive('df-6e43eb6d-be7e-41dc-bd2b-932b60af4728')\"\n",
              "              title=\"Convert this dataframe to an interactive table.\"\n",
              "              style=\"display:none;\">\n",
              "        \n",
              "  <svg xmlns=\"http://www.w3.org/2000/svg\" height=\"24px\"viewBox=\"0 0 24 24\"\n",
              "       width=\"24px\">\n",
              "    <path d=\"M0 0h24v24H0V0z\" fill=\"none\"/>\n",
              "    <path d=\"M18.56 5.44l.94 2.06.94-2.06 2.06-.94-2.06-.94-.94-2.06-.94 2.06-2.06.94zm-11 1L8.5 8.5l.94-2.06 2.06-.94-2.06-.94L8.5 2.5l-.94 2.06-2.06.94zm10 10l.94 2.06.94-2.06 2.06-.94-2.06-.94-.94-2.06-.94 2.06-2.06.94z\"/><path d=\"M17.41 7.96l-1.37-1.37c-.4-.4-.92-.59-1.43-.59-.52 0-1.04.2-1.43.59L10.3 9.45l-7.72 7.72c-.78.78-.78 2.05 0 2.83L4 21.41c.39.39.9.59 1.41.59.51 0 1.02-.2 1.41-.59l7.78-7.78 2.81-2.81c.8-.78.8-2.07 0-2.86zM5.41 20L4 18.59l7.72-7.72 1.47 1.35L5.41 20z\"/>\n",
              "  </svg>\n",
              "      </button>\n",
              "      \n",
              "  <style>\n",
              "    .colab-df-container {\n",
              "      display:flex;\n",
              "      flex-wrap:wrap;\n",
              "      gap: 12px;\n",
              "    }\n",
              "\n",
              "    .colab-df-convert {\n",
              "      background-color: #E8F0FE;\n",
              "      border: none;\n",
              "      border-radius: 50%;\n",
              "      cursor: pointer;\n",
              "      display: none;\n",
              "      fill: #1967D2;\n",
              "      height: 32px;\n",
              "      padding: 0 0 0 0;\n",
              "      width: 32px;\n",
              "    }\n",
              "\n",
              "    .colab-df-convert:hover {\n",
              "      background-color: #E2EBFA;\n",
              "      box-shadow: 0px 1px 2px rgba(60, 64, 67, 0.3), 0px 1px 3px 1px rgba(60, 64, 67, 0.15);\n",
              "      fill: #174EA6;\n",
              "    }\n",
              "\n",
              "    [theme=dark] .colab-df-convert {\n",
              "      background-color: #3B4455;\n",
              "      fill: #D2E3FC;\n",
              "    }\n",
              "\n",
              "    [theme=dark] .colab-df-convert:hover {\n",
              "      background-color: #434B5C;\n",
              "      box-shadow: 0px 1px 3px 1px rgba(0, 0, 0, 0.15);\n",
              "      filter: drop-shadow(0px 1px 2px rgba(0, 0, 0, 0.3));\n",
              "      fill: #FFFFFF;\n",
              "    }\n",
              "  </style>\n",
              "\n",
              "      <script>\n",
              "        const buttonEl =\n",
              "          document.querySelector('#df-6e43eb6d-be7e-41dc-bd2b-932b60af4728 button.colab-df-convert');\n",
              "        buttonEl.style.display =\n",
              "          google.colab.kernel.accessAllowed ? 'block' : 'none';\n",
              "\n",
              "        async function convertToInteractive(key) {\n",
              "          const element = document.querySelector('#df-6e43eb6d-be7e-41dc-bd2b-932b60af4728');\n",
              "          const dataTable =\n",
              "            await google.colab.kernel.invokeFunction('convertToInteractive',\n",
              "                                                     [key], {});\n",
              "          if (!dataTable) return;\n",
              "\n",
              "          const docLinkHtml = 'Like what you see? Visit the ' +\n",
              "            '<a target=\"_blank\" href=https://colab.research.google.com/notebooks/data_table.ipynb>data table notebook</a>'\n",
              "            + ' to learn more about interactive tables.';\n",
              "          element.innerHTML = '';\n",
              "          dataTable['output_type'] = 'display_data';\n",
              "          await google.colab.output.renderOutput(dataTable, element);\n",
              "          const docLink = document.createElement('div');\n",
              "          docLink.innerHTML = docLinkHtml;\n",
              "          element.appendChild(docLink);\n",
              "        }\n",
              "      </script>\n",
              "    </div>\n",
              "  </div>\n",
              "  "
            ]
          },
          "metadata": {},
          "execution_count": 24
        }
      ]
    },
    {
      "cell_type": "code",
      "source": [
        "data = torch.tensor(data.to_numpy(), dtype = torch.float32)"
      ],
      "metadata": {
        "id": "-Ad2-9Bl3fnl"
      },
      "execution_count": null,
      "outputs": []
    },
    {
      "cell_type": "code",
      "source": [
        "x_train, x_test, y_train, y_test = train_test_split(data[:,:-1], \n",
        "                                                    data[:,-1], \n",
        "                                                    random_state = 1,\n",
        "                                                    stratify = data[:,-1]\n",
        "                                                   )"
      ],
      "metadata": {
        "id": "Jv6uSaWK4kp-"
      },
      "execution_count": null,
      "outputs": []
    },
    {
      "cell_type": "markdown",
      "source": [
        "## **Neural Network with 1 hidden layer**"
      ],
      "metadata": {
        "id": "4OkAtS4PI1Mi"
      }
    },
    {
      "cell_type": "code",
      "source": [
        "n_input, n_hidden, n_out, learning_rate, num_epochs = 2, 112, 1, 0.03598887220487900, 500"
      ],
      "metadata": {
        "id": "YVawYIma4lSZ"
      },
      "execution_count": null,
      "outputs": []
    },
    {
      "cell_type": "code",
      "source": [
        "def build_model(params):\n",
        "    model = nn.Sequential(nn.Linear(n_input, params['n_hidden']),\n",
        "                          nn.ReLU(),\n",
        "                          nn.Linear(params['n_hidden'], n_out),\n",
        "                          nn.Sigmoid())\n",
        "    if(params['optimizer']=='Adam'):\n",
        "      optimizer = torch.optim.Adam(model.parameters(), lr = params['learning_rate'])\n",
        "    if(params['optimizer']=='RMSprop'):\n",
        "      optimizer = torch.optim.RMSprop(model.parameters(), lr = params['learning_rate'])\n",
        "    if(params['optimizer']=='SGD'):\n",
        "      optimizer = torch.optim.SGD(model.parameters(), lr = params['learning_rate'])\n",
        "    print(model)\n",
        "    return model,optimizer\n",
        "\n",
        "params = {'n_hidden':n_hidden,'optimizer':\"Adam\",'learning_rate':learning_rate}\n",
        "model,optimizer = build_model(params)"
      ],
      "metadata": {
        "colab": {
          "base_uri": "https://localhost:8080/"
        },
        "id": "UKfGbEOm5Q3U",
        "outputId": "68125869-387f-4f8d-d8d6-8544ed54c31f"
      },
      "execution_count": null,
      "outputs": [
        {
          "output_type": "stream",
          "name": "stdout",
          "text": [
            "Sequential(\n",
            "  (0): Linear(in_features=2, out_features=112, bias=True)\n",
            "  (1): ReLU()\n",
            "  (2): Linear(in_features=112, out_features=1, bias=True)\n",
            "  (3): Sigmoid()\n",
            ")\n"
          ]
        }
      ]
    },
    {
      "cell_type": "code",
      "source": [
        "def train(params, model, optimizer, show_plot = True):\n",
        "\n",
        "  losses = []\n",
        "  loss_fxn = nn.BCELoss()\n",
        "  model.train()\n",
        "\n",
        "  for epoch in tqdm(range(num_epochs)):\n",
        "      optimizer.zero_grad()\n",
        "      pred_y = model(x_train)\n",
        "      loss = loss_fxn(torch.squeeze(pred_y), y_train)\n",
        "      losses.append(loss.item())\n",
        "      loss.backward()\n",
        "      optimizer.step()\n",
        "      \n",
        "  if(show_plot):\n",
        "    plt.plot(losses)\n",
        "    plt.ylabel('Loss')\n",
        "    plt.xlabel('Epoch')\n",
        "    plt.title('Loss function vs Epochs',fontsize=14)\n",
        "    plt.savefig('best_model_loss.png')\n",
        "    plt.show()\n",
        "  return losses\n",
        "\n",
        "# losses = train(params,model,optimizer)"
      ],
      "metadata": {
        "colab": {
          "base_uri": "https://localhost:8080/",
          "height": 661
        },
        "id": "kL63DA7_gYzR",
        "outputId": "5c8dadad-b12c-4147-dca6-1bdc676c6082"
      },
      "execution_count": null,
      "outputs": [
        {
          "output_type": "stream",
          "name": "stderr",
          "text": [
            "100%|██████████| 500/500 [01:25<00:00,  5.84it/s]\n"
          ]
        },
        {
          "output_type": "display_data",
          "data": {
            "text/plain": [
              "<Figure size 1440x720 with 1 Axes>"
            ],
            "image/png": "[encoded data removed]"
          },
          "metadata": {}
        }
      ]
    },
    {
      "cell_type": "code",
      "source": [
        "def evaluate(model):\n",
        "  model.eval()\n",
        "  y_save = []\n",
        "  with torch.no_grad():\n",
        "      y_pred = model(x_test).numpy()\n",
        "      y_save = y_pred.copy()\n",
        "      y_pred[y_pred <= 0.5] = 0\n",
        "      y_pred[y_pred > 0.5] = 1\n",
        "  return y_pred, y_save\n",
        "\n",
        "# y_pred, y_save = evaluate(model)"
      ],
      "metadata": {
        "id": "xajvPyqMhIC8"
      },
      "execution_count": null,
      "outputs": []
    },
    {
      "cell_type": "code",
      "source": [
        "def train_and_evaluate(params, model, optimizer):\n",
        "  losses = train(params,model,optimizer,False)\n",
        "  y_pred, y_save = evaluate(model)\n",
        "  return accuracy_score(y_pred, y_test), y_pred, y_save, losses"
      ],
      "metadata": {
        "id": "9DQTnkoN0F0b"
      },
      "execution_count": null,
      "outputs": []
    },
    {
      "cell_type": "code",
      "source": [
        "accuracy, y_pred, y_save, losses = train_and_evaluate(params,model,optimizer)\n",
        "print('')\n",
        "print('Accuracy: ',accuracy)"
      ],
      "metadata": {
        "colab": {
          "base_uri": "https://localhost:8080/"
        },
        "id": "xRRnjIWf0ZuR",
        "outputId": "98f3fdcf-37a3-4c01-bad3-06742379e9a6"
      },
      "execution_count": null,
      "outputs": [
        {
          "output_type": "stream",
          "name": "stderr",
          "text": [
            "100%|██████████| 500/500 [01:29<00:00,  5.59it/s]\n"
          ]
        },
        {
          "output_type": "stream",
          "name": "stdout",
          "text": [
            "\n",
            "Accuracy:  0.9683089255914783\n"
          ]
        }
      ]
    },
    {
      "cell_type": "code",
      "source": [
        "def plot_roc(y_test,y_save):\n",
        "  fpr = dict()\n",
        "  tpr = dict()\n",
        "  roc_auc = dict()\n",
        "  fpr, tpr, _ = roc_curve(y_test.detach().numpy(), np.array(y_save))\n",
        "  roc_auc = auc(fpr, tpr)\n",
        "  plt.figure()\n",
        "  lw = 3\n",
        "  plt.plot(\n",
        "      fpr,\n",
        "      tpr,\n",
        "      color=\"darkorange\",\n",
        "      lw=lw,\n",
        "      label=\"ROC curve (area = %0.4f)\" % roc_auc,\n",
        "  )\n",
        "  plt.plot([0, 1], [0, 1], color=\"navy\", lw=lw, linestyle=\"--\")\n",
        "  plt.xlim([0.0, 1.0])\n",
        "  plt.ylim([0.0, 1.05])\n",
        "  plt.xlabel(\"False Positive Rate\")\n",
        "  plt.ylabel(\"True Positive Rate\")\n",
        "  plt.title(\"ROC Curve\")\n",
        "  plt.legend(loc=\"lower right\")\n",
        "  plt.savefig('best_model_roc.png')\n",
        "  plt.show()\n",
        "\n",
        "plot_roc(y_test,y_save)"
      ],
      "metadata": {
        "colab": {
          "base_uri": "https://localhost:8080/",
          "height": 568
        },
        "id": "EzrHDuZ22iPi",
        "outputId": "cdcba3f0-8380-4e7c-80d8-021c918c4be4"
      },
      "execution_count": null,
      "outputs": [
        {
          "output_type": "display_data",
          "data": {
            "text/plain": [
              "<Figure size 1440x720 with 1 Axes>"
            ],
            "image/png": "[encoded data removed]"
          },
          "metadata": {}
        }
      ]
    },
    {
      "cell_type": "code",
      "source": [
        "class Logistic_Reg_model(torch.nn.Module):\n",
        "  def __init__(self,no_input_features):\n",
        "    super(Logistic_Reg_model,self).__init__()\n",
        "    self.layer1 = torch.nn.Linear(no_input_features,20)\n",
        "    self.layer2 = torch.nn.Linear(20,1)\n",
        "    \n",
        "  def forward(self,x):\n",
        "    y_predicted = self.layer1(x)\n",
        "    y_predicted = torch.sigmoid(self.layer2(y_predicted))\n",
        "    return y_predicted\n",
        "\n",
        "model_lr = Logistic_Reg_model(2)"
      ],
      "metadata": {
        "id": "NRU6ZsYfouvH"
      },
      "execution_count": null,
      "outputs": []
    },
    {
      "cell_type": "code",
      "source": [
        "optimizer = torch.optim.Adam(model_lr.parameters(), lr = 0.1)"
      ],
      "metadata": {
        "id": "qlaHbuSSwOqk",
        "colab": {
          "base_uri": "https://localhost:8080/",
          "height": 169
        },
        "outputId": "1b60134a-01bd-4223-f5ec-fb87003b8753"
      },
      "execution_count": null,
      "outputs": [
        {
          "output_type": "error",
          "ename": "NameError",
          "evalue": "ignored",
          "traceback": [
            "\u001b[0;31m---------------------------------------------------------------------------\u001b[0m",
            "\u001b[0;31mNameError\u001b[0m                                 Traceback (most recent call last)",
            "\u001b[0;32m<ipython-input-1-0523dceed3fd>\u001b[0m in \u001b[0;36m<module>\u001b[0;34m\u001b[0m\n\u001b[0;32m----> 1\u001b[0;31m \u001b[0moptimizer\u001b[0m \u001b[0;34m=\u001b[0m \u001b[0mtorch\u001b[0m\u001b[0;34m.\u001b[0m\u001b[0moptim\u001b[0m\u001b[0;34m.\u001b[0m\u001b[0mAdam\u001b[0m\u001b[0;34m(\u001b[0m\u001b[0mmodel_lr\u001b[0m\u001b[0;34m.\u001b[0m\u001b[0mparameters\u001b[0m\u001b[0;34m(\u001b[0m\u001b[0;34m)\u001b[0m\u001b[0;34m,\u001b[0m \u001b[0mlr\u001b[0m \u001b[0;34m=\u001b[0m \u001b[0;36m0.1\u001b[0m\u001b[0;34m)\u001b[0m\u001b[0;34m\u001b[0m\u001b[0;34m\u001b[0m\u001b[0m\n\u001b[0m",
            "\u001b[0;31mNameError\u001b[0m: name 'torch' is not defined"
          ]
        }
      ]
    },
    {
      "cell_type": "code",
      "source": [
        "def train(model, optimizer, show_plot = True):\n",
        "  \n",
        "  losses = []\n",
        "  loss_fxn = nn.BCELoss()\n",
        "  model.train()\n",
        "\n",
        "  for epoch in tqdm(range(500)):\n",
        "    optimizer.zero_grad()\n",
        "    pred_y = model(x_train)\n",
        "    loss = loss_fxn(torch.squeeze(pred_y), y_train)\n",
        "    losses.append(loss.item())\n",
        "    loss.backward()\n",
        "    optimizer.step()\n",
        "    \n",
        "  if(show_plot):\n",
        "    plt.plot(losses)\n",
        "    plt.ylabel('Loss')\n",
        "    plt.xlabel('Epoch')\n",
        "    plt.title('Loss function vs Epochs',fontsize=14)\n",
        "    plt.savefig('best_model_loss.png')\n",
        "    plt.show()\n",
        "    \n",
        "  return losses\n",
        "\n",
        "losses = train(model_lr, optimizer)"
      ],
      "metadata": {
        "id": "2NfLVbSXx97R",
        "outputId": "a69f6dac-c85b-442f-f8bf-2eb18d098ca1",
        "colab": {
          "base_uri": "https://localhost:8080/",
          "height": 543
        }
      },
      "execution_count": null,
      "outputs": [
        {
          "output_type": "stream",
          "name": "stderr",
          "text": [
            "100%|██████████| 500/500 [00:13<00:00, 36.91it/s]\n"
          ]
        },
        {
          "output_type": "display_data",
          "data": {
            "text/plain": [
              "<Figure size 1440x720 with 1 Axes>"
            ],
            "image/png": "[encoded data removed]"
          },
          "metadata": {}
        }
      ]
    },
    {
      "cell_type": "markdown",
      "source": [
        "###Maximizing the accuracy using Optuna"
      ],
      "metadata": {
        "id": "0YL3t9MDwH2x"
      }
    },
    {
      "cell_type": "code",
      "source": [
        "def objective(trial):\n",
        "    params = {\n",
        "              'n_hidden': trial.suggest_int('n_hidden', 4, 128),\n",
        "              'learning_rate': trial.suggest_loguniform('learning_rate', 1e-3, 0.5),\n",
        "              'optimizer': trial.suggest_categorical('optimizer', ['Adam', 'RMSprop', 'SGD']),\n",
        "              }\n",
        "    \n",
        "    model,optimizer = build_model(params)\n",
        "    accuracy,_,_,_ = train_and_evaluate(params, model,optimizer)\n",
        "\n",
        "    return accuracy"
      ],
      "metadata": {
        "id": "4bTVulWbwgbk"
      },
      "execution_count": null,
      "outputs": []
    },
    {
      "cell_type": "code",
      "source": [
        "# study = optuna.create_study(direction=\"maximize\", sampler=optuna.samplers.TPESampler())\n",
        "# study.optimize(objective, n_trials=30)"
      ],
      "metadata": {
        "colab": {
          "base_uri": "https://localhost:8080/"
        },
        "id": "DqIe3b4pol_I",
        "outputId": "50588c8a-9250-42d2-9024-8aa58b07da59"
      },
      "execution_count": null,
      "outputs": [
        {
          "output_type": "stream",
          "name": "stderr",
          "text": [
            "\u001b[32m[I 2022-09-23 19:52:24,244]\u001b[0m A new study created in memory with name: no-name-1890b1dc-2a50-4ba1-875e-cdfd51cd5ca0\u001b[0m\n",
            "/usr/local/lib/python3.7/dist-packages/ipykernel_launcher.py:4: FutureWarning: suggest_loguniform has been deprecated in v3.0.0. This feature will be removed in v6.0.0. See https://github.com/optuna/optuna/releases/tag/v3.0.0. Use :func:`~optuna.trial.Trial.suggest_float` instead.\n",
            "  after removing the cwd from sys.path.\n"
          ]
        },
        {
          "output_type": "stream",
          "name": "stdout",
          "text": [
            "Sequential(\n",
            "  (0): Linear(in_features=2, out_features=98, bias=True)\n",
            "  (1): ReLU()\n",
            "  (2): Linear(in_features=98, out_features=1, bias=True)\n",
            "  (3): Sigmoid()\n",
            ")\n"
          ]
        },
        {
          "output_type": "stream",
          "name": "stderr",
          "text": [
            "100%|██████████| 500/500 [01:13<00:00,  6.83it/s]\n",
            "\u001b[32m[I 2022-09-23 19:53:37,501]\u001b[0m Trial 0 finished with value: 0.6378920444797954 and parameters: {'n_hidden': 98, 'learning_rate': 0.2974787338618753, 'optimizer': 'SGD'}. Best is trial 0 with value: 0.6378920444797954.\u001b[0m\n",
            "/usr/local/lib/python3.7/dist-packages/ipykernel_launcher.py:4: FutureWarning: suggest_loguniform has been deprecated in v3.0.0. This feature will be removed in v6.0.0. See https://github.com/optuna/optuna/releases/tag/v3.0.0. Use :func:`~optuna.trial.Trial.suggest_float` instead.\n",
            "  after removing the cwd from sys.path.\n"
          ]
        },
        {
          "output_type": "stream",
          "name": "stdout",
          "text": [
            "Sequential(\n",
            "  (0): Linear(in_features=2, out_features=76, bias=True)\n",
            "  (1): ReLU()\n",
            "  (2): Linear(in_features=76, out_features=1, bias=True)\n",
            "  (3): Sigmoid()\n",
            ")\n"
          ]
        },
        {
          "output_type": "stream",
          "name": "stderr",
          "text": [
            "100%|██████████| 500/500 [01:10<00:00,  7.10it/s]\n",
            "\u001b[32m[I 2022-09-23 19:54:47,941]\u001b[0m Trial 1 finished with value: 0.658993434083501 and parameters: {'n_hidden': 76, 'learning_rate': 0.12827425933783632, 'optimizer': 'SGD'}. Best is trial 1 with value: 0.658993434083501.\u001b[0m\n",
            "/usr/local/lib/python3.7/dist-packages/ipykernel_launcher.py:4: FutureWarning: suggest_loguniform has been deprecated in v3.0.0. This feature will be removed in v6.0.0. See https://github.com/optuna/optuna/releases/tag/v3.0.0. Use :func:`~optuna.trial.Trial.suggest_float` instead.\n",
            "  after removing the cwd from sys.path.\n"
          ]
        },
        {
          "output_type": "stream",
          "name": "stdout",
          "text": [
            "Sequential(\n",
            "  (0): Linear(in_features=2, out_features=15, bias=True)\n",
            "  (1): ReLU()\n",
            "  (2): Linear(in_features=15, out_features=1, bias=True)\n",
            "  (3): Sigmoid()\n",
            ")\n"
          ]
        },
        {
          "output_type": "stream",
          "name": "stderr",
          "text": [
            "100%|██████████| 500/500 [00:17<00:00, 28.64it/s]\n",
            "\u001b[32m[I 2022-09-23 19:55:05,434]\u001b[0m Trial 2 finished with value: 0.8602754253809324 and parameters: {'n_hidden': 15, 'learning_rate': 0.004446329002890748, 'optimizer': 'RMSprop'}. Best is trial 2 with value: 0.8602754253809324.\u001b[0m\n",
            "/usr/local/lib/python3.7/dist-packages/ipykernel_launcher.py:4: FutureWarning: suggest_loguniform has been deprecated in v3.0.0. This feature will be removed in v6.0.0. See https://github.com/optuna/optuna/releases/tag/v3.0.0. Use :func:`~optuna.trial.Trial.suggest_float` instead.\n",
            "  after removing the cwd from sys.path.\n"
          ]
        },
        {
          "output_type": "stream",
          "name": "stdout",
          "text": [
            "Sequential(\n",
            "  (0): Linear(in_features=2, out_features=45, bias=True)\n",
            "  (1): ReLU()\n",
            "  (2): Linear(in_features=45, out_features=1, bias=True)\n",
            "  (3): Sigmoid()\n",
            ")\n"
          ]
        },
        {
          "output_type": "stream",
          "name": "stderr",
          "text": [
            "100%|██████████| 500/500 [00:51<00:00,  9.67it/s]\n",
            "\u001b[32m[I 2022-09-23 19:55:57,176]\u001b[0m Trial 3 finished with value: 0.8376144356586971 and parameters: {'n_hidden': 45, 'learning_rate': 0.008956919381978437, 'optimizer': 'RMSprop'}. Best is trial 2 with value: 0.8602754253809324.\u001b[0m\n",
            "/usr/local/lib/python3.7/dist-packages/ipykernel_launcher.py:4: FutureWarning: suggest_loguniform has been deprecated in v3.0.0. This feature will be removed in v6.0.0. See https://github.com/optuna/optuna/releases/tag/v3.0.0. Use :func:`~optuna.trial.Trial.suggest_float` instead.\n",
            "  after removing the cwd from sys.path.\n"
          ]
        },
        {
          "output_type": "stream",
          "name": "stdout",
          "text": [
            "Sequential(\n",
            "  (0): Linear(in_features=2, out_features=52, bias=True)\n",
            "  (1): ReLU()\n",
            "  (2): Linear(in_features=52, out_features=1, bias=True)\n",
            "  (3): Sigmoid()\n",
            ")\n"
          ]
        },
        {
          "output_type": "stream",
          "name": "stderr",
          "text": [
            "100%|██████████| 500/500 [00:55<00:00,  9.01it/s]\n",
            "\u001b[32m[I 2022-09-23 19:56:52,739]\u001b[0m Trial 4 finished with value: 0.563389946817636 and parameters: {'n_hidden': 52, 'learning_rate': 0.004130082798527253, 'optimizer': 'SGD'}. Best is trial 2 with value: 0.8602754253809324.\u001b[0m\n",
            "/usr/local/lib/python3.7/dist-packages/ipykernel_launcher.py:4: FutureWarning: suggest_loguniform has been deprecated in v3.0.0. This feature will be removed in v6.0.0. See https://github.com/optuna/optuna/releases/tag/v3.0.0. Use :func:`~optuna.trial.Trial.suggest_float` instead.\n",
            "  after removing the cwd from sys.path.\n"
          ]
        },
        {
          "output_type": "stream",
          "name": "stdout",
          "text": [
            "Sequential(\n",
            "  (0): Linear(in_features=2, out_features=119, bias=True)\n",
            "  (1): ReLU()\n",
            "  (2): Linear(in_features=119, out_features=1, bias=True)\n",
            "  (3): Sigmoid()\n",
            ")\n"
          ]
        },
        {
          "output_type": "stream",
          "name": "stderr",
          "text": [
            "100%|██████████| 500/500 [02:02<00:00,  4.10it/s]\n",
            "\u001b[32m[I 2022-09-23 19:58:54,842]\u001b[0m Trial 5 finished with value: 0.8834666791434677 and parameters: {'n_hidden': 119, 'learning_rate': 0.024268874389818083, 'optimizer': 'RMSprop'}. Best is trial 5 with value: 0.8834666791434677.\u001b[0m\n",
            "/usr/local/lib/python3.7/dist-packages/ipykernel_launcher.py:4: FutureWarning: suggest_loguniform has been deprecated in v3.0.0. This feature will be removed in v6.0.0. See https://github.com/optuna/optuna/releases/tag/v3.0.0. Use :func:`~optuna.trial.Trial.suggest_float` instead.\n",
            "  after removing the cwd from sys.path.\n"
          ]
        },
        {
          "output_type": "stream",
          "name": "stdout",
          "text": [
            "Sequential(\n",
            "  (0): Linear(in_features=2, out_features=54, bias=True)\n",
            "  (1): ReLU()\n",
            "  (2): Linear(in_features=54, out_features=1, bias=True)\n",
            "  (3): Sigmoid()\n",
            ")\n"
          ]
        },
        {
          "output_type": "stream",
          "name": "stderr",
          "text": [
            "100%|██████████| 500/500 [00:56<00:00,  8.93it/s]\n",
            "\u001b[32m[I 2022-09-23 19:59:50,890]\u001b[0m Trial 6 finished with value: 0.8381602957001825 and parameters: {'n_hidden': 54, 'learning_rate': 0.007755953330658096, 'optimizer': 'RMSprop'}. Best is trial 5 with value: 0.8834666791434677.\u001b[0m\n",
            "/usr/local/lib/python3.7/dist-packages/ipykernel_launcher.py:4: FutureWarning: suggest_loguniform has been deprecated in v3.0.0. This feature will be removed in v6.0.0. See https://github.com/optuna/optuna/releases/tag/v3.0.0. Use :func:`~optuna.trial.Trial.suggest_float` instead.\n",
            "  after removing the cwd from sys.path.\n"
          ]
        },
        {
          "output_type": "stream",
          "name": "stdout",
          "text": [
            "Sequential(\n",
            "  (0): Linear(in_features=2, out_features=69, bias=True)\n",
            "  (1): ReLU()\n",
            "  (2): Linear(in_features=69, out_features=1, bias=True)\n",
            "  (3): Sigmoid()\n",
            ")\n"
          ]
        },
        {
          "output_type": "stream",
          "name": "stderr",
          "text": [
            "100%|██████████| 500/500 [00:53<00:00,  9.33it/s]\n",
            "\u001b[32m[I 2022-09-23 20:00:44,549]\u001b[0m Trial 7 finished with value: 0.8318907032236934 and parameters: {'n_hidden': 69, 'learning_rate': 0.026818144099998973, 'optimizer': 'RMSprop'}. Best is trial 5 with value: 0.8834666791434677.\u001b[0m\n",
            "/usr/local/lib/python3.7/dist-packages/ipykernel_launcher.py:4: FutureWarning: suggest_loguniform has been deprecated in v3.0.0. This feature will be removed in v6.0.0. See https://github.com/optuna/optuna/releases/tag/v3.0.0. Use :func:`~optuna.trial.Trial.suggest_float` instead.\n",
            "  after removing the cwd from sys.path.\n"
          ]
        },
        {
          "output_type": "stream",
          "name": "stdout",
          "text": [
            "Sequential(\n",
            "  (0): Linear(in_features=2, out_features=97, bias=True)\n",
            "  (1): ReLU()\n",
            "  (2): Linear(in_features=97, out_features=1, bias=True)\n",
            "  (3): Sigmoid()\n",
            ")\n"
          ]
        },
        {
          "output_type": "stream",
          "name": "stderr",
          "text": [
            "100%|██████████| 500/500 [01:12<00:00,  6.88it/s]\n",
            "\u001b[32m[I 2022-09-23 20:01:57,291]\u001b[0m Trial 8 finished with value: 0.6377984684726836 and parameters: {'n_hidden': 97, 'learning_rate': 0.0024160698288269965, 'optimizer': 'SGD'}. Best is trial 5 with value: 0.8834666791434677.\u001b[0m\n",
            "/usr/local/lib/python3.7/dist-packages/ipykernel_launcher.py:4: FutureWarning: suggest_loguniform has been deprecated in v3.0.0. This feature will be removed in v6.0.0. See https://github.com/optuna/optuna/releases/tag/v3.0.0. Use :func:`~optuna.trial.Trial.suggest_float` instead.\n",
            "  after removing the cwd from sys.path.\n"
          ]
        },
        {
          "output_type": "stream",
          "name": "stdout",
          "text": [
            "Sequential(\n",
            "  (0): Linear(in_features=2, out_features=44, bias=True)\n",
            "  (1): ReLU()\n",
            "  (2): Linear(in_features=44, out_features=1, bias=True)\n",
            "  (3): Sigmoid()\n",
            ")\n"
          ]
        },
        {
          "output_type": "stream",
          "name": "stderr",
          "text": [
            "100%|██████████| 500/500 [00:37<00:00, 13.21it/s]\n",
            "\u001b[32m[I 2022-09-23 20:02:35,181]\u001b[0m Trial 9 finished with value: 0.9564247726882827 and parameters: {'n_hidden': 44, 'learning_rate': 0.05011494874138596, 'optimizer': 'Adam'}. Best is trial 9 with value: 0.9564247726882827.\u001b[0m\n",
            "/usr/local/lib/python3.7/dist-packages/ipykernel_launcher.py:4: FutureWarning: suggest_loguniform has been deprecated in v3.0.0. This feature will be removed in v6.0.0. See https://github.com/optuna/optuna/releases/tag/v3.0.0. Use :func:`~optuna.trial.Trial.suggest_float` instead.\n",
            "  after removing the cwd from sys.path.\n"
          ]
        },
        {
          "output_type": "stream",
          "name": "stdout",
          "text": [
            "Sequential(\n",
            "  (0): Linear(in_features=2, out_features=5, bias=True)\n",
            "  (1): ReLU()\n",
            "  (2): Linear(in_features=5, out_features=1, bias=True)\n",
            "  (3): Sigmoid()\n",
            ")\n"
          ]
        },
        {
          "output_type": "stream",
          "name": "stderr",
          "text": [
            "100%|██████████| 500/500 [00:09<00:00, 55.36it/s]\n",
            "\u001b[32m[I 2022-09-23 20:02:44,272]\u001b[0m Trial 10 finished with value: 0.8728613983374662 and parameters: {'n_hidden': 5, 'learning_rate': 0.09534304874862513, 'optimizer': 'Adam'}. Best is trial 9 with value: 0.9564247726882827.\u001b[0m\n",
            "/usr/local/lib/python3.7/dist-packages/ipykernel_launcher.py:4: FutureWarning: suggest_loguniform has been deprecated in v3.0.0. This feature will be removed in v6.0.0. See https://github.com/optuna/optuna/releases/tag/v3.0.0. Use :func:`~optuna.trial.Trial.suggest_float` instead.\n",
            "  after removing the cwd from sys.path.\n"
          ]
        },
        {
          "output_type": "stream",
          "name": "stdout",
          "text": [
            "Sequential(\n",
            "  (0): Linear(in_features=2, out_features=127, bias=True)\n",
            "  (1): ReLU()\n",
            "  (2): Linear(in_features=127, out_features=1, bias=True)\n",
            "  (3): Sigmoid()\n",
            ")\n"
          ]
        },
        {
          "output_type": "stream",
          "name": "stderr",
          "text": [
            "100%|██████████| 500/500 [02:00<00:00,  4.16it/s]\n",
            "\u001b[32m[I 2022-09-23 20:04:44,588]\u001b[0m Trial 11 finished with value: 0.9664841934527987 and parameters: {'n_hidden': 127, 'learning_rate': 0.03070600731157846, 'optimizer': 'Adam'}. Best is trial 11 with value: 0.9664841934527987.\u001b[0m\n",
            "/usr/local/lib/python3.7/dist-packages/ipykernel_launcher.py:4: FutureWarning: suggest_loguniform has been deprecated in v3.0.0. This feature will be removed in v6.0.0. See https://github.com/optuna/optuna/releases/tag/v3.0.0. Use :func:`~optuna.trial.Trial.suggest_float` instead.\n",
            "  after removing the cwd from sys.path.\n"
          ]
        },
        {
          "output_type": "stream",
          "name": "stdout",
          "text": [
            "Sequential(\n",
            "  (0): Linear(in_features=2, out_features=29, bias=True)\n",
            "  (1): ReLU()\n",
            "  (2): Linear(in_features=29, out_features=1, bias=True)\n",
            "  (3): Sigmoid()\n",
            ")\n"
          ]
        },
        {
          "output_type": "stream",
          "name": "stderr",
          "text": [
            "100%|██████████| 500/500 [00:30<00:00, 16.56it/s]\n",
            "\u001b[32m[I 2022-09-23 20:05:14,842]\u001b[0m Trial 12 finished with value: 0.9590137088850419 and parameters: {'n_hidden': 29, 'learning_rate': 0.06169820318734166, 'optimizer': 'Adam'}. Best is trial 11 with value: 0.9664841934527987.\u001b[0m\n",
            "/usr/local/lib/python3.7/dist-packages/ipykernel_launcher.py:4: FutureWarning: suggest_loguniform has been deprecated in v3.0.0. This feature will be removed in v6.0.0. See https://github.com/optuna/optuna/releases/tag/v3.0.0. Use :func:`~optuna.trial.Trial.suggest_float` instead.\n",
            "  after removing the cwd from sys.path.\n"
          ]
        },
        {
          "output_type": "stream",
          "name": "stdout",
          "text": [
            "Sequential(\n",
            "  (0): Linear(in_features=2, out_features=28, bias=True)\n",
            "  (1): ReLU()\n",
            "  (2): Linear(in_features=28, out_features=1, bias=True)\n",
            "  (3): Sigmoid()\n",
            ")\n"
          ]
        },
        {
          "output_type": "stream",
          "name": "stderr",
          "text": [
            "100%|██████████| 500/500 [00:28<00:00, 17.68it/s]\n",
            "\u001b[32m[I 2022-09-23 20:05:43,168]\u001b[0m Trial 13 finished with value: 0.6570283379341537 and parameters: {'n_hidden': 28, 'learning_rate': 0.001006797400324047, 'optimizer': 'Adam'}. Best is trial 11 with value: 0.9664841934527987.\u001b[0m\n",
            "/usr/local/lib/python3.7/dist-packages/ipykernel_launcher.py:4: FutureWarning: suggest_loguniform has been deprecated in v3.0.0. This feature will be removed in v6.0.0. See https://github.com/optuna/optuna/releases/tag/v3.0.0. Use :func:`~optuna.trial.Trial.suggest_float` instead.\n",
            "  after removing the cwd from sys.path.\n"
          ]
        },
        {
          "output_type": "stream",
          "name": "stdout",
          "text": [
            "Sequential(\n",
            "  (0): Linear(in_features=2, out_features=127, bias=True)\n",
            "  (1): ReLU()\n",
            "  (2): Linear(in_features=127, out_features=1, bias=True)\n",
            "  (3): Sigmoid()\n",
            ")\n"
          ]
        },
        {
          "output_type": "stream",
          "name": "stderr",
          "text": [
            "100%|██████████| 500/500 [01:51<00:00,  4.48it/s]\n",
            "\u001b[32m[I 2022-09-23 20:07:34,750]\u001b[0m Trial 14 finished with value: 0.9611347650462422 and parameters: {'n_hidden': 127, 'learning_rate': 0.27865346408328723, 'optimizer': 'Adam'}. Best is trial 11 with value: 0.9664841934527987.\u001b[0m\n",
            "/usr/local/lib/python3.7/dist-packages/ipykernel_launcher.py:4: FutureWarning: suggest_loguniform has been deprecated in v3.0.0. This feature will be removed in v6.0.0. See https://github.com/optuna/optuna/releases/tag/v3.0.0. Use :func:`~optuna.trial.Trial.suggest_float` instead.\n",
            "  after removing the cwd from sys.path.\n"
          ]
        },
        {
          "output_type": "stream",
          "name": "stdout",
          "text": [
            "Sequential(\n",
            "  (0): Linear(in_features=2, out_features=128, bias=True)\n",
            "  (1): ReLU()\n",
            "  (2): Linear(in_features=128, out_features=1, bias=True)\n",
            "  (3): Sigmoid()\n",
            ")\n"
          ]
        },
        {
          "output_type": "stream",
          "name": "stderr",
          "text": [
            "100%|██████████| 500/500 [01:41<00:00,  4.91it/s]\n",
            "\u001b[32m[I 2022-09-23 20:09:16,746]\u001b[0m Trial 15 finished with value: 0.9611503610474275 and parameters: {'n_hidden': 128, 'learning_rate': 0.3290987715142456, 'optimizer': 'Adam'}. Best is trial 11 with value: 0.9664841934527987.\u001b[0m\n",
            "/usr/local/lib/python3.7/dist-packages/ipykernel_launcher.py:4: FutureWarning: suggest_loguniform has been deprecated in v3.0.0. This feature will be removed in v6.0.0. See https://github.com/optuna/optuna/releases/tag/v3.0.0. Use :func:`~optuna.trial.Trial.suggest_float` instead.\n",
            "  after removing the cwd from sys.path.\n"
          ]
        },
        {
          "output_type": "stream",
          "name": "stdout",
          "text": [
            "Sequential(\n",
            "  (0): Linear(in_features=2, out_features=110, bias=True)\n",
            "  (1): ReLU()\n",
            "  (2): Linear(in_features=110, out_features=1, bias=True)\n",
            "  (3): Sigmoid()\n",
            ")\n"
          ]
        },
        {
          "output_type": "stream",
          "name": "stderr",
          "text": [
            "100%|██████████| 500/500 [01:33<00:00,  5.33it/s]\n",
            "\u001b[32m[I 2022-09-23 20:10:50,695]\u001b[0m Trial 16 finished with value: 0.9655952213852368 and parameters: {'n_hidden': 110, 'learning_rate': 0.3594409050775394, 'optimizer': 'Adam'}. Best is trial 11 with value: 0.9664841934527987.\u001b[0m\n",
            "/usr/local/lib/python3.7/dist-packages/ipykernel_launcher.py:4: FutureWarning: suggest_loguniform has been deprecated in v3.0.0. This feature will be removed in v6.0.0. See https://github.com/optuna/optuna/releases/tag/v3.0.0. Use :func:`~optuna.trial.Trial.suggest_float` instead.\n",
            "  after removing the cwd from sys.path.\n"
          ]
        },
        {
          "output_type": "stream",
          "name": "stdout",
          "text": [
            "Sequential(\n",
            "  (0): Linear(in_features=2, out_features=107, bias=True)\n",
            "  (1): ReLU()\n",
            "  (2): Linear(in_features=107, out_features=1, bias=True)\n",
            "  (3): Sigmoid()\n",
            ")\n"
          ]
        },
        {
          "output_type": "stream",
          "name": "stderr",
          "text": [
            "100%|██████████| 500/500 [01:27<00:00,  5.69it/s]\n",
            "\u001b[32m[I 2022-09-23 20:12:18,561]\u001b[0m Trial 17 finished with value: 0.9666401534646517 and parameters: {'n_hidden': 107, 'learning_rate': 0.13782620155439174, 'optimizer': 'Adam'}. Best is trial 17 with value: 0.9666401534646517.\u001b[0m\n",
            "/usr/local/lib/python3.7/dist-packages/ipykernel_launcher.py:4: FutureWarning: suggest_loguniform has been deprecated in v3.0.0. This feature will be removed in v6.0.0. See https://github.com/optuna/optuna/releases/tag/v3.0.0. Use :func:`~optuna.trial.Trial.suggest_float` instead.\n",
            "  after removing the cwd from sys.path.\n"
          ]
        },
        {
          "output_type": "stream",
          "name": "stdout",
          "text": [
            "Sequential(\n",
            "  (0): Linear(in_features=2, out_features=86, bias=True)\n",
            "  (1): ReLU()\n",
            "  (2): Linear(in_features=86, out_features=1, bias=True)\n",
            "  (3): Sigmoid()\n",
            ")\n"
          ]
        },
        {
          "output_type": "stream",
          "name": "stderr",
          "text": [
            "100%|██████████| 500/500 [01:10<00:00,  7.14it/s]\n",
            "\u001b[32m[I 2022-09-23 20:13:28,640]\u001b[0m Trial 18 finished with value: 0.884963895257256 and parameters: {'n_hidden': 86, 'learning_rate': 0.14003501850013034, 'optimizer': 'Adam'}. Best is trial 17 with value: 0.9666401534646517.\u001b[0m\n",
            "/usr/local/lib/python3.7/dist-packages/ipykernel_launcher.py:4: FutureWarning: suggest_loguniform has been deprecated in v3.0.0. This feature will be removed in v6.0.0. See https://github.com/optuna/optuna/releases/tag/v3.0.0. Use :func:`~optuna.trial.Trial.suggest_float` instead.\n",
            "  after removing the cwd from sys.path.\n"
          ]
        },
        {
          "output_type": "stream",
          "name": "stdout",
          "text": [
            "Sequential(\n",
            "  (0): Linear(in_features=2, out_features=111, bias=True)\n",
            "  (1): ReLU()\n",
            "  (2): Linear(in_features=111, out_features=1, bias=True)\n",
            "  (3): Sigmoid()\n",
            ")\n"
          ]
        },
        {
          "output_type": "stream",
          "name": "stderr",
          "text": [
            "100%|██████████| 500/500 [01:34<00:00,  5.30it/s]\n",
            "\u001b[32m[I 2022-09-23 20:15:02,969]\u001b[0m Trial 19 finished with value: 0.9628035371730689 and parameters: {'n_hidden': 111, 'learning_rate': 0.014614354553899938, 'optimizer': 'Adam'}. Best is trial 17 with value: 0.9666401534646517.\u001b[0m\n",
            "/usr/local/lib/python3.7/dist-packages/ipykernel_launcher.py:4: FutureWarning: suggest_loguniform has been deprecated in v3.0.0. This feature will be removed in v6.0.0. See https://github.com/optuna/optuna/releases/tag/v3.0.0. Use :func:`~optuna.trial.Trial.suggest_float` instead.\n",
            "  after removing the cwd from sys.path.\n"
          ]
        },
        {
          "output_type": "stream",
          "name": "stdout",
          "text": [
            "Sequential(\n",
            "  (0): Linear(in_features=2, out_features=96, bias=True)\n",
            "  (1): ReLU()\n",
            "  (2): Linear(in_features=96, out_features=1, bias=True)\n",
            "  (3): Sigmoid()\n",
            ")\n"
          ]
        },
        {
          "output_type": "stream",
          "name": "stderr",
          "text": [
            "100%|██████████| 500/500 [01:13<00:00,  6.78it/s]\n",
            "\u001b[32m[I 2022-09-23 20:16:16,753]\u001b[0m Trial 20 finished with value: 0.9657823733994604 and parameters: {'n_hidden': 96, 'learning_rate': 0.06902679124302685, 'optimizer': 'Adam'}. Best is trial 17 with value: 0.9666401534646517.\u001b[0m\n",
            "/usr/local/lib/python3.7/dist-packages/ipykernel_launcher.py:4: FutureWarning: suggest_loguniform has been deprecated in v3.0.0. This feature will be removed in v6.0.0. See https://github.com/optuna/optuna/releases/tag/v3.0.0. Use :func:`~optuna.trial.Trial.suggest_float` instead.\n",
            "  after removing the cwd from sys.path.\n"
          ]
        },
        {
          "output_type": "stream",
          "name": "stdout",
          "text": [
            "Sequential(\n",
            "  (0): Linear(in_features=2, out_features=104, bias=True)\n",
            "  (1): ReLU()\n",
            "  (2): Linear(in_features=104, out_features=1, bias=True)\n",
            "  (3): Sigmoid()\n",
            ")\n"
          ]
        },
        {
          "output_type": "stream",
          "name": "stderr",
          "text": [
            "100%|██████████| 500/500 [01:26<00:00,  5.79it/s]\n",
            "\u001b[32m[I 2022-09-23 20:17:43,156]\u001b[0m Trial 21 finished with value: 0.9629127091813658 and parameters: {'n_hidden': 104, 'learning_rate': 0.04336196818312995, 'optimizer': 'Adam'}. Best is trial 17 with value: 0.9666401534646517.\u001b[0m\n",
            "/usr/local/lib/python3.7/dist-packages/ipykernel_launcher.py:4: FutureWarning: suggest_loguniform has been deprecated in v3.0.0. This feature will be removed in v6.0.0. See https://github.com/optuna/optuna/releases/tag/v3.0.0. Use :func:`~optuna.trial.Trial.suggest_float` instead.\n",
            "  after removing the cwd from sys.path.\n"
          ]
        },
        {
          "output_type": "stream",
          "name": "stdout",
          "text": [
            "Sequential(\n",
            "  (0): Linear(in_features=2, out_features=89, bias=True)\n",
            "  (1): ReLU()\n",
            "  (2): Linear(in_features=89, out_features=1, bias=True)\n",
            "  (3): Sigmoid()\n",
            ")\n"
          ]
        },
        {
          "output_type": "stream",
          "name": "stderr",
          "text": [
            "100%|██████████| 500/500 [01:25<00:00,  5.84it/s]\n",
            "\u001b[32m[I 2022-09-23 20:19:08,800]\u001b[0m Trial 22 finished with value: 0.9638484692524837 and parameters: {'n_hidden': 89, 'learning_rate': 0.1805661584264292, 'optimizer': 'Adam'}. Best is trial 17 with value: 0.9666401534646517.\u001b[0m\n",
            "/usr/local/lib/python3.7/dist-packages/ipykernel_launcher.py:4: FutureWarning: suggest_loguniform has been deprecated in v3.0.0. This feature will be removed in v6.0.0. See https://github.com/optuna/optuna/releases/tag/v3.0.0. Use :func:`~optuna.trial.Trial.suggest_float` instead.\n",
            "  after removing the cwd from sys.path.\n"
          ]
        },
        {
          "output_type": "stream",
          "name": "stdout",
          "text": [
            "Sequential(\n",
            "  (0): Linear(in_features=2, out_features=118, bias=True)\n",
            "  (1): ReLU()\n",
            "  (2): Linear(in_features=118, out_features=1, bias=True)\n",
            "  (3): Sigmoid()\n",
            ")\n"
          ]
        },
        {
          "output_type": "stream",
          "name": "stderr",
          "text": [
            "100%|██████████| 500/500 [01:52<00:00,  4.43it/s]\n",
            "\u001b[32m[I 2022-09-23 20:21:01,786]\u001b[0m Trial 23 finished with value: 0.9607916530201657 and parameters: {'n_hidden': 118, 'learning_rate': 0.0709261027865521, 'optimizer': 'Adam'}. Best is trial 17 with value: 0.9666401534646517.\u001b[0m\n",
            "/usr/local/lib/python3.7/dist-packages/ipykernel_launcher.py:4: FutureWarning: suggest_loguniform has been deprecated in v3.0.0. This feature will be removed in v6.0.0. See https://github.com/optuna/optuna/releases/tag/v3.0.0. Use :func:`~optuna.trial.Trial.suggest_float` instead.\n",
            "  after removing the cwd from sys.path.\n"
          ]
        },
        {
          "output_type": "stream",
          "name": "stdout",
          "text": [
            "Sequential(\n",
            "  (0): Linear(in_features=2, out_features=84, bias=True)\n",
            "  (1): ReLU()\n",
            "  (2): Linear(in_features=84, out_features=1, bias=True)\n",
            "  (3): Sigmoid()\n",
            ")\n"
          ]
        },
        {
          "output_type": "stream",
          "name": "stderr",
          "text": [
            "100%|██████████| 500/500 [01:22<00:00,  6.06it/s]\n",
            "\u001b[32m[I 2022-09-23 20:22:24,352]\u001b[0m Trial 24 finished with value: 0.9625851931564747 and parameters: {'n_hidden': 84, 'learning_rate': 0.01639707423541863, 'optimizer': 'Adam'}. Best is trial 17 with value: 0.9666401534646517.\u001b[0m\n",
            "/usr/local/lib/python3.7/dist-packages/ipykernel_launcher.py:4: FutureWarning: suggest_loguniform has been deprecated in v3.0.0. This feature will be removed in v6.0.0. See https://github.com/optuna/optuna/releases/tag/v3.0.0. Use :func:`~optuna.trial.Trial.suggest_float` instead.\n",
            "  after removing the cwd from sys.path.\n"
          ]
        },
        {
          "output_type": "stream",
          "name": "stdout",
          "text": [
            "Sequential(\n",
            "  (0): Linear(in_features=2, out_features=116, bias=True)\n",
            "  (1): ReLU()\n",
            "  (2): Linear(in_features=116, out_features=1, bias=True)\n",
            "  (3): Sigmoid()\n",
            ")\n"
          ]
        },
        {
          "output_type": "stream",
          "name": "stderr",
          "text": [
            "100%|██████████| 500/500 [01:37<00:00,  5.11it/s]\n",
            "\u001b[32m[I 2022-09-23 20:24:02,367]\u001b[0m Trial 25 finished with value: 0.9666401534646517 and parameters: {'n_hidden': 116, 'learning_rate': 0.037699042076936105, 'optimizer': 'Adam'}. Best is trial 17 with value: 0.9666401534646517.\u001b[0m\n",
            "/usr/local/lib/python3.7/dist-packages/ipykernel_launcher.py:4: FutureWarning: suggest_loguniform has been deprecated in v3.0.0. This feature will be removed in v6.0.0. See https://github.com/optuna/optuna/releases/tag/v3.0.0. Use :func:`~optuna.trial.Trial.suggest_float` instead.\n",
            "  after removing the cwd from sys.path.\n"
          ]
        },
        {
          "output_type": "stream",
          "name": "stdout",
          "text": [
            "Sequential(\n",
            "  (0): Linear(in_features=2, out_features=117, bias=True)\n",
            "  (1): ReLU()\n",
            "  (2): Linear(in_features=117, out_features=1, bias=True)\n",
            "  (3): Sigmoid()\n",
            ")\n"
          ]
        },
        {
          "output_type": "stream",
          "name": "stderr",
          "text": [
            "100%|██████████| 500/500 [01:29<00:00,  5.57it/s]\n",
            "\u001b[32m[I 2022-09-23 20:25:32,168]\u001b[0m Trial 26 finished with value: 0.9685272696080724 and parameters: {'n_hidden': 117, 'learning_rate': 0.03751239226618552, 'optimizer': 'Adam'}. Best is trial 26 with value: 0.9685272696080724.\u001b[0m\n",
            "/usr/local/lib/python3.7/dist-packages/ipykernel_launcher.py:4: FutureWarning: suggest_loguniform has been deprecated in v3.0.0. This feature will be removed in v6.0.0. See https://github.com/optuna/optuna/releases/tag/v3.0.0. Use :func:`~optuna.trial.Trial.suggest_float` instead.\n",
            "  after removing the cwd from sys.path.\n"
          ]
        },
        {
          "output_type": "stream",
          "name": "stdout",
          "text": [
            "Sequential(\n",
            "  (0): Linear(in_features=2, out_features=112, bias=True)\n",
            "  (1): ReLU()\n",
            "  (2): Linear(in_features=112, out_features=1, bias=True)\n",
            "  (3): Sigmoid()\n",
            ")\n"
          ]
        },
        {
          "output_type": "stream",
          "name": "stderr",
          "text": [
            "100%|██████████| 500/500 [01:21<00:00,  6.16it/s]\n",
            "\u001b[32m[I 2022-09-23 20:26:53,459]\u001b[0m Trial 27 finished with value: 0.9697437577005256 and parameters: {'n_hidden': 112, 'learning_rate': 0.03598887220487901, 'optimizer': 'Adam'}. Best is trial 27 with value: 0.9697437577005256.\u001b[0m\n",
            "/usr/local/lib/python3.7/dist-packages/ipykernel_launcher.py:4: FutureWarning: suggest_loguniform has been deprecated in v3.0.0. This feature will be removed in v6.0.0. See https://github.com/optuna/optuna/releases/tag/v3.0.0. Use :func:`~optuna.trial.Trial.suggest_float` instead.\n",
            "  after removing the cwd from sys.path.\n"
          ]
        },
        {
          "output_type": "stream",
          "name": "stdout",
          "text": [
            "Sequential(\n",
            "  (0): Linear(in_features=2, out_features=106, bias=True)\n",
            "  (1): ReLU()\n",
            "  (2): Linear(in_features=106, out_features=1, bias=True)\n",
            "  (3): Sigmoid()\n",
            ")\n"
          ]
        },
        {
          "output_type": "stream",
          "name": "stderr",
          "text": [
            "100%|██████████| 500/500 [01:23<00:00,  6.02it/s]\n",
            "\u001b[32m[I 2022-09-23 20:28:16,554]\u001b[0m Trial 28 finished with value: 0.9676382975405106 and parameters: {'n_hidden': 106, 'learning_rate': 0.1901150721313645, 'optimizer': 'Adam'}. Best is trial 27 with value: 0.9697437577005256.\u001b[0m\n",
            "/usr/local/lib/python3.7/dist-packages/ipykernel_launcher.py:4: FutureWarning: suggest_loguniform has been deprecated in v3.0.0. This feature will be removed in v6.0.0. See https://github.com/optuna/optuna/releases/tag/v3.0.0. Use :func:`~optuna.trial.Trial.suggest_float` instead.\n",
            "  after removing the cwd from sys.path.\n"
          ]
        },
        {
          "output_type": "stream",
          "name": "stdout",
          "text": [
            "Sequential(\n",
            "  (0): Linear(in_features=2, out_features=99, bias=True)\n",
            "  (1): ReLU()\n",
            "  (2): Linear(in_features=99, out_features=1, bias=True)\n",
            "  (3): Sigmoid()\n",
            ")\n"
          ]
        },
        {
          "output_type": "stream",
          "name": "stderr",
          "text": [
            "100%|██████████| 500/500 [01:15<00:00,  6.62it/s]\n",
            "\u001b[32m[I 2022-09-23 20:29:32,101]\u001b[0m Trial 29 finished with value: 0.6483881532774997 and parameters: {'n_hidden': 99, 'learning_rate': 0.1972605559928286, 'optimizer': 'SGD'}. Best is trial 27 with value: 0.9697437577005256.\u001b[0m\n"
          ]
        }
      ]
    },
    {
      "cell_type": "code",
      "source": [
        "best_trial = study.best_trial\n",
        "\n",
        "for key, value in best_trial.params.items():\n",
        "    print(\"{}: {}\".format(key, value))"
      ],
      "metadata": {
        "colab": {
          "base_uri": "https://localhost:8080/"
        },
        "id": "khF0B2jiwbwT",
        "outputId": "16d4072f-64cd-465d-f054-323dbe2a2973"
      },
      "execution_count": null,
      "outputs": [
        {
          "output_type": "stream",
          "name": "stdout",
          "text": [
            "n_hidden: 112\n",
            "learning_rate: 0.03598887220487901\n",
            "optimizer: Adam\n"
          ]
        }
      ]
    },
    {
      "cell_type": "code",
      "source": [
        "results = study.trials_dataframe()\n",
        "results.drop(['number','datetime_start','datetime_complete','duration','state'], axis=1, inplace=True)\n",
        "results.rename(columns = {'value':'accuracy'}, inplace = True)\n",
        "results"
      ],
      "metadata": {
        "colab": {
          "base_uri": "https://localhost:8080/",
          "height": 990
        },
        "id": "LTTX9vE765JK",
        "outputId": "4de0903d-a5a3-42e0-e1bf-40655312babc"
      },
      "execution_count": null,
      "outputs": [
        {
          "output_type": "execute_result",
          "data": {
            "text/plain": [
              "    accuracy  params_learning_rate  params_n_hidden params_optimizer\n",
              "0   0.637892              0.297479               98              SGD\n",
              "1   0.658993              0.128274               76              SGD\n",
              "2   0.860275              0.004446               15          RMSprop\n",
              "3   0.837614              0.008957               45          RMSprop\n",
              "4   0.563390              0.004130               52              SGD\n",
              "5   0.883467              0.024269              119          RMSprop\n",
              "6   0.838160              0.007756               54          RMSprop\n",
              "7   0.831891              0.026818               69          RMSprop\n",
              "8   0.637798              0.002416               97              SGD\n",
              "9   0.956425              0.050115               44             Adam\n",
              "10  0.872861              0.095343                5             Adam\n",
              "11  0.966484              0.030706              127             Adam\n",
              "12  0.959014              0.061698               29             Adam\n",
              "13  0.657028              0.001007               28             Adam\n",
              "14  0.961135              0.278653              127             Adam\n",
              "15  0.961150              0.329099              128             Adam\n",
              "16  0.965595              0.359441              110             Adam\n",
              "17  0.966640              0.137826              107             Adam\n",
              "18  0.884964              0.140035               86             Adam\n",
              "19  0.962804              0.014614              111             Adam\n",
              "20  0.965782              0.069027               96             Adam\n",
              "21  0.962913              0.043362              104             Adam\n",
              "22  0.963848              0.180566               89             Adam\n",
              "23  0.960792              0.070926              118             Adam\n",
              "24  0.962585              0.016397               84             Adam\n",
              "25  0.966640              0.037699              116             Adam\n",
              "26  0.968527              0.037512              117             Adam\n",
              "27  0.969744              0.035989              112             Adam\n",
              "28  0.967638              0.190115              106             Adam\n",
              "29  0.648388              0.197261               99              SGD"
            ],
            "text/html": [
              "\n",
              "  <div id=\"df-efd3d8bc-edb1-44ba-a66a-af7f08a7a104\">\n",
              "    <div class=\"colab-df-container\">\n",
              "      <div>\n",
              "<style scoped>\n",
              "    .dataframe tbody tr th:only-of-type {\n",
              "        vertical-align: middle;\n",
              "    }\n",
              "\n",
              "    .dataframe tbody tr th {\n",
              "        vertical-align: top;\n",
              "    }\n",
              "\n",
              "    .dataframe thead th {\n",
              "        text-align: right;\n",
              "    }\n",
              "</style>\n",
              "<table border=\"1\" class=\"dataframe\">\n",
              "  <thead>\n",
              "    <tr style=\"text-align: right;\">\n",
              "      <th></th>\n",
              "      <th>accuracy</th>\n",
              "      <th>params_learning_rate</th>\n",
              "      <th>params_n_hidden</th>\n",
              "      <th>params_optimizer</th>\n",
              "    </tr>\n",
              "  </thead>\n",
              "  <tbody>\n",
              "    <tr>\n",
              "      <th>0</th>\n",
              "      <td>0.637892</td>\n",
              "      <td>0.297479</td>\n",
              "      <td>98</td>\n",
              "      <td>SGD</td>\n",
              "    </tr>\n",
              "    <tr>\n",
              "      <th>1</th>\n",
              "      <td>0.658993</td>\n",
              "      <td>0.128274</td>\n",
              "      <td>76</td>\n",
              "      <td>SGD</td>\n",
              "    </tr>\n",
              "    <tr>\n",
              "      <th>2</th>\n",
              "      <td>0.860275</td>\n",
              "      <td>0.004446</td>\n",
              "      <td>15</td>\n",
              "      <td>RMSprop</td>\n",
              "    </tr>\n",
              "    <tr>\n",
              "      <th>3</th>\n",
              "      <td>0.837614</td>\n",
              "      <td>0.008957</td>\n",
              "      <td>45</td>\n",
              "      <td>RMSprop</td>\n",
              "    </tr>\n",
              "    <tr>\n",
              "      <th>4</th>\n",
              "      <td>0.563390</td>\n",
              "      <td>0.004130</td>\n",
              "      <td>52</td>\n",
              "      <td>SGD</td>\n",
              "    </tr>\n",
              "    <tr>\n",
              "      <th>5</th>\n",
              "      <td>0.883467</td>\n",
              "      <td>0.024269</td>\n",
              "      <td>119</td>\n",
              "      <td>RMSprop</td>\n",
              "    </tr>\n",
              "    <tr>\n",
              "      <th>6</th>\n",
              "      <td>0.838160</td>\n",
              "      <td>0.007756</td>\n",
              "      <td>54</td>\n",
              "      <td>RMSprop</td>\n",
              "    </tr>\n",
              "    <tr>\n",
              "      <th>7</th>\n",
              "      <td>0.831891</td>\n",
              "      <td>0.026818</td>\n",
              "      <td>69</td>\n",
              "      <td>RMSprop</td>\n",
              "    </tr>\n",
              "    <tr>\n",
              "      <th>8</th>\n",
              "      <td>0.637798</td>\n",
              "      <td>0.002416</td>\n",
              "      <td>97</td>\n",
              "      <td>SGD</td>\n",
              "    </tr>\n",
              "    <tr>\n",
              "      <th>9</th>\n",
              "      <td>0.956425</td>\n",
              "      <td>0.050115</td>\n",
              "      <td>44</td>\n",
              "      <td>Adam</td>\n",
              "    </tr>\n",
              "    <tr>\n",
              "      <th>10</th>\n",
              "      <td>0.872861</td>\n",
              "      <td>0.095343</td>\n",
              "      <td>5</td>\n",
              "      <td>Adam</td>\n",
              "    </tr>\n",
              "    <tr>\n",
              "      <th>11</th>\n",
              "      <td>0.966484</td>\n",
              "      <td>0.030706</td>\n",
              "      <td>127</td>\n",
              "      <td>Adam</td>\n",
              "    </tr>\n",
              "    <tr>\n",
              "      <th>12</th>\n",
              "      <td>0.959014</td>\n",
              "      <td>0.061698</td>\n",
              "      <td>29</td>\n",
              "      <td>Adam</td>\n",
              "    </tr>\n",
              "    <tr>\n",
              "      <th>13</th>\n",
              "      <td>0.657028</td>\n",
              "      <td>0.001007</td>\n",
              "      <td>28</td>\n",
              "      <td>Adam</td>\n",
              "    </tr>\n",
              "    <tr>\n",
              "      <th>14</th>\n",
              "      <td>0.961135</td>\n",
              "      <td>0.278653</td>\n",
              "      <td>127</td>\n",
              "      <td>Adam</td>\n",
              "    </tr>\n",
              "    <tr>\n",
              "      <th>15</th>\n",
              "      <td>0.961150</td>\n",
              "      <td>0.329099</td>\n",
              "      <td>128</td>\n",
              "      <td>Adam</td>\n",
              "    </tr>\n",
              "    <tr>\n",
              "      <th>16</th>\n",
              "      <td>0.965595</td>\n",
              "      <td>0.359441</td>\n",
              "      <td>110</td>\n",
              "      <td>Adam</td>\n",
              "    </tr>\n",
              "    <tr>\n",
              "      <th>17</th>\n",
              "      <td>0.966640</td>\n",
              "      <td>0.137826</td>\n",
              "      <td>107</td>\n",
              "      <td>Adam</td>\n",
              "    </tr>\n",
              "    <tr>\n",
              "      <th>18</th>\n",
              "      <td>0.884964</td>\n",
              "      <td>0.140035</td>\n",
              "      <td>86</td>\n",
              "      <td>Adam</td>\n",
              "    </tr>\n",
              "    <tr>\n",
              "      <th>19</th>\n",
              "      <td>0.962804</td>\n",
              "      <td>0.014614</td>\n",
              "      <td>111</td>\n",
              "      <td>Adam</td>\n",
              "    </tr>\n",
              "    <tr>\n",
              "      <th>20</th>\n",
              "      <td>0.965782</td>\n",
              "      <td>0.069027</td>\n",
              "      <td>96</td>\n",
              "      <td>Adam</td>\n",
              "    </tr>\n",
              "    <tr>\n",
              "      <th>21</th>\n",
              "      <td>0.962913</td>\n",
              "      <td>0.043362</td>\n",
              "      <td>104</td>\n",
              "      <td>Adam</td>\n",
              "    </tr>\n",
              "    <tr>\n",
              "      <th>22</th>\n",
              "      <td>0.963848</td>\n",
              "      <td>0.180566</td>\n",
              "      <td>89</td>\n",
              "      <td>Adam</td>\n",
              "    </tr>\n",
              "    <tr>\n",
              "      <th>23</th>\n",
              "      <td>0.960792</td>\n",
              "      <td>0.070926</td>\n",
              "      <td>118</td>\n",
              "      <td>Adam</td>\n",
              "    </tr>\n",
              "    <tr>\n",
              "      <th>24</th>\n",
              "      <td>0.962585</td>\n",
              "      <td>0.016397</td>\n",
              "      <td>84</td>\n",
              "      <td>Adam</td>\n",
              "    </tr>\n",
              "    <tr>\n",
              "      <th>25</th>\n",
              "      <td>0.966640</td>\n",
              "      <td>0.037699</td>\n",
              "      <td>116</td>\n",
              "      <td>Adam</td>\n",
              "    </tr>\n",
              "    <tr>\n",
              "      <th>26</th>\n",
              "      <td>0.968527</td>\n",
              "      <td>0.037512</td>\n",
              "      <td>117</td>\n",
              "      <td>Adam</td>\n",
              "    </tr>\n",
              "    <tr>\n",
              "      <th>27</th>\n",
              "      <td>0.969744</td>\n",
              "      <td>0.035989</td>\n",
              "      <td>112</td>\n",
              "      <td>Adam</td>\n",
              "    </tr>\n",
              "    <tr>\n",
              "      <th>28</th>\n",
              "      <td>0.967638</td>\n",
              "      <td>0.190115</td>\n",
              "      <td>106</td>\n",
              "      <td>Adam</td>\n",
              "    </tr>\n",
              "    <tr>\n",
              "      <th>29</th>\n",
              "      <td>0.648388</td>\n",
              "      <td>0.197261</td>\n",
              "      <td>99</td>\n",
              "      <td>SGD</td>\n",
              "    </tr>\n",
              "  </tbody>\n",
              "</table>\n",
              "</div>\n",
              "      <button class=\"colab-df-convert\" onclick=\"convertToInteractive('df-efd3d8bc-edb1-44ba-a66a-af7f08a7a104')\"\n",
              "              title=\"Convert this dataframe to an interactive table.\"\n",
              "              style=\"display:none;\">\n",
              "        \n",
              "  <svg xmlns=\"http://www.w3.org/2000/svg\" height=\"24px\"viewBox=\"0 0 24 24\"\n",
              "       width=\"24px\">\n",
              "    <path d=\"M0 0h24v24H0V0z\" fill=\"none\"/>\n",
              "    <path d=\"M18.56 5.44l.94 2.06.94-2.06 2.06-.94-2.06-.94-.94-2.06-.94 2.06-2.06.94zm-11 1L8.5 8.5l.94-2.06 2.06-.94-2.06-.94L8.5 2.5l-.94 2.06-2.06.94zm10 10l.94 2.06.94-2.06 2.06-.94-2.06-.94-.94-2.06-.94 2.06-2.06.94z\"/><path d=\"M17.41 7.96l-1.37-1.37c-.4-.4-.92-.59-1.43-.59-.52 0-1.04.2-1.43.59L10.3 9.45l-7.72 7.72c-.78.78-.78 2.05 0 2.83L4 21.41c.39.39.9.59 1.41.59.51 0 1.02-.2 1.41-.59l7.78-7.78 2.81-2.81c.8-.78.8-2.07 0-2.86zM5.41 20L4 18.59l7.72-7.72 1.47 1.35L5.41 20z\"/>\n",
              "  </svg>\n",
              "      </button>\n",
              "      \n",
              "  <style>\n",
              "    .colab-df-container {\n",
              "      display:flex;\n",
              "      flex-wrap:wrap;\n",
              "      gap: 12px;\n",
              "    }\n",
              "\n",
              "    .colab-df-convert {\n",
              "      background-color: #E8F0FE;\n",
              "      border: none;\n",
              "      border-radius: 50%;\n",
              "      cursor: pointer;\n",
              "      display: none;\n",
              "      fill: #1967D2;\n",
              "      height: 32px;\n",
              "      padding: 0 0 0 0;\n",
              "      width: 32px;\n",
              "    }\n",
              "\n",
              "    .colab-df-convert:hover {\n",
              "      background-color: #E2EBFA;\n",
              "      box-shadow: 0px 1px 2px rgba(60, 64, 67, 0.3), 0px 1px 3px 1px rgba(60, 64, 67, 0.15);\n",
              "      fill: #174EA6;\n",
              "    }\n",
              "\n",
              "    [theme=dark] .colab-df-convert {\n",
              "      background-color: #3B4455;\n",
              "      fill: #D2E3FC;\n",
              "    }\n",
              "\n",
              "    [theme=dark] .colab-df-convert:hover {\n",
              "      background-color: #434B5C;\n",
              "      box-shadow: 0px 1px 3px 1px rgba(0, 0, 0, 0.15);\n",
              "      filter: drop-shadow(0px 1px 2px rgba(0, 0, 0, 0.3));\n",
              "      fill: #FFFFFF;\n",
              "    }\n",
              "  </style>\n",
              "\n",
              "      <script>\n",
              "        const buttonEl =\n",
              "          document.querySelector('#df-efd3d8bc-edb1-44ba-a66a-af7f08a7a104 button.colab-df-convert');\n",
              "        buttonEl.style.display =\n",
              "          google.colab.kernel.accessAllowed ? 'block' : 'none';\n",
              "\n",
              "        async function convertToInteractive(key) {\n",
              "          const element = document.querySelector('#df-efd3d8bc-edb1-44ba-a66a-af7f08a7a104');\n",
              "          const dataTable =\n",
              "            await google.colab.kernel.invokeFunction('convertToInteractive',\n",
              "                                                     [key], {});\n",
              "          if (!dataTable) return;\n",
              "\n",
              "          const docLinkHtml = 'Like what you see? Visit the ' +\n",
              "            '<a target=\"_blank\" href=https://colab.research.google.com/notebooks/data_table.ipynb>data table notebook</a>'\n",
              "            + ' to learn more about interactive tables.';\n",
              "          element.innerHTML = '';\n",
              "          dataTable['output_type'] = 'display_data';\n",
              "          await google.colab.output.renderOutput(dataTable, element);\n",
              "          const docLink = document.createElement('div');\n",
              "          docLink.innerHTML = docLinkHtml;\n",
              "          element.appendChild(docLink);\n",
              "        }\n",
              "      </script>\n",
              "    </div>\n",
              "  </div>\n",
              "  "
            ]
          },
          "metadata": {},
          "execution_count": 421
        }
      ]
    },
    {
      "cell_type": "code",
      "source": [
        "results.to_csv('optuna_results.csv')"
      ],
      "metadata": {
        "id": "GZ6QJE8OCr6h"
      },
      "execution_count": null,
      "outputs": []
    },
    {
      "cell_type": "code",
      "source": [
        "data = pd.read_csv('/content/Data/esigptl1out.txt', sep = '\\t', names = ['pt', 'deltaeta']).reset_index(drop=True)\n",
        "data.head()"
      ],
      "metadata": {
        "colab": {
          "base_uri": "https://localhost:8080/",
          "height": 204
        },
        "id": "eJe--IxRQArh",
        "outputId": "6454576b-a9f7-44bb-95bc-d8ede943510b"
      },
      "execution_count": null,
      "outputs": [
        {
          "output_type": "execute_result",
          "data": {
            "text/plain": [
              "   pt  deltaeta\n",
              "0   0      43.0\n",
              "1   1      37.2\n",
              "2  17      38.1\n",
              "3  29      49.1\n",
              "4  30      46.3"
            ],
            "text/html": [
              "\n",
              "  <div id=\"df-9ad6fb37-92f4-47dd-9977-0d867792f5aa\">\n",
              "    <div class=\"colab-df-container\">\n",
              "      <div>\n",
              "<style scoped>\n",
              "    .dataframe tbody tr th:only-of-type {\n",
              "        vertical-align: middle;\n",
              "    }\n",
              "\n",
              "    .dataframe tbody tr th {\n",
              "        vertical-align: top;\n",
              "    }\n",
              "\n",
              "    .dataframe thead th {\n",
              "        text-align: right;\n",
              "    }\n",
              "</style>\n",
              "<table border=\"1\" class=\"dataframe\">\n",
              "  <thead>\n",
              "    <tr style=\"text-align: right;\">\n",
              "      <th></th>\n",
              "      <th>pt</th>\n",
              "      <th>deltaeta</th>\n",
              "    </tr>\n",
              "  </thead>\n",
              "  <tbody>\n",
              "    <tr>\n",
              "      <th>0</th>\n",
              "      <td>0</td>\n",
              "      <td>43.0</td>\n",
              "    </tr>\n",
              "    <tr>\n",
              "      <th>1</th>\n",
              "      <td>1</td>\n",
              "      <td>37.2</td>\n",
              "    </tr>\n",
              "    <tr>\n",
              "      <th>2</th>\n",
              "      <td>17</td>\n",
              "      <td>38.1</td>\n",
              "    </tr>\n",
              "    <tr>\n",
              "      <th>3</th>\n",
              "      <td>29</td>\n",
              "      <td>49.1</td>\n",
              "    </tr>\n",
              "    <tr>\n",
              "      <th>4</th>\n",
              "      <td>30</td>\n",
              "      <td>46.3</td>\n",
              "    </tr>\n",
              "  </tbody>\n",
              "</table>\n",
              "</div>\n",
              "      <button class=\"colab-df-convert\" onclick=\"convertToInteractive('df-9ad6fb37-92f4-47dd-9977-0d867792f5aa')\"\n",
              "              title=\"Convert this dataframe to an interactive table.\"\n",
              "              style=\"display:none;\">\n",
              "        \n",
              "  <svg xmlns=\"http://www.w3.org/2000/svg\" height=\"24px\"viewBox=\"0 0 24 24\"\n",
              "       width=\"24px\">\n",
              "    <path d=\"M0 0h24v24H0V0z\" fill=\"none\"/>\n",
              "    <path d=\"M18.56 5.44l.94 2.06.94-2.06 2.06-.94-2.06-.94-.94-2.06-.94 2.06-2.06.94zm-11 1L8.5 8.5l.94-2.06 2.06-.94-2.06-.94L8.5 2.5l-.94 2.06-2.06.94zm10 10l.94 2.06.94-2.06 2.06-.94-2.06-.94-.94-2.06-.94 2.06-2.06.94z\"/><path d=\"M17.41 7.96l-1.37-1.37c-.4-.4-.92-.59-1.43-.59-.52 0-1.04.2-1.43.59L10.3 9.45l-7.72 7.72c-.78.78-.78 2.05 0 2.83L4 21.41c.39.39.9.59 1.41.59.51 0 1.02-.2 1.41-.59l7.78-7.78 2.81-2.81c.8-.78.8-2.07 0-2.86zM5.41 20L4 18.59l7.72-7.72 1.47 1.35L5.41 20z\"/>\n",
              "  </svg>\n",
              "      </button>\n",
              "      \n",
              "  <style>\n",
              "    .colab-df-container {\n",
              "      display:flex;\n",
              "      flex-wrap:wrap;\n",
              "      gap: 12px;\n",
              "    }\n",
              "\n",
              "    .colab-df-convert {\n",
              "      background-color: #E8F0FE;\n",
              "      border: none;\n",
              "      border-radius: 50%;\n",
              "      cursor: pointer;\n",
              "      display: none;\n",
              "      fill: #1967D2;\n",
              "      height: 32px;\n",
              "      padding: 0 0 0 0;\n",
              "      width: 32px;\n",
              "    }\n",
              "\n",
              "    .colab-df-convert:hover {\n",
              "      background-color: #E2EBFA;\n",
              "      box-shadow: 0px 1px 2px rgba(60, 64, 67, 0.3), 0px 1px 3px 1px rgba(60, 64, 67, 0.15);\n",
              "      fill: #174EA6;\n",
              "    }\n",
              "\n",
              "    [theme=dark] .colab-df-convert {\n",
              "      background-color: #3B4455;\n",
              "      fill: #D2E3FC;\n",
              "    }\n",
              "\n",
              "    [theme=dark] .colab-df-convert:hover {\n",
              "      background-color: #434B5C;\n",
              "      box-shadow: 0px 1px 3px 1px rgba(0, 0, 0, 0.15);\n",
              "      filter: drop-shadow(0px 1px 2px rgba(0, 0, 0, 0.3));\n",
              "      fill: #FFFFFF;\n",
              "    }\n",
              "  </style>\n",
              "\n",
              "      <script>\n",
              "        const buttonEl =\n",
              "          document.querySelector('#df-9ad6fb37-92f4-47dd-9977-0d867792f5aa button.colab-df-convert');\n",
              "        buttonEl.style.display =\n",
              "          google.colab.kernel.accessAllowed ? 'block' : 'none';\n",
              "\n",
              "        async function convertToInteractive(key) {\n",
              "          const element = document.querySelector('#df-9ad6fb37-92f4-47dd-9977-0d867792f5aa');\n",
              "          const dataTable =\n",
              "            await google.colab.kernel.invokeFunction('convertToInteractive',\n",
              "                                                     [key], {});\n",
              "          if (!dataTable) return;\n",
              "\n",
              "          const docLinkHtml = 'Like what you see? Visit the ' +\n",
              "            '<a target=\"_blank\" href=https://colab.research.google.com/notebooks/data_table.ipynb>data table notebook</a>'\n",
              "            + ' to learn more about interactive tables.';\n",
              "          element.innerHTML = '';\n",
              "          dataTable['output_type'] = 'display_data';\n",
              "          await google.colab.output.renderOutput(dataTable, element);\n",
              "          const docLink = document.createElement('div');\n",
              "          docLink.innerHTML = docLinkHtml;\n",
              "          element.appendChild(docLink);\n",
              "        }\n",
              "      </script>\n",
              "    </div>\n",
              "  </div>\n",
              "  "
            ]
          },
          "metadata": {},
          "execution_count": 12
        }
      ]
    },
    {
      "cell_type": "code",
      "source": [
        "plt.plot(data['pt'], data['deltaeta'])"
      ],
      "metadata": {
        "colab": {
          "base_uri": "https://localhost:8080/",
          "height": 511
        },
        "id": "X5d79yIXQbs4",
        "outputId": "a3ce6fff-86bb-4958-c210-0f0ae096190f"
      },
      "execution_count": null,
      "outputs": [
        {
          "output_type": "execute_result",
          "data": {
            "text/plain": [
              "[<matplotlib.lines.Line2D at 0x7f4a3f5cd4d0>]"
            ]
          },
          "metadata": {},
          "execution_count": 14
        },
        {
          "output_type": "display_data",
          "data": {
            "text/plain": [
              "<Figure size 1440x720 with 1 Axes>"
            ],
            "image/png": "[encoded data removed]"
          },
          "metadata": {}
        }
      ]
    },
    {
      "cell_type": "code",
      "source": [
        "data = pd.read_csv('/content/Data/data_pp_e+e-.csv')\n",
        "data.head()"
      ],
      "metadata": {
        "colab": {
          "base_uri": "https://localhost:8080/",
          "height": 204
        },
        "id": "fw3zLZ-dQc0a",
        "outputId": "d18edafa-56c9-4687-f9b9-9dc58b78669e"
      },
      "execution_count": null,
      "outputs": [
        {
          "output_type": "execute_result",
          "data": {
            "text/plain": [
              "   invariant_mass_electron      px1       py1     ptl1        px2       py2  \\\n",
              "0                  92.3608  23.5840  41.50800  47.7401  -0.265954 -47.48210   \n",
              "1                  90.9088  37.6121  11.65630  39.3769 -33.767800 -15.68980   \n",
              "2                  79.7348 -47.8682 -40.11020  62.4515   4.626220  22.87610   \n",
              "3                  96.3826  45.0804  -3.18353  45.1926 -38.092000   3.51633   \n",
              "4                  89.4622  20.6118 -48.04220  52.2771  -3.156180  31.25360   \n",
              "\n",
              "      ptl2     etal1     etal2  \n",
              "0  47.4828  0.141171  0.278032  \n",
              "1  37.2349  1.493910  0.282925  \n",
              "2  23.3392 -1.136180 -0.269716  \n",
              "3  38.2539  0.986720  2.100410  \n",
              "4  31.4126 -1.598680 -0.651694  "
            ],
            "text/html": [
              "\n",
              "  <div id=\"df-9b97dd7e-cdda-4c1d-bfb5-5eed322528cb\">\n",
              "    <div class=\"colab-df-container\">\n",
              "      <div>\n",
              "<style scoped>\n",
              "    .dataframe tbody tr th:only-of-type {\n",
              "        vertical-align: middle;\n",
              "    }\n",
              "\n",
              "    .dataframe tbody tr th {\n",
              "        vertical-align: top;\n",
              "    }\n",
              "\n",
              "    .dataframe thead th {\n",
              "        text-align: right;\n",
              "    }\n",
              "</style>\n",
              "<table border=\"1\" class=\"dataframe\">\n",
              "  <thead>\n",
              "    <tr style=\"text-align: right;\">\n",
              "      <th></th>\n",
              "      <th>invariant_mass_electron</th>\n",
              "      <th>px1</th>\n",
              "      <th>py1</th>\n",
              "      <th>ptl1</th>\n",
              "      <th>px2</th>\n",
              "      <th>py2</th>\n",
              "      <th>ptl2</th>\n",
              "      <th>etal1</th>\n",
              "      <th>etal2</th>\n",
              "    </tr>\n",
              "  </thead>\n",
              "  <tbody>\n",
              "    <tr>\n",
              "      <th>0</th>\n",
              "      <td>92.3608</td>\n",
              "      <td>23.5840</td>\n",
              "      <td>41.50800</td>\n",
              "      <td>47.7401</td>\n",
              "      <td>-0.265954</td>\n",
              "      <td>-47.48210</td>\n",
              "      <td>47.4828</td>\n",
              "      <td>0.141171</td>\n",
              "      <td>0.278032</td>\n",
              "    </tr>\n",
              "    <tr>\n",
              "      <th>1</th>\n",
              "      <td>90.9088</td>\n",
              "      <td>37.6121</td>\n",
              "      <td>11.65630</td>\n",
              "      <td>39.3769</td>\n",
              "      <td>-33.767800</td>\n",
              "      <td>-15.68980</td>\n",
              "      <td>37.2349</td>\n",
              "      <td>1.493910</td>\n",
              "      <td>0.282925</td>\n",
              "    </tr>\n",
              "    <tr>\n",
              "      <th>2</th>\n",
              "      <td>79.7348</td>\n",
              "      <td>-47.8682</td>\n",
              "      <td>-40.11020</td>\n",
              "      <td>62.4515</td>\n",
              "      <td>4.626220</td>\n",
              "      <td>22.87610</td>\n",
              "      <td>23.3392</td>\n",
              "      <td>-1.136180</td>\n",
              "      <td>-0.269716</td>\n",
              "    </tr>\n",
              "    <tr>\n",
              "      <th>3</th>\n",
              "      <td>96.3826</td>\n",
              "      <td>45.0804</td>\n",
              "      <td>-3.18353</td>\n",
              "      <td>45.1926</td>\n",
              "      <td>-38.092000</td>\n",
              "      <td>3.51633</td>\n",
              "      <td>38.2539</td>\n",
              "      <td>0.986720</td>\n",
              "      <td>2.100410</td>\n",
              "    </tr>\n",
              "    <tr>\n",
              "      <th>4</th>\n",
              "      <td>89.4622</td>\n",
              "      <td>20.6118</td>\n",
              "      <td>-48.04220</td>\n",
              "      <td>52.2771</td>\n",
              "      <td>-3.156180</td>\n",
              "      <td>31.25360</td>\n",
              "      <td>31.4126</td>\n",
              "      <td>-1.598680</td>\n",
              "      <td>-0.651694</td>\n",
              "    </tr>\n",
              "  </tbody>\n",
              "</table>\n",
              "</div>\n",
              "      <button class=\"colab-df-convert\" onclick=\"convertToInteractive('df-9b97dd7e-cdda-4c1d-bfb5-5eed322528cb')\"\n",
              "              title=\"Convert this dataframe to an interactive table.\"\n",
              "              style=\"display:none;\">\n",
              "        \n",
              "  <svg xmlns=\"http://www.w3.org/2000/svg\" height=\"24px\"viewBox=\"0 0 24 24\"\n",
              "       width=\"24px\">\n",
              "    <path d=\"M0 0h24v24H0V0z\" fill=\"none\"/>\n",
              "    <path d=\"M18.56 5.44l.94 2.06.94-2.06 2.06-.94-2.06-.94-.94-2.06-.94 2.06-2.06.94zm-11 1L8.5 8.5l.94-2.06 2.06-.94-2.06-.94L8.5 2.5l-.94 2.06-2.06.94zm10 10l.94 2.06.94-2.06 2.06-.94-2.06-.94-.94-2.06-.94 2.06-2.06.94z\"/><path d=\"M17.41 7.96l-1.37-1.37c-.4-.4-.92-.59-1.43-.59-.52 0-1.04.2-1.43.59L10.3 9.45l-7.72 7.72c-.78.78-.78 2.05 0 2.83L4 21.41c.39.39.9.59 1.41.59.51 0 1.02-.2 1.41-.59l7.78-7.78 2.81-2.81c.8-.78.8-2.07 0-2.86zM5.41 20L4 18.59l7.72-7.72 1.47 1.35L5.41 20z\"/>\n",
              "  </svg>\n",
              "      </button>\n",
              "      \n",
              "  <style>\n",
              "    .colab-df-container {\n",
              "      display:flex;\n",
              "      flex-wrap:wrap;\n",
              "      gap: 12px;\n",
              "    }\n",
              "\n",
              "    .colab-df-convert {\n",
              "      background-color: #E8F0FE;\n",
              "      border: none;\n",
              "      border-radius: 50%;\n",
              "      cursor: pointer;\n",
              "      display: none;\n",
              "      fill: #1967D2;\n",
              "      height: 32px;\n",
              "      padding: 0 0 0 0;\n",
              "      width: 32px;\n",
              "    }\n",
              "\n",
              "    .colab-df-convert:hover {\n",
              "      background-color: #E2EBFA;\n",
              "      box-shadow: 0px 1px 2px rgba(60, 64, 67, 0.3), 0px 1px 3px 1px rgba(60, 64, 67, 0.15);\n",
              "      fill: #174EA6;\n",
              "    }\n",
              "\n",
              "    [theme=dark] .colab-df-convert {\n",
              "      background-color: #3B4455;\n",
              "      fill: #D2E3FC;\n",
              "    }\n",
              "\n",
              "    [theme=dark] .colab-df-convert:hover {\n",
              "      background-color: #434B5C;\n",
              "      box-shadow: 0px 1px 3px 1px rgba(0, 0, 0, 0.15);\n",
              "      filter: drop-shadow(0px 1px 2px rgba(0, 0, 0, 0.3));\n",
              "      fill: #FFFFFF;\n",
              "    }\n",
              "  </style>\n",
              "\n",
              "      <script>\n",
              "        const buttonEl =\n",
              "          document.querySelector('#df-9b97dd7e-cdda-4c1d-bfb5-5eed322528cb button.colab-df-convert');\n",
              "        buttonEl.style.display =\n",
              "          google.colab.kernel.accessAllowed ? 'block' : 'none';\n",
              "\n",
              "        async function convertToInteractive(key) {\n",
              "          const element = document.querySelector('#df-9b97dd7e-cdda-4c1d-bfb5-5eed322528cb');\n",
              "          const dataTable =\n",
              "            await google.colab.kernel.invokeFunction('convertToInteractive',\n",
              "                                                     [key], {});\n",
              "          if (!dataTable) return;\n",
              "\n",
              "          const docLinkHtml = 'Like what you see? Visit the ' +\n",
              "            '<a target=\"_blank\" href=https://colab.research.google.com/notebooks/data_table.ipynb>data table notebook</a>'\n",
              "            + ' to learn more about interactive tables.';\n",
              "          element.innerHTML = '';\n",
              "          dataTable['output_type'] = 'display_data';\n",
              "          await google.colab.output.renderOutput(dataTable, element);\n",
              "          const docLink = document.createElement('div');\n",
              "          docLink.innerHTML = docLinkHtml;\n",
              "          element.appendChild(docLink);\n",
              "        }\n",
              "      </script>\n",
              "    </div>\n",
              "  </div>\n",
              "  "
            ]
          },
          "metadata": {},
          "execution_count": 15
        }
      ]
    },
    {
      "cell_type": "code",
      "source": [
        "data = pd.read_csv('/content/Data/data_pp_mu+mu-.csv')\n",
        "data.head()"
      ],
      "metadata": {
        "colab": {
          "base_uri": "https://localhost:8080/",
          "height": 204
        },
        "id": "E8CzDKjMQ_LV",
        "outputId": "30d1daca-c0f0-42bc-ae33-dab88e29b420"
      },
      "execution_count": null,
      "outputs": [
        {
          "output_type": "execute_result",
          "data": {
            "text/plain": [
              "   invariant_mass_moun       px1       py1     ptl1       px2        py2  \\\n",
              "0              92.5245  35.64250  27.17210  44.8187 -31.59160   0.267421   \n",
              "1              92.6410  20.51450  -1.92013  20.6042 -12.84380   8.516500   \n",
              "2              26.8235  -9.52388  11.17920  14.6860   9.17832  -7.191330   \n",
              "3              90.8249  11.86840  57.29280  58.5092 -16.16680 -28.243100   \n",
              "4              93.6439 -23.06790 -56.40930  60.9437  16.28760  26.815700   \n",
              "\n",
              "      ptl2     etal1     etal2  \n",
              "0  31.5928  1.904550  0.462500  \n",
              "1  15.4108 -1.137450  2.090440  \n",
              "2  11.6601  0.363589  0.850506  \n",
              "3  32.5429  0.101788  0.747194  \n",
              "4  31.3746  1.025800  1.788810  "
            ],
            "text/html": [
              "\n",
              "  <div id=\"df-40a02316-625d-4a1e-a338-ec11a37787b6\">\n",
              "    <div class=\"colab-df-container\">\n",
              "      <div>\n",
              "<style scoped>\n",
              "    .dataframe tbody tr th:only-of-type {\n",
              "        vertical-align: middle;\n",
              "    }\n",
              "\n",
              "    .dataframe tbody tr th {\n",
              "        vertical-align: top;\n",
              "    }\n",
              "\n",
              "    .dataframe thead th {\n",
              "        text-align: right;\n",
              "    }\n",
              "</style>\n",
              "<table border=\"1\" class=\"dataframe\">\n",
              "  <thead>\n",
              "    <tr style=\"text-align: right;\">\n",
              "      <th></th>\n",
              "      <th>invariant_mass_moun</th>\n",
              "      <th>px1</th>\n",
              "      <th>py1</th>\n",
              "      <th>ptl1</th>\n",
              "      <th>px2</th>\n",
              "      <th>py2</th>\n",
              "      <th>ptl2</th>\n",
              "      <th>etal1</th>\n",
              "      <th>etal2</th>\n",
              "    </tr>\n",
              "  </thead>\n",
              "  <tbody>\n",
              "    <tr>\n",
              "      <th>0</th>\n",
              "      <td>92.5245</td>\n",
              "      <td>35.64250</td>\n",
              "      <td>27.17210</td>\n",
              "      <td>44.8187</td>\n",
              "      <td>-31.59160</td>\n",
              "      <td>0.267421</td>\n",
              "      <td>31.5928</td>\n",
              "      <td>1.904550</td>\n",
              "      <td>0.462500</td>\n",
              "    </tr>\n",
              "    <tr>\n",
              "      <th>1</th>\n",
              "      <td>92.6410</td>\n",
              "      <td>20.51450</td>\n",
              "      <td>-1.92013</td>\n",
              "      <td>20.6042</td>\n",
              "      <td>-12.84380</td>\n",
              "      <td>8.516500</td>\n",
              "      <td>15.4108</td>\n",
              "      <td>-1.137450</td>\n",
              "      <td>2.090440</td>\n",
              "    </tr>\n",
              "    <tr>\n",
              "      <th>2</th>\n",
              "      <td>26.8235</td>\n",
              "      <td>-9.52388</td>\n",
              "      <td>11.17920</td>\n",
              "      <td>14.6860</td>\n",
              "      <td>9.17832</td>\n",
              "      <td>-7.191330</td>\n",
              "      <td>11.6601</td>\n",
              "      <td>0.363589</td>\n",
              "      <td>0.850506</td>\n",
              "    </tr>\n",
              "    <tr>\n",
              "      <th>3</th>\n",
              "      <td>90.8249</td>\n",
              "      <td>11.86840</td>\n",
              "      <td>57.29280</td>\n",
              "      <td>58.5092</td>\n",
              "      <td>-16.16680</td>\n",
              "      <td>-28.243100</td>\n",
              "      <td>32.5429</td>\n",
              "      <td>0.101788</td>\n",
              "      <td>0.747194</td>\n",
              "    </tr>\n",
              "    <tr>\n",
              "      <th>4</th>\n",
              "      <td>93.6439</td>\n",
              "      <td>-23.06790</td>\n",
              "      <td>-56.40930</td>\n",
              "      <td>60.9437</td>\n",
              "      <td>16.28760</td>\n",
              "      <td>26.815700</td>\n",
              "      <td>31.3746</td>\n",
              "      <td>1.025800</td>\n",
              "      <td>1.788810</td>\n",
              "    </tr>\n",
              "  </tbody>\n",
              "</table>\n",
              "</div>\n",
              "      <button class=\"colab-df-convert\" onclick=\"convertToInteractive('df-40a02316-625d-4a1e-a338-ec11a37787b6')\"\n",
              "              title=\"Convert this dataframe to an interactive table.\"\n",
              "              style=\"display:none;\">\n",
              "        \n",
              "  <svg xmlns=\"http://www.w3.org/2000/svg\" height=\"24px\"viewBox=\"0 0 24 24\"\n",
              "       width=\"24px\">\n",
              "    <path d=\"M0 0h24v24H0V0z\" fill=\"none\"/>\n",
              "    <path d=\"M18.56 5.44l.94 2.06.94-2.06 2.06-.94-2.06-.94-.94-2.06-.94 2.06-2.06.94zm-11 1L8.5 8.5l.94-2.06 2.06-.94-2.06-.94L8.5 2.5l-.94 2.06-2.06.94zm10 10l.94 2.06.94-2.06 2.06-.94-2.06-.94-.94-2.06-.94 2.06-2.06.94z\"/><path d=\"M17.41 7.96l-1.37-1.37c-.4-.4-.92-.59-1.43-.59-.52 0-1.04.2-1.43.59L10.3 9.45l-7.72 7.72c-.78.78-.78 2.05 0 2.83L4 21.41c.39.39.9.59 1.41.59.51 0 1.02-.2 1.41-.59l7.78-7.78 2.81-2.81c.8-.78.8-2.07 0-2.86zM5.41 20L4 18.59l7.72-7.72 1.47 1.35L5.41 20z\"/>\n",
              "  </svg>\n",
              "      </button>\n",
              "      \n",
              "  <style>\n",
              "    .colab-df-container {\n",
              "      display:flex;\n",
              "      flex-wrap:wrap;\n",
              "      gap: 12px;\n",
              "    }\n",
              "\n",
              "    .colab-df-convert {\n",
              "      background-color: #E8F0FE;\n",
              "      border: none;\n",
              "      border-radius: 50%;\n",
              "      cursor: pointer;\n",
              "      display: none;\n",
              "      fill: #1967D2;\n",
              "      height: 32px;\n",
              "      padding: 0 0 0 0;\n",
              "      width: 32px;\n",
              "    }\n",
              "\n",
              "    .colab-df-convert:hover {\n",
              "      background-color: #E2EBFA;\n",
              "      box-shadow: 0px 1px 2px rgba(60, 64, 67, 0.3), 0px 1px 3px 1px rgba(60, 64, 67, 0.15);\n",
              "      fill: #174EA6;\n",
              "    }\n",
              "\n",
              "    [theme=dark] .colab-df-convert {\n",
              "      background-color: #3B4455;\n",
              "      fill: #D2E3FC;\n",
              "    }\n",
              "\n",
              "    [theme=dark] .colab-df-convert:hover {\n",
              "      background-color: #434B5C;\n",
              "      box-shadow: 0px 1px 3px 1px rgba(0, 0, 0, 0.15);\n",
              "      filter: drop-shadow(0px 1px 2px rgba(0, 0, 0, 0.3));\n",
              "      fill: #FFFFFF;\n",
              "    }\n",
              "  </style>\n",
              "\n",
              "      <script>\n",
              "        const buttonEl =\n",
              "          document.querySelector('#df-40a02316-625d-4a1e-a338-ec11a37787b6 button.colab-df-convert');\n",
              "        buttonEl.style.display =\n",
              "          google.colab.kernel.accessAllowed ? 'block' : 'none';\n",
              "\n",
              "        async function convertToInteractive(key) {\n",
              "          const element = document.querySelector('#df-40a02316-625d-4a1e-a338-ec11a37787b6');\n",
              "          const dataTable =\n",
              "            await google.colab.kernel.invokeFunction('convertToInteractive',\n",
              "                                                     [key], {});\n",
              "          if (!dataTable) return;\n",
              "\n",
              "          const docLinkHtml = 'Like what you see? Visit the ' +\n",
              "            '<a target=\"_blank\" href=https://colab.research.google.com/notebooks/data_table.ipynb>data table notebook</a>'\n",
              "            + ' to learn more about interactive tables.';\n",
              "          element.innerHTML = '';\n",
              "          dataTable['output_type'] = 'display_data';\n",
              "          await google.colab.output.renderOutput(dataTable, element);\n",
              "          const docLink = document.createElement('div');\n",
              "          docLink.innerHTML = docLinkHtml;\n",
              "          element.appendChild(docLink);\n",
              "        }\n",
              "      </script>\n",
              "    </div>\n",
              "  </div>\n",
              "  "
            ]
          },
          "metadata": {},
          "execution_count": 16
        }
      ]
    },
    {
      "cell_type": "code",
      "source": [
        "data = pd.read_csv('/content/Data/data_pp_z_e+e-.csv')\n",
        "data.head()"
      ],
      "metadata": {
        "colab": {
          "base_uri": "https://localhost:8080/",
          "height": 204
        },
        "id": "5-_q_0PoSr5Z",
        "outputId": "1b9045a5-a0dd-4a18-d46a-3fc1fc6c4005"
      },
      "execution_count": null,
      "outputs": [
        {
          "output_type": "execute_result",
          "data": {
            "text/plain": [
              "   invariant_mass_electron       px1      py1     ptl1       px2       py2  \\\n",
              "0                  46.7906 -16.18450 -12.7413  20.5980  11.86830   6.06155   \n",
              "1                  90.7440  -4.99171  17.7392  18.4281  -2.06191 -18.18030   \n",
              "2                  89.2582  20.69320 -38.0891  43.3473  -7.79677  42.49780   \n",
              "3                  99.9240  39.64360  39.9574  56.2869 -27.13160 -32.43630   \n",
              "4                  85.9435  33.08810 -28.3554  43.5758 -21.72990  37.76000   \n",
              "\n",
              "      ptl2     etal1    etal2  \n",
              "0  13.3266 -0.140835 -1.90597  \n",
              "1  18.2968 -1.097690  2.01696  \n",
              "2  43.2071 -1.794890 -1.20917  \n",
              "3  42.2876  1.481710  1.03587  \n",
              "4  43.5661 -1.508870 -1.58153  "
            ],
            "text/html": [
              "\n",
              "  <div id=\"df-1d0d633c-4ded-4380-a58d-30ca3e700f39\">\n",
              "    <div class=\"colab-df-container\">\n",
              "      <div>\n",
              "<style scoped>\n",
              "    .dataframe tbody tr th:only-of-type {\n",
              "        vertical-align: middle;\n",
              "    }\n",
              "\n",
              "    .dataframe tbody tr th {\n",
              "        vertical-align: top;\n",
              "    }\n",
              "\n",
              "    .dataframe thead th {\n",
              "        text-align: right;\n",
              "    }\n",
              "</style>\n",
              "<table border=\"1\" class=\"dataframe\">\n",
              "  <thead>\n",
              "    <tr style=\"text-align: right;\">\n",
              "      <th></th>\n",
              "      <th>invariant_mass_electron</th>\n",
              "      <th>px1</th>\n",
              "      <th>py1</th>\n",
              "      <th>ptl1</th>\n",
              "      <th>px2</th>\n",
              "      <th>py2</th>\n",
              "      <th>ptl2</th>\n",
              "      <th>etal1</th>\n",
              "      <th>etal2</th>\n",
              "    </tr>\n",
              "  </thead>\n",
              "  <tbody>\n",
              "    <tr>\n",
              "      <th>0</th>\n",
              "      <td>46.7906</td>\n",
              "      <td>-16.18450</td>\n",
              "      <td>-12.7413</td>\n",
              "      <td>20.5980</td>\n",
              "      <td>11.86830</td>\n",
              "      <td>6.06155</td>\n",
              "      <td>13.3266</td>\n",
              "      <td>-0.140835</td>\n",
              "      <td>-1.90597</td>\n",
              "    </tr>\n",
              "    <tr>\n",
              "      <th>1</th>\n",
              "      <td>90.7440</td>\n",
              "      <td>-4.99171</td>\n",
              "      <td>17.7392</td>\n",
              "      <td>18.4281</td>\n",
              "      <td>-2.06191</td>\n",
              "      <td>-18.18030</td>\n",
              "      <td>18.2968</td>\n",
              "      <td>-1.097690</td>\n",
              "      <td>2.01696</td>\n",
              "    </tr>\n",
              "    <tr>\n",
              "      <th>2</th>\n",
              "      <td>89.2582</td>\n",
              "      <td>20.69320</td>\n",
              "      <td>-38.0891</td>\n",
              "      <td>43.3473</td>\n",
              "      <td>-7.79677</td>\n",
              "      <td>42.49780</td>\n",
              "      <td>43.2071</td>\n",
              "      <td>-1.794890</td>\n",
              "      <td>-1.20917</td>\n",
              "    </tr>\n",
              "    <tr>\n",
              "      <th>3</th>\n",
              "      <td>99.9240</td>\n",
              "      <td>39.64360</td>\n",
              "      <td>39.9574</td>\n",
              "      <td>56.2869</td>\n",
              "      <td>-27.13160</td>\n",
              "      <td>-32.43630</td>\n",
              "      <td>42.2876</td>\n",
              "      <td>1.481710</td>\n",
              "      <td>1.03587</td>\n",
              "    </tr>\n",
              "    <tr>\n",
              "      <th>4</th>\n",
              "      <td>85.9435</td>\n",
              "      <td>33.08810</td>\n",
              "      <td>-28.3554</td>\n",
              "      <td>43.5758</td>\n",
              "      <td>-21.72990</td>\n",
              "      <td>37.76000</td>\n",
              "      <td>43.5661</td>\n",
              "      <td>-1.508870</td>\n",
              "      <td>-1.58153</td>\n",
              "    </tr>\n",
              "  </tbody>\n",
              "</table>\n",
              "</div>\n",
              "      <button class=\"colab-df-convert\" onclick=\"convertToInteractive('df-1d0d633c-4ded-4380-a58d-30ca3e700f39')\"\n",
              "              title=\"Convert this dataframe to an interactive table.\"\n",
              "              style=\"display:none;\">\n",
              "        \n",
              "  <svg xmlns=\"http://www.w3.org/2000/svg\" height=\"24px\"viewBox=\"0 0 24 24\"\n",
              "       width=\"24px\">\n",
              "    <path d=\"M0 0h24v24H0V0z\" fill=\"none\"/>\n",
              "    <path d=\"M18.56 5.44l.94 2.06.94-2.06 2.06-.94-2.06-.94-.94-2.06-.94 2.06-2.06.94zm-11 1L8.5 8.5l.94-2.06 2.06-.94-2.06-.94L8.5 2.5l-.94 2.06-2.06.94zm10 10l.94 2.06.94-2.06 2.06-.94-2.06-.94-.94-2.06-.94 2.06-2.06.94z\"/><path d=\"M17.41 7.96l-1.37-1.37c-.4-.4-.92-.59-1.43-.59-.52 0-1.04.2-1.43.59L10.3 9.45l-7.72 7.72c-.78.78-.78 2.05 0 2.83L4 21.41c.39.39.9.59 1.41.59.51 0 1.02-.2 1.41-.59l7.78-7.78 2.81-2.81c.8-.78.8-2.07 0-2.86zM5.41 20L4 18.59l7.72-7.72 1.47 1.35L5.41 20z\"/>\n",
              "  </svg>\n",
              "      </button>\n",
              "      \n",
              "  <style>\n",
              "    .colab-df-container {\n",
              "      display:flex;\n",
              "      flex-wrap:wrap;\n",
              "      gap: 12px;\n",
              "    }\n",
              "\n",
              "    .colab-df-convert {\n",
              "      background-color: #E8F0FE;\n",
              "      border: none;\n",
              "      border-radius: 50%;\n",
              "      cursor: pointer;\n",
              "      display: none;\n",
              "      fill: #1967D2;\n",
              "      height: 32px;\n",
              "      padding: 0 0 0 0;\n",
              "      width: 32px;\n",
              "    }\n",
              "\n",
              "    .colab-df-convert:hover {\n",
              "      background-color: #E2EBFA;\n",
              "      box-shadow: 0px 1px 2px rgba(60, 64, 67, 0.3), 0px 1px 3px 1px rgba(60, 64, 67, 0.15);\n",
              "      fill: #174EA6;\n",
              "    }\n",
              "\n",
              "    [theme=dark] .colab-df-convert {\n",
              "      background-color: #3B4455;\n",
              "      fill: #D2E3FC;\n",
              "    }\n",
              "\n",
              "    [theme=dark] .colab-df-convert:hover {\n",
              "      background-color: #434B5C;\n",
              "      box-shadow: 0px 1px 3px 1px rgba(0, 0, 0, 0.15);\n",
              "      filter: drop-shadow(0px 1px 2px rgba(0, 0, 0, 0.3));\n",
              "      fill: #FFFFFF;\n",
              "    }\n",
              "  </style>\n",
              "\n",
              "      <script>\n",
              "        const buttonEl =\n",
              "          document.querySelector('#df-1d0d633c-4ded-4380-a58d-30ca3e700f39 button.colab-df-convert');\n",
              "        buttonEl.style.display =\n",
              "          google.colab.kernel.accessAllowed ? 'block' : 'none';\n",
              "\n",
              "        async function convertToInteractive(key) {\n",
              "          const element = document.querySelector('#df-1d0d633c-4ded-4380-a58d-30ca3e700f39');\n",
              "          const dataTable =\n",
              "            await google.colab.kernel.invokeFunction('convertToInteractive',\n",
              "                                                     [key], {});\n",
              "          if (!dataTable) return;\n",
              "\n",
              "          const docLinkHtml = 'Like what you see? Visit the ' +\n",
              "            '<a target=\"_blank\" href=https://colab.research.google.com/notebooks/data_table.ipynb>data table notebook</a>'\n",
              "            + ' to learn more about interactive tables.';\n",
              "          element.innerHTML = '';\n",
              "          dataTable['output_type'] = 'display_data';\n",
              "          await google.colab.output.renderOutput(dataTable, element);\n",
              "          const docLink = document.createElement('div');\n",
              "          docLink.innerHTML = docLinkHtml;\n",
              "          element.appendChild(docLink);\n",
              "        }\n",
              "      </script>\n",
              "    </div>\n",
              "  </div>\n",
              "  "
            ]
          },
          "metadata": {},
          "execution_count": 17
        }
      ]
    },
    {
      "cell_type": "markdown",
      "source": [
        "# **AutoEncoder**"
      ],
      "metadata": {
        "id": "PyQIzvrwOE2p"
      }
    },
    {
      "cell_type": "markdown",
      "source": [
        "## **Importing Libraries**"
      ],
      "metadata": {
        "id": "6H-87rdIhqOD"
      }
    },
    {
      "cell_type": "code",
      "source": [
        "import numpy as np\n",
        "import pandas as pd\n",
        "import tensorflow as tf\n",
        "from tqdm import tqdm\n",
        "import matplotlib.pyplot as plt\n",
        "import random\n",
        "\n",
        "from sklearn.metrics import accuracy_score\n",
        "from tensorflow.keras.optimizers import Adam\n",
        "from sklearn.preprocessing import MinMaxScaler\n",
        "from tensorflow.keras import Model, Sequential\n",
        "from tensorflow.keras.layers import Dense, Dropout\n",
        "from sklearn.model_selection import train_test_split\n",
        "from tensorflow.keras.losses import MeanSquaredLogarithmicError\n",
        "from numpy.random import seed\n",
        "seed(1)\n",
        "plt.style.use('seaborn')\n",
        "plt.rcParams[\"figure.figsize\"] = (20, 10)\n",
        "plt.rcParams. update({'font.size': 30})"
      ],
      "metadata": {
        "id": "lRTEFvvsh6cJ"
      },
      "execution_count": null,
      "outputs": []
    },
    {
      "cell_type": "markdown",
      "source": [
        "## **Loading and Visualising Data**"
      ],
      "metadata": {
        "id": "-77PbrU1Uuky"
      }
    },
    {
      "cell_type": "code",
      "source": [
        "signal = pd.read_csv('/content/drive/MyDrive/PYD411/sig.txt', sep = '\\t').reset_index(drop=True)\n",
        "signal.columns = ['garbage', 'value', 'label']\n",
        "signal = signal.drop(['garbage', 'label'], axis = 1)\n",
        "\n",
        "signal_1 = pd.read_csv('/content/drive/MyDrive/PYD411/1TeVinvmass.txt', sep = ' ')\n",
        "signal_1.columns = ['garbage', 'value']\n",
        "signal_1 = signal_1.drop(['garbage'], axis = 1)\n",
        "\n",
        "signal_3 = pd.read_csv('/content/drive/MyDrive/PYD411/3TeVinvmass.txt', sep = ' ')\n",
        "signal_3.columns = ['garbage', 'value']\n",
        "signal_3 = signal_3.drop(['garbage'], axis = 1)\n",
        "\n",
        "signal_0_5 = pd.read_csv('/content/drive/MyDrive/PYD411/500GeVinvmass.txt', sep = ' ')\n",
        "signal_0_5.columns = ['garbage', 'value']\n",
        "signal_0_5 = signal_0_5.drop(['garbage'], axis = 1)\n",
        "\n",
        "bg = pd.read_csv('/content/drive/MyDrive/PYD411/BG.txt', sep = '\\t').reset_index(drop=True)\n",
        "bg.columns = ['garbage', 'value', 'label']\n",
        "bg = bg.drop(['garbage', 'label'], axis = 1)"
      ],
      "metadata": {
        "id": "RopQGaloPpXb"
      },
      "execution_count": null,
      "outputs": []
    },
    {
      "cell_type": "code",
      "source": [
        "# signal_0_5.head()\n",
        "bg.info()"
      ],
      "metadata": {
        "colab": {
          "base_uri": "https://localhost:8080/"
        },
        "id": "sOXTGciSQLSy",
        "outputId": "24bab1da-4f3b-4203-a8d7-2c6d0d2bb6f9"
      },
      "execution_count": null,
      "outputs": [
        {
          "output_type": "stream",
          "name": "stdout",
          "text": [
            "<class 'pandas.core.frame.DataFrame'>\n",
            "RangeIndex: 46611 entries, 0 to 46610\n",
            "Data columns (total 1 columns):\n",
            " #   Column  Non-Null Count  Dtype  \n",
            "---  ------  --------------  -----  \n",
            " 0   value   46611 non-null  float64\n",
            "dtypes: float64(1)\n",
            "memory usage: 364.3 KB\n"
          ]
        }
      ]
    },
    {
      "cell_type": "code",
      "source": [
        "bg.head()"
      ],
      "metadata": {
        "colab": {
          "base_uri": "https://localhost:8080/",
          "height": 206
        },
        "id": "stDR_bWOQrS0",
        "outputId": "a658ef95-a6b1-4797-f032-91a76d7ba3a0"
      },
      "execution_count": null,
      "outputs": [
        {
          "output_type": "execute_result",
          "data": {
            "text/plain": [
              "    value\n",
              "0   949.0\n",
              "1   828.0\n",
              "2  1560.0\n",
              "3  1260.0\n",
              "4   928.0"
            ],
            "text/html": [
              "\n",
              "  <div id=\"df-ff7a93f9-b136-4d08-b6ef-833e2e9dcd6a\">\n",
              "    <div class=\"colab-df-container\">\n",
              "      <div>\n",
              "<style scoped>\n",
              "    .dataframe tbody tr th:only-of-type {\n",
              "        vertical-align: middle;\n",
              "    }\n",
              "\n",
              "    .dataframe tbody tr th {\n",
              "        vertical-align: top;\n",
              "    }\n",
              "\n",
              "    .dataframe thead th {\n",
              "        text-align: right;\n",
              "    }\n",
              "</style>\n",
              "<table border=\"1\" class=\"dataframe\">\n",
              "  <thead>\n",
              "    <tr style=\"text-align: right;\">\n",
              "      <th></th>\n",
              "      <th>value</th>\n",
              "    </tr>\n",
              "  </thead>\n",
              "  <tbody>\n",
              "    <tr>\n",
              "      <th>0</th>\n",
              "      <td>949.0</td>\n",
              "    </tr>\n",
              "    <tr>\n",
              "      <th>1</th>\n",
              "      <td>828.0</td>\n",
              "    </tr>\n",
              "    <tr>\n",
              "      <th>2</th>\n",
              "      <td>1560.0</td>\n",
              "    </tr>\n",
              "    <tr>\n",
              "      <th>3</th>\n",
              "      <td>1260.0</td>\n",
              "    </tr>\n",
              "    <tr>\n",
              "      <th>4</th>\n",
              "      <td>928.0</td>\n",
              "    </tr>\n",
              "  </tbody>\n",
              "</table>\n",
              "</div>\n",
              "      <button class=\"colab-df-convert\" onclick=\"convertToInteractive('df-ff7a93f9-b136-4d08-b6ef-833e2e9dcd6a')\"\n",
              "              title=\"Convert this dataframe to an interactive table.\"\n",
              "              style=\"display:none;\">\n",
              "        \n",
              "  <svg xmlns=\"http://www.w3.org/2000/svg\" height=\"24px\"viewBox=\"0 0 24 24\"\n",
              "       width=\"24px\">\n",
              "    <path d=\"M0 0h24v24H0V0z\" fill=\"none\"/>\n",
              "    <path d=\"M18.56 5.44l.94 2.06.94-2.06 2.06-.94-2.06-.94-.94-2.06-.94 2.06-2.06.94zm-11 1L8.5 8.5l.94-2.06 2.06-.94-2.06-.94L8.5 2.5l-.94 2.06-2.06.94zm10 10l.94 2.06.94-2.06 2.06-.94-2.06-.94-.94-2.06-.94 2.06-2.06.94z\"/><path d=\"M17.41 7.96l-1.37-1.37c-.4-.4-.92-.59-1.43-.59-.52 0-1.04.2-1.43.59L10.3 9.45l-7.72 7.72c-.78.78-.78 2.05 0 2.83L4 21.41c.39.39.9.59 1.41.59.51 0 1.02-.2 1.41-.59l7.78-7.78 2.81-2.81c.8-.78.8-2.07 0-2.86zM5.41 20L4 18.59l7.72-7.72 1.47 1.35L5.41 20z\"/>\n",
              "  </svg>\n",
              "      </button>\n",
              "      \n",
              "  <style>\n",
              "    .colab-df-container {\n",
              "      display:flex;\n",
              "      flex-wrap:wrap;\n",
              "      gap: 12px;\n",
              "    }\n",
              "\n",
              "    .colab-df-convert {\n",
              "      background-color: #E8F0FE;\n",
              "      border: none;\n",
              "      border-radius: 50%;\n",
              "      cursor: pointer;\n",
              "      display: none;\n",
              "      fill: #1967D2;\n",
              "      height: 32px;\n",
              "      padding: 0 0 0 0;\n",
              "      width: 32px;\n",
              "    }\n",
              "\n",
              "    .colab-df-convert:hover {\n",
              "      background-color: #E2EBFA;\n",
              "      box-shadow: 0px 1px 2px rgba(60, 64, 67, 0.3), 0px 1px 3px 1px rgba(60, 64, 67, 0.15);\n",
              "      fill: #174EA6;\n",
              "    }\n",
              "\n",
              "    [theme=dark] .colab-df-convert {\n",
              "      background-color: #3B4455;\n",
              "      fill: #D2E3FC;\n",
              "    }\n",
              "\n",
              "    [theme=dark] .colab-df-convert:hover {\n",
              "      background-color: #434B5C;\n",
              "      box-shadow: 0px 1px 3px 1px rgba(0, 0, 0, 0.15);\n",
              "      filter: drop-shadow(0px 1px 2px rgba(0, 0, 0, 0.3));\n",
              "      fill: #FFFFFF;\n",
              "    }\n",
              "  </style>\n",
              "\n",
              "      <script>\n",
              "        const buttonEl =\n",
              "          document.querySelector('#df-ff7a93f9-b136-4d08-b6ef-833e2e9dcd6a button.colab-df-convert');\n",
              "        buttonEl.style.display =\n",
              "          google.colab.kernel.accessAllowed ? 'block' : 'none';\n",
              "\n",
              "        async function convertToInteractive(key) {\n",
              "          const element = document.querySelector('#df-ff7a93f9-b136-4d08-b6ef-833e2e9dcd6a');\n",
              "          const dataTable =\n",
              "            await google.colab.kernel.invokeFunction('convertToInteractive',\n",
              "                                                     [key], {});\n",
              "          if (!dataTable) return;\n",
              "\n",
              "          const docLinkHtml = 'Like what you see? Visit the ' +\n",
              "            '<a target=\"_blank\" href=https://colab.research.google.com/notebooks/data_table.ipynb>data table notebook</a>'\n",
              "            + ' to learn more about interactive tables.';\n",
              "          element.innerHTML = '';\n",
              "          dataTable['output_type'] = 'display_data';\n",
              "          await google.colab.output.renderOutput(dataTable, element);\n",
              "          const docLink = document.createElement('div');\n",
              "          docLink.innerHTML = docLinkHtml;\n",
              "          element.appendChild(docLink);\n",
              "        }\n",
              "      </script>\n",
              "    </div>\n",
              "  </div>\n",
              "  "
            ]
          },
          "metadata": {},
          "execution_count": 19
        }
      ]
    },
    {
      "cell_type": "code",
      "source": [
        "bins = np.arange(0, 4001, 80)\n",
        "bins"
      ],
      "metadata": {
        "colab": {
          "base_uri": "https://localhost:8080/"
        },
        "id": "Rwlb2rYsQrPf",
        "outputId": "328d2b4b-b07b-4c8b-cc56-ffaa07605e42"
      },
      "execution_count": null,
      "outputs": [
        {
          "output_type": "execute_result",
          "data": {
            "text/plain": [
              "array([   0,   80,  160,  240,  320,  400,  480,  560,  640,  720,  800,\n",
              "        880,  960, 1040, 1120, 1200, 1280, 1360, 1440, 1520, 1600, 1680,\n",
              "       1760, 1840, 1920, 2000, 2080, 2160, 2240, 2320, 2400, 2480, 2560,\n",
              "       2640, 2720, 2800, 2880, 2960, 3040, 3120, 3200, 3280, 3360, 3440,\n",
              "       3520, 3600, 3680, 3760, 3840, 3920, 4000])"
            ]
          },
          "metadata": {},
          "execution_count": 20
        }
      ]
    },
    {
      "cell_type": "code",
      "source": [
        "signal_freq, bin = np.histogram(signal['value'], bins = bins, density=True)\n",
        "signal_freq_1, bin = np.histogram(signal_1['value'], bins = bins, density=True)\n",
        "signal_freq_3, bin = np.histogram(signal_3['value'], bins = bins, density=True)\n",
        "signal_freq_0_5, bin = np.histogram(signal_0_5['value'], bins = bins, density=True)\n",
        "\n",
        "bg_freq, bin2 = np.histogram(bg['value'], bins = bins, density=True)"
      ],
      "metadata": {
        "id": "2DSi0T6OSKcM"
      },
      "execution_count": null,
      "outputs": []
    },
    {
      "cell_type": "code",
      "source": [
        "signal_df = pd.DataFrame(columns = ['start', 'end', 'mid', 'freq'])\n",
        "signal_df['start'] = bin[:-1]\n",
        "signal_df['end'] = bin[1:]\n",
        "signal_df['mid'] = (signal_df['start'] + signal_df['end'])/2\n",
        "signal_df['freq'] = 5130*signal_freq/10000\n",
        "\n",
        "signal_df_1 = pd.DataFrame(columns = ['start', 'end', 'mid', 'freq'])\n",
        "signal_df_1['start'] = bin[:-1]\n",
        "signal_df_1['end'] = bin[1:]\n",
        "signal_df_1['mid'] = (signal_df_1['start'] + signal_df_1['end'])/2\n",
        "signal_df_1['freq'] = 5130*signal_freq_1/10000\n",
        "\n",
        "signal_df_3 = pd.DataFrame(columns = ['start', 'end', 'mid', 'freq'])\n",
        "signal_df_3['start'] = bin[:-1]\n",
        "signal_df_3['end'] = bin[1:]\n",
        "signal_df_3['mid'] = (signal_df_3['start'] + signal_df_3['end'])/2\n",
        "signal_df_3['freq'] = 5130*signal_freq_3/10000\n",
        "\n",
        "signal_df_0_5 = pd.DataFrame(columns = ['start', 'end', 'mid', 'freq'])\n",
        "signal_df_0_5['start'] = bin[:-1]\n",
        "signal_df_0_5['end'] = bin[1:]\n",
        "signal_df_0_5['mid'] = (signal_df_0_5['start'] + signal_df_0_5['end'])/2\n",
        "signal_df_0_5['freq'] = 5130*signal_freq_0_5/10000"
      ],
      "metadata": {
        "id": "wqKu1DvOSu2S"
      },
      "execution_count": null,
      "outputs": []
    },
    {
      "cell_type": "code",
      "source": [
        "signal_df_0_5.head()"
      ],
      "metadata": {
        "colab": {
          "base_uri": "https://localhost:8080/",
          "height": 206
        },
        "id": "NomMYazJftQC",
        "outputId": "5526fac7-e96f-486d-d0cb-194659c153b4"
      },
      "execution_count": null,
      "outputs": [
        {
          "output_type": "execute_result",
          "data": {
            "text/plain": [
              "   start  end    mid      freq\n",
              "0      0   80   40.0  0.000008\n",
              "1     80  160  120.0  0.000003\n",
              "2    160  240  200.0  0.000010\n",
              "3    240  320  280.0  0.000023\n",
              "4    320  400  360.0  0.000032"
            ],
            "text/html": [
              "\n",
              "  <div id=\"df-4f4ce6dc-fedd-4e96-8674-6763ec790a3b\">\n",
              "    <div class=\"colab-df-container\">\n",
              "      <div>\n",
              "<style scoped>\n",
              "    .dataframe tbody tr th:only-of-type {\n",
              "        vertical-align: middle;\n",
              "    }\n",
              "\n",
              "    .dataframe tbody tr th {\n",
              "        vertical-align: top;\n",
              "    }\n",
              "\n",
              "    .dataframe thead th {\n",
              "        text-align: right;\n",
              "    }\n",
              "</style>\n",
              "<table border=\"1\" class=\"dataframe\">\n",
              "  <thead>\n",
              "    <tr style=\"text-align: right;\">\n",
              "      <th></th>\n",
              "      <th>start</th>\n",
              "      <th>end</th>\n",
              "      <th>mid</th>\n",
              "      <th>freq</th>\n",
              "    </tr>\n",
              "  </thead>\n",
              "  <tbody>\n",
              "    <tr>\n",
              "      <th>0</th>\n",
              "      <td>0</td>\n",
              "      <td>80</td>\n",
              "      <td>40.0</td>\n",
              "      <td>0.000008</td>\n",
              "    </tr>\n",
              "    <tr>\n",
              "      <th>1</th>\n",
              "      <td>80</td>\n",
              "      <td>160</td>\n",
              "      <td>120.0</td>\n",
              "      <td>0.000003</td>\n",
              "    </tr>\n",
              "    <tr>\n",
              "      <th>2</th>\n",
              "      <td>160</td>\n",
              "      <td>240</td>\n",
              "      <td>200.0</td>\n",
              "      <td>0.000010</td>\n",
              "    </tr>\n",
              "    <tr>\n",
              "      <th>3</th>\n",
              "      <td>240</td>\n",
              "      <td>320</td>\n",
              "      <td>280.0</td>\n",
              "      <td>0.000023</td>\n",
              "    </tr>\n",
              "    <tr>\n",
              "      <th>4</th>\n",
              "      <td>320</td>\n",
              "      <td>400</td>\n",
              "      <td>360.0</td>\n",
              "      <td>0.000032</td>\n",
              "    </tr>\n",
              "  </tbody>\n",
              "</table>\n",
              "</div>\n",
              "      <button class=\"colab-df-convert\" onclick=\"convertToInteractive('df-4f4ce6dc-fedd-4e96-8674-6763ec790a3b')\"\n",
              "              title=\"Convert this dataframe to an interactive table.\"\n",
              "              style=\"display:none;\">\n",
              "        \n",
              "  <svg xmlns=\"http://www.w3.org/2000/svg\" height=\"24px\"viewBox=\"0 0 24 24\"\n",
              "       width=\"24px\">\n",
              "    <path d=\"M0 0h24v24H0V0z\" fill=\"none\"/>\n",
              "    <path d=\"M18.56 5.44l.94 2.06.94-2.06 2.06-.94-2.06-.94-.94-2.06-.94 2.06-2.06.94zm-11 1L8.5 8.5l.94-2.06 2.06-.94-2.06-.94L8.5 2.5l-.94 2.06-2.06.94zm10 10l.94 2.06.94-2.06 2.06-.94-2.06-.94-.94-2.06-.94 2.06-2.06.94z\"/><path d=\"M17.41 7.96l-1.37-1.37c-.4-.4-.92-.59-1.43-.59-.52 0-1.04.2-1.43.59L10.3 9.45l-7.72 7.72c-.78.78-.78 2.05 0 2.83L4 21.41c.39.39.9.59 1.41.59.51 0 1.02-.2 1.41-.59l7.78-7.78 2.81-2.81c.8-.78.8-2.07 0-2.86zM5.41 20L4 18.59l7.72-7.72 1.47 1.35L5.41 20z\"/>\n",
              "  </svg>\n",
              "      </button>\n",
              "      \n",
              "  <style>\n",
              "    .colab-df-container {\n",
              "      display:flex;\n",
              "      flex-wrap:wrap;\n",
              "      gap: 12px;\n",
              "    }\n",
              "\n",
              "    .colab-df-convert {\n",
              "      background-color: #E8F0FE;\n",
              "      border: none;\n",
              "      border-radius: 50%;\n",
              "      cursor: pointer;\n",
              "      display: none;\n",
              "      fill: #1967D2;\n",
              "      height: 32px;\n",
              "      padding: 0 0 0 0;\n",
              "      width: 32px;\n",
              "    }\n",
              "\n",
              "    .colab-df-convert:hover {\n",
              "      background-color: #E2EBFA;\n",
              "      box-shadow: 0px 1px 2px rgba(60, 64, 67, 0.3), 0px 1px 3px 1px rgba(60, 64, 67, 0.15);\n",
              "      fill: #174EA6;\n",
              "    }\n",
              "\n",
              "    [theme=dark] .colab-df-convert {\n",
              "      background-color: #3B4455;\n",
              "      fill: #D2E3FC;\n",
              "    }\n",
              "\n",
              "    [theme=dark] .colab-df-convert:hover {\n",
              "      background-color: #434B5C;\n",
              "      box-shadow: 0px 1px 3px 1px rgba(0, 0, 0, 0.15);\n",
              "      filter: drop-shadow(0px 1px 2px rgba(0, 0, 0, 0.3));\n",
              "      fill: #FFFFFF;\n",
              "    }\n",
              "  </style>\n",
              "\n",
              "      <script>\n",
              "        const buttonEl =\n",
              "          document.querySelector('#df-4f4ce6dc-fedd-4e96-8674-6763ec790a3b button.colab-df-convert');\n",
              "        buttonEl.style.display =\n",
              "          google.colab.kernel.accessAllowed ? 'block' : 'none';\n",
              "\n",
              "        async function convertToInteractive(key) {\n",
              "          const element = document.querySelector('#df-4f4ce6dc-fedd-4e96-8674-6763ec790a3b');\n",
              "          const dataTable =\n",
              "            await google.colab.kernel.invokeFunction('convertToInteractive',\n",
              "                                                     [key], {});\n",
              "          if (!dataTable) return;\n",
              "\n",
              "          const docLinkHtml = 'Like what you see? Visit the ' +\n",
              "            '<a target=\"_blank\" href=https://colab.research.google.com/notebooks/data_table.ipynb>data table notebook</a>'\n",
              "            + ' to learn more about interactive tables.';\n",
              "          element.innerHTML = '';\n",
              "          dataTable['output_type'] = 'display_data';\n",
              "          await google.colab.output.renderOutput(dataTable, element);\n",
              "          const docLink = document.createElement('div');\n",
              "          docLink.innerHTML = docLinkHtml;\n",
              "          element.appendChild(docLink);\n",
              "        }\n",
              "      </script>\n",
              "    </div>\n",
              "  </div>\n",
              "  "
            ]
          },
          "metadata": {},
          "execution_count": 23
        }
      ]
    },
    {
      "cell_type": "code",
      "source": [
        "bg_df = pd.DataFrame(columns = ['start', 'end', 'mid','freq'])\n",
        "bg_df['start'] = bin2[:-1]\n",
        "bg_df['end'] = bin2[1:]\n",
        "bg_df['mid'] = (bg_df['start'] + bg_df['end'])/2\n",
        "bg_df['freq'] = 94800*bg_freq/200000"
      ],
      "metadata": {
        "id": "VspTVxk2S1n7"
      },
      "execution_count": null,
      "outputs": []
    },
    {
      "cell_type": "code",
      "source": [
        "bg_df.head()"
      ],
      "metadata": {
        "colab": {
          "base_uri": "https://localhost:8080/",
          "height": 206
        },
        "id": "HNoWTVOQTEV5",
        "outputId": "fb651937-f401-4852-c17f-7449c1d072d6"
      },
      "execution_count": null,
      "outputs": [
        {
          "output_type": "execute_result",
          "data": {
            "text/plain": [
              "   start  end    mid      freq\n",
              "0      0   80   40.0  0.000015\n",
              "1     80  160  120.0  0.000003\n",
              "2    160  240  200.0  0.000004\n",
              "3    240  320  280.0  0.000005\n",
              "4    320  400  360.0  0.000007"
            ],
            "text/html": [
              "\n",
              "  <div id=\"df-48ac03b9-2bdb-4510-a7c5-1150bd409ada\">\n",
              "    <div class=\"colab-df-container\">\n",
              "      <div>\n",
              "<style scoped>\n",
              "    .dataframe tbody tr th:only-of-type {\n",
              "        vertical-align: middle;\n",
              "    }\n",
              "\n",
              "    .dataframe tbody tr th {\n",
              "        vertical-align: top;\n",
              "    }\n",
              "\n",
              "    .dataframe thead th {\n",
              "        text-align: right;\n",
              "    }\n",
              "</style>\n",
              "<table border=\"1\" class=\"dataframe\">\n",
              "  <thead>\n",
              "    <tr style=\"text-align: right;\">\n",
              "      <th></th>\n",
              "      <th>start</th>\n",
              "      <th>end</th>\n",
              "      <th>mid</th>\n",
              "      <th>freq</th>\n",
              "    </tr>\n",
              "  </thead>\n",
              "  <tbody>\n",
              "    <tr>\n",
              "      <th>0</th>\n",
              "      <td>0</td>\n",
              "      <td>80</td>\n",
              "      <td>40.0</td>\n",
              "      <td>0.000015</td>\n",
              "    </tr>\n",
              "    <tr>\n",
              "      <th>1</th>\n",
              "      <td>80</td>\n",
              "      <td>160</td>\n",
              "      <td>120.0</td>\n",
              "      <td>0.000003</td>\n",
              "    </tr>\n",
              "    <tr>\n",
              "      <th>2</th>\n",
              "      <td>160</td>\n",
              "      <td>240</td>\n",
              "      <td>200.0</td>\n",
              "      <td>0.000004</td>\n",
              "    </tr>\n",
              "    <tr>\n",
              "      <th>3</th>\n",
              "      <td>240</td>\n",
              "      <td>320</td>\n",
              "      <td>280.0</td>\n",
              "      <td>0.000005</td>\n",
              "    </tr>\n",
              "    <tr>\n",
              "      <th>4</th>\n",
              "      <td>320</td>\n",
              "      <td>400</td>\n",
              "      <td>360.0</td>\n",
              "      <td>0.000007</td>\n",
              "    </tr>\n",
              "  </tbody>\n",
              "</table>\n",
              "</div>\n",
              "      <button class=\"colab-df-convert\" onclick=\"convertToInteractive('df-48ac03b9-2bdb-4510-a7c5-1150bd409ada')\"\n",
              "              title=\"Convert this dataframe to an interactive table.\"\n",
              "              style=\"display:none;\">\n",
              "        \n",
              "  <svg xmlns=\"http://www.w3.org/2000/svg\" height=\"24px\"viewBox=\"0 0 24 24\"\n",
              "       width=\"24px\">\n",
              "    <path d=\"M0 0h24v24H0V0z\" fill=\"none\"/>\n",
              "    <path d=\"M18.56 5.44l.94 2.06.94-2.06 2.06-.94-2.06-.94-.94-2.06-.94 2.06-2.06.94zm-11 1L8.5 8.5l.94-2.06 2.06-.94-2.06-.94L8.5 2.5l-.94 2.06-2.06.94zm10 10l.94 2.06.94-2.06 2.06-.94-2.06-.94-.94-2.06-.94 2.06-2.06.94z\"/><path d=\"M17.41 7.96l-1.37-1.37c-.4-.4-.92-.59-1.43-.59-.52 0-1.04.2-1.43.59L10.3 9.45l-7.72 7.72c-.78.78-.78 2.05 0 2.83L4 21.41c.39.39.9.59 1.41.59.51 0 1.02-.2 1.41-.59l7.78-7.78 2.81-2.81c.8-.78.8-2.07 0-2.86zM5.41 20L4 18.59l7.72-7.72 1.47 1.35L5.41 20z\"/>\n",
              "  </svg>\n",
              "      </button>\n",
              "      \n",
              "  <style>\n",
              "    .colab-df-container {\n",
              "      display:flex;\n",
              "      flex-wrap:wrap;\n",
              "      gap: 12px;\n",
              "    }\n",
              "\n",
              "    .colab-df-convert {\n",
              "      background-color: #E8F0FE;\n",
              "      border: none;\n",
              "      border-radius: 50%;\n",
              "      cursor: pointer;\n",
              "      display: none;\n",
              "      fill: #1967D2;\n",
              "      height: 32px;\n",
              "      padding: 0 0 0 0;\n",
              "      width: 32px;\n",
              "    }\n",
              "\n",
              "    .colab-df-convert:hover {\n",
              "      background-color: #E2EBFA;\n",
              "      box-shadow: 0px 1px 2px rgba(60, 64, 67, 0.3), 0px 1px 3px 1px rgba(60, 64, 67, 0.15);\n",
              "      fill: #174EA6;\n",
              "    }\n",
              "\n",
              "    [theme=dark] .colab-df-convert {\n",
              "      background-color: #3B4455;\n",
              "      fill: #D2E3FC;\n",
              "    }\n",
              "\n",
              "    [theme=dark] .colab-df-convert:hover {\n",
              "      background-color: #434B5C;\n",
              "      box-shadow: 0px 1px 3px 1px rgba(0, 0, 0, 0.15);\n",
              "      filter: drop-shadow(0px 1px 2px rgba(0, 0, 0, 0.3));\n",
              "      fill: #FFFFFF;\n",
              "    }\n",
              "  </style>\n",
              "\n",
              "      <script>\n",
              "        const buttonEl =\n",
              "          document.querySelector('#df-48ac03b9-2bdb-4510-a7c5-1150bd409ada button.colab-df-convert');\n",
              "        buttonEl.style.display =\n",
              "          google.colab.kernel.accessAllowed ? 'block' : 'none';\n",
              "\n",
              "        async function convertToInteractive(key) {\n",
              "          const element = document.querySelector('#df-48ac03b9-2bdb-4510-a7c5-1150bd409ada');\n",
              "          const dataTable =\n",
              "            await google.colab.kernel.invokeFunction('convertToInteractive',\n",
              "                                                     [key], {});\n",
              "          if (!dataTable) return;\n",
              "\n",
              "          const docLinkHtml = 'Like what you see? Visit the ' +\n",
              "            '<a target=\"_blank\" href=https://colab.research.google.com/notebooks/data_table.ipynb>data table notebook</a>'\n",
              "            + ' to learn more about interactive tables.';\n",
              "          element.innerHTML = '';\n",
              "          dataTable['output_type'] = 'display_data';\n",
              "          await google.colab.output.renderOutput(dataTable, element);\n",
              "          const docLink = document.createElement('div');\n",
              "          docLink.innerHTML = docLinkHtml;\n",
              "          element.appendChild(docLink);\n",
              "        }\n",
              "      </script>\n",
              "    </div>\n",
              "  </div>\n",
              "  "
            ]
          },
          "metadata": {},
          "execution_count": 25
        }
      ]
    },
    {
      "cell_type": "code",
      "source": [
        "width = 55"
      ],
      "metadata": {
        "id": "sOU8ZxQOgQgo"
      },
      "execution_count": null,
      "outputs": []
    },
    {
      "cell_type": "code",
      "source": [
        "plt.figure()\n",
        "\n",
        "plt.bar(bg_df['mid'], bg_df['freq'], width = width, color='orange', ec = 'black', alpha = 0.7, label = 'Background')\n",
        "\n",
        "plt.bar(signal_df_0_5['mid'], signal_df_0_5['freq'], width = width, color='purple', ec = 'black', alpha = 0.7, label = '0.5TeV')\n",
        "# plt.bar(bg_df['mid'], bg_df['freq'], width = width, color='orange', ec = 'black', alpha = 0.7)\n",
        "\n",
        "plt.bar(signal_df_1['mid'], signal_df_1['freq'], width = width, color='red', ec = 'black', alpha = 0.7, label = '1TeV')\n",
        "# plt.bar(bg_df['mid'], bg_df['freq'], width = width, color='orange', ec = 'black', alpha = 0.7)\n",
        "\n",
        "plt.bar(signal_df['mid'], signal_df['freq'], width = width, color='blue', ec = 'black', alpha = 0.7, label = '2TeV')\n",
        "\n",
        "plt.bar(signal_df_3['mid'], signal_df_3['freq'], width = width, color='green', ec = 'black', alpha = 0.7, label = '3TeV')\n",
        "# plt.bar(bg_df['mid'], bg_df['freq'], width = width, color='orange', ec = 'black', alpha = 0.7)\n",
        "\n",
        "\n",
        "\n",
        "plt.xlabel(\"Number of bins for each value of m (in GeV)\",fontsize = 20)\n",
        "plt.ylabel(\"Frequency\",fontsize = 20)\n",
        "plt.xticks(fontsize=14)\n",
        "plt.yticks(fontsize=14)\n",
        "\n",
        "plt.title('Signals and Background',fontsize=20)\n",
        "plt.legend(fontsize = 20)\n",
        "\n",
        "plt.savefig('Signals.png')\n",
        "plt.show()"
      ],
      "metadata": {
        "colab": {
          "base_uri": "https://localhost:8080/",
          "height": 546
        },
        "id": "11eV51I6jeDf",
        "outputId": "c5e01011-82f9-4540-f999-afc700990e0e"
      },
      "execution_count": null,
      "outputs": [
        {
          "output_type": "display_data",
          "data": {
            "text/plain": [
              "<Figure size 1440x720 with 1 Axes>"
            ],
            "image/png": "[encoded data removed]"
          },
          "metadata": {}
        }
      ]
    },
    {
      "cell_type": "code",
      "source": [
        "plt.bar(signal_df['mid'], signal_df['freq'], width = width, color='blue', ec = 'black', alpha = 0.7)\n",
        "plt.bar(bg_df['mid'], bg_df['freq'], width = width, color='orange', ec = 'black', alpha = 0.7)\n",
        "plt.xlabel(\"Number of bins for each value of m (in GeV)\",fontsize = 20)\n",
        "plt.ylabel(\"Frequency\",fontsize = 20)\n",
        "plt.xticks(fontsize=14)\n",
        "plt.yticks(fontsize=14)\n",
        "\n",
        "plt.title('Signal and Background',fontsize=20)\n",
        "plt.legend(['Signal', 'Background'],fontsize = 20)\n",
        "plt.savefig('2Tev.png')\n",
        "plt.show()"
      ],
      "metadata": {
        "colab": {
          "base_uri": "https://localhost:8080/",
          "height": 536
        },
        "id": "mL8UWYP_UBzr",
        "outputId": "5b01fec6-36b1-4e02-af2a-f13da8ffc8a6"
      },
      "execution_count": null,
      "outputs": [
        {
          "output_type": "execute_result",
          "data": {
            "text/plain": [
              "<BarContainer object of 50 artists>"
            ]
          },
          "metadata": {},
          "execution_count": 34
        },
        {
          "output_type": "display_data",
          "data": {
            "text/plain": [
              "<Figure size 1440x720 with 1 Axes>"
            ],
            "image/png": "[encoded data removed]"
          },
          "metadata": {}
        }
      ]
    },
    {
      "cell_type": "code",
      "source": [
        "plt.bar(signal_df_1['mid'], signal_df_1['freq'], width = width, color='blue', ec = 'black', alpha = 0.7)\n",
        "plt.bar(bg_df['mid'], bg_df['freq'], width = width, color='orange', ec = 'black', alpha = 0.7)\n",
        "plt.xlabel(\"Number of bins for each value of m (in GeV)\",fontsize = 14)\n",
        "plt.ylabel(\"Frequency\",fontsize = 14)\n",
        "plt.xticks(fontsize=14)\n",
        "plt.yticks(fontsize=14)\n",
        "\n",
        "plt.title('Signal and Background',fontsize=16)\n",
        "plt.legend(['Signal 1TeV', 'Background'],fontsize = 14)\n",
        "plt.savefig('1Tev.png')\n",
        "plt.show()"
      ],
      "metadata": {
        "colab": {
          "base_uri": "https://localhost:8080/",
          "height": 539
        },
        "id": "HXIsFi-Q0Wdg",
        "outputId": "8cfd6586-a7d2-4548-8bc0-da9a71ed6acf"
      },
      "execution_count": null,
      "outputs": [
        {
          "output_type": "display_data",
          "data": {
            "text/plain": [
              "<Figure size 1440x720 with 1 Axes>"
            ],
            "image/png": "[encoded data removed]"
          },
          "metadata": {}
        }
      ]
    },
    {
      "cell_type": "code",
      "source": [
        "plt.bar(signal_df_3['mid'], signal_df_3['freq'], width = width, color='blue', ec = 'black', alpha = 0.7)\n",
        "plt.bar(bg_df['mid'], bg_df['freq'], width = width, color='orange', ec = 'black', alpha = 0.7)\n",
        "plt.xlabel(\"Number of bins for each value of m (in GeV)\",fontsize = 14)\n",
        "plt.ylabel(\"Frequency\",fontsize = 14)\n",
        "plt.xticks(fontsize=14)\n",
        "plt.yticks(fontsize=14)\n",
        "\n",
        "plt.title('Signal and Background',fontsize=16)\n",
        "plt.legend(['Signal 3TeV', 'Background'],fontsize = 14)\n",
        "plt.savefig('3Tev.png')\n",
        "plt.show()"
      ],
      "metadata": {
        "colab": {
          "base_uri": "https://localhost:8080/",
          "height": 632
        },
        "id": "GROsKNLg0XFM",
        "outputId": "6123fdb0-e48e-44be-8d0c-b494d50773c1"
      },
      "execution_count": null,
      "outputs": [
        {
          "output_type": "display_data",
          "data": {
            "text/plain": [
              "<Figure size 1440x720 with 1 Axes>"
            ],
            "image/png": "[encoded data removed]"
          },
          "metadata": {}
        }
      ]
    },
    {
      "cell_type": "code",
      "source": [
        "plt.bar(signal_df_0_5['mid'], signal_df_0_5['freq'], width = width, color='blue', ec = 'black', alpha = 0.7)\n",
        "plt.bar(bg_df['mid'], bg_df['freq'], width = width, color='orange', ec = 'black', alpha = 0.7)\n",
        "plt.xlabel(\"Number of bins for each value of m (in GeV)\",fontsize = 14)\n",
        "plt.ylabel(\"Frequency\",fontsize = 14)\n",
        "plt.xticks(fontsize=14)\n",
        "plt.yticks(fontsize=14)\n",
        "\n",
        "plt.title('Signal and Background',fontsize=16)\n",
        "plt.legend(['Signal 500GeV', 'Background'],fontsize = 14)\n",
        "plt.savefig('0.5Tev.png')\n",
        "plt.show()"
      ],
      "metadata": {
        "colab": {
          "base_uri": "https://localhost:8080/",
          "height": 632
        },
        "id": "L6IgsAAS0XkV",
        "outputId": "b3a20960-bba8-4566-dc6b-65c1e7117307"
      },
      "execution_count": null,
      "outputs": [
        {
          "output_type": "display_data",
          "data": {
            "text/plain": [
              "<Figure size 1440x720 with 1 Axes>"
            ],
            "image/png": "[encoded data removed]"
          },
          "metadata": {}
        }
      ]
    },
    {
      "cell_type": "markdown",
      "source": [
        "## **Preparing Data for Input to Model**"
      ],
      "metadata": {
        "id": "IutkUhG6akpt"
      }
    },
    {
      "cell_type": "code",
      "source": [
        "x_test = pd.DataFrame({'signal_0_5': signal_df_0_5['freq'],\n",
        "                       'signal_1': signal_df_1['freq'],\n",
        "                       'signal': signal_df['freq'],\n",
        "                       'signal_3': signal_df_3['freq'],\n",
        "                      }).to_numpy()\n",
        "\n",
        "x_test = x_test.T\n",
        "x_test"
      ],
      "metadata": {
        "colab": {
          "base_uri": "https://localhost:8080/"
        },
        "id": "cw88Y7UQ1Qnd",
        "outputId": "a7ba9b2b-6294-400f-f333-192c4627fa05"
      },
      "execution_count": null,
      "outputs": [
        {
          "output_type": "execute_result",
          "data": {
            "text/plain": [
              "array([[8.05388093e-06, 3.22155237e-06, 9.66465712e-06, 2.25508666e-05,\n",
              "        3.22155237e-05, 3.46316880e-04, 5.99047664e-03, 0.00000000e+00,\n",
              "        0.00000000e+00, 0.00000000e+00, 0.00000000e+00, 0.00000000e+00,\n",
              "        0.00000000e+00, 0.00000000e+00, 0.00000000e+00, 0.00000000e+00,\n",
              "        0.00000000e+00, 0.00000000e+00, 0.00000000e+00, 0.00000000e+00,\n",
              "        0.00000000e+00, 0.00000000e+00, 0.00000000e+00, 0.00000000e+00,\n",
              "        0.00000000e+00, 0.00000000e+00, 0.00000000e+00, 0.00000000e+00,\n",
              "        0.00000000e+00, 0.00000000e+00, 0.00000000e+00, 0.00000000e+00,\n",
              "        0.00000000e+00, 0.00000000e+00, 0.00000000e+00, 0.00000000e+00,\n",
              "        0.00000000e+00, 0.00000000e+00, 0.00000000e+00, 0.00000000e+00,\n",
              "        0.00000000e+00, 0.00000000e+00, 0.00000000e+00, 0.00000000e+00,\n",
              "        0.00000000e+00, 0.00000000e+00, 0.00000000e+00, 0.00000000e+00,\n",
              "        0.00000000e+00, 0.00000000e+00],\n",
              "       [7.27205716e-06, 1.45441143e-06, 4.36323429e-06, 4.36323429e-06,\n",
              "        2.90882286e-06, 5.81764572e-06, 8.72646859e-06, 8.72646859e-06,\n",
              "        7.27205716e-06, 1.45441143e-05, 1.01808800e-05, 1.89073486e-05,\n",
              "        4.21779315e-05, 2.98590667e-03, 3.28987866e-03, 0.00000000e+00,\n",
              "        0.00000000e+00, 0.00000000e+00, 0.00000000e+00, 0.00000000e+00,\n",
              "        0.00000000e+00, 0.00000000e+00, 0.00000000e+00, 0.00000000e+00,\n",
              "        0.00000000e+00, 0.00000000e+00, 0.00000000e+00, 0.00000000e+00,\n",
              "        0.00000000e+00, 0.00000000e+00, 0.00000000e+00, 0.00000000e+00,\n",
              "        0.00000000e+00, 0.00000000e+00, 0.00000000e+00, 0.00000000e+00,\n",
              "        0.00000000e+00, 0.00000000e+00, 0.00000000e+00, 0.00000000e+00,\n",
              "        0.00000000e+00, 0.00000000e+00, 0.00000000e+00, 0.00000000e+00,\n",
              "        0.00000000e+00, 0.00000000e+00, 0.00000000e+00, 0.00000000e+00,\n",
              "        0.00000000e+00, 0.00000000e+00],\n",
              "       [2.78804348e-06, 1.39402174e-06, 1.39402174e-06, 1.39402174e-06,\n",
              "        2.78804348e-06, 1.39402174e-06, 1.39402174e-06, 4.18206522e-06,\n",
              "        2.78804348e-06, 2.78804348e-06, 1.39402174e-06, 1.39402174e-06,\n",
              "        5.57608696e-06, 5.57608696e-06, 4.18206522e-06, 2.78804348e-06,\n",
              "        5.57608696e-06, 8.36413043e-06, 6.97010870e-06, 1.11521739e-05,\n",
              "        1.53342391e-05, 1.67282609e-05, 5.43668478e-05, 2.10497283e-04,\n",
              "        2.80755978e-03, 3.16164130e-03, 6.83070652e-05, 2.78804348e-06,\n",
              "        0.00000000e+00, 0.00000000e+00, 0.00000000e+00, 0.00000000e+00,\n",
              "        0.00000000e+00, 0.00000000e+00, 0.00000000e+00, 0.00000000e+00,\n",
              "        0.00000000e+00, 0.00000000e+00, 0.00000000e+00, 0.00000000e+00,\n",
              "        0.00000000e+00, 0.00000000e+00, 0.00000000e+00, 0.00000000e+00,\n",
              "        0.00000000e+00, 0.00000000e+00, 0.00000000e+00, 0.00000000e+00,\n",
              "        0.00000000e+00, 0.00000000e+00],\n",
              "       [2.78743751e-06, 0.00000000e+00, 0.00000000e+00, 0.00000000e+00,\n",
              "        0.00000000e+00, 0.00000000e+00, 0.00000000e+00, 0.00000000e+00,\n",
              "        4.18115627e-06, 1.39371876e-06, 0.00000000e+00, 0.00000000e+00,\n",
              "        0.00000000e+00, 0.00000000e+00, 1.39371876e-06, 1.39371876e-06,\n",
              "        1.39371876e-06, 1.39371876e-06, 1.39371876e-06, 2.78743751e-06,\n",
              "        2.78743751e-06, 1.39371876e-06, 1.39371876e-06, 0.00000000e+00,\n",
              "        8.36231254e-06, 0.00000000e+00, 5.57487503e-06, 4.18115627e-06,\n",
              "        5.57487503e-06, 1.11497501e-05, 1.39371876e-05, 1.25434688e-05,\n",
              "        1.39371876e-05, 1.95120626e-05, 1.25434688e-05, 1.95120626e-05,\n",
              "        6.82922191e-05, 2.75956314e-04, 3.00207020e-03, 2.86130461e-03,\n",
              "        5.15675940e-05, 2.78743751e-06, 0.00000000e+00, 0.00000000e+00,\n",
              "        0.00000000e+00, 0.00000000e+00, 0.00000000e+00, 0.00000000e+00,\n",
              "        0.00000000e+00, 0.00000000e+00]])"
            ]
          },
          "metadata": {},
          "execution_count": 51
        }
      ]
    },
    {
      "cell_type": "code",
      "source": [
        "x_train = bg_df[['freq']].to_numpy()\n",
        "x_train = x_train.reshape(-1, 50)\n",
        "x_train.shape"
      ],
      "metadata": {
        "colab": {
          "base_uri": "https://localhost:8080/"
        },
        "id": "ymT8kG1-Wzg0",
        "outputId": "671eedaa-aa63-4737-f035-8438247caf17"
      },
      "execution_count": null,
      "outputs": [
        {
          "output_type": "execute_result",
          "data": {
            "text/plain": [
              "(1, 50)"
            ]
          },
          "metadata": {},
          "execution_count": 19
        }
      ]
    },
    {
      "cell_type": "code",
      "source": [
        "x_train"
      ],
      "metadata": {
        "colab": {
          "base_uri": "https://localhost:8080/"
        },
        "id": "EcprENncKGgf",
        "outputId": "26d81a68-51db-4bda-a5fb-a2754d423d14"
      },
      "execution_count": null,
      "outputs": [
        {
          "output_type": "execute_result",
          "data": {
            "text/plain": [
              "array([[1.51284169e-05, 3.43249796e-06, 3.81388662e-06, 5.33944127e-06,\n",
              "        7.11925503e-06, 8.89906879e-06, 1.22044372e-05, 1.62725829e-05,\n",
              "        2.88584088e-05, 2.49428185e-04, 1.71459630e-03, 1.16094709e-03,\n",
              "        7.54895292e-04, 5.48436897e-04, 3.76557739e-04, 2.68116230e-04,\n",
              "        1.96033772e-04, 1.33486032e-04, 9.64913316e-05, 7.65319916e-05,\n",
              "        6.11493155e-05, 4.22070120e-05, 3.00025748e-05, 2.32647084e-05,\n",
              "        2.02135991e-05, 1.42385101e-05, 1.00432348e-05, 8.64480968e-06,\n",
              "        7.50064369e-06, 4.44953439e-06, 6.35647771e-06, 4.19527529e-06,\n",
              "        3.30536841e-06, 2.28833197e-06, 2.28833197e-06, 2.16120242e-06,\n",
              "        6.35647771e-07, 3.81388662e-07, 1.14416599e-06, 1.14416599e-06,\n",
              "        3.81388662e-07, 1.27129554e-07, 1.27129554e-07, 5.08518217e-07,\n",
              "        3.81388662e-07, 3.81388662e-07, 3.81388662e-07, 1.27129554e-07,\n",
              "        0.00000000e+00, 3.81388662e-07]])"
            ]
          },
          "metadata": {},
          "execution_count": 20
        }
      ]
    },
    {
      "cell_type": "markdown",
      "source": [
        "#### Generating new distributions with noise"
      ],
      "metadata": {
        "id": "-6uSlx_2T0iY"
      }
    },
    {
      "cell_type": "code",
      "source": [
        "# Creating new backgrounds from original background\n",
        "\n",
        "values = [1.05, 1, 0.95]\n",
        "\n",
        "x_new = x_train*np.array(random.choices(values, k = 50)).reshape(1,-1)\n",
        "\n",
        "for i in range(18):\n",
        "  x = x_train*np.array(random.choices(values, k = 50)).reshape(1,-1)\n",
        "  x_new = np.concatenate((x_new, x), axis = 0)\n",
        "\n",
        "x_train2 = np.concatenate((x_train, x_new), axis = 0)\n",
        "x_train2.shape"
      ],
      "metadata": {
        "id": "4he4oXEpTzan",
        "colab": {
          "base_uri": "https://localhost:8080/"
        },
        "outputId": "eda16eda-6e56-4051-e931-fd5f31af389e"
      },
      "execution_count": null,
      "outputs": [
        {
          "output_type": "execute_result",
          "data": {
            "text/plain": [
              "(20, 50)"
            ]
          },
          "metadata": {},
          "execution_count": 21
        }
      ]
    },
    {
      "cell_type": "code",
      "source": [
        "# Creating new signals from original background\n",
        "\n",
        "values = [0.25, 0.5, 0.75, 1, 1.25, 1.50, 1.75, 2]\n",
        "\n",
        "x_new = x_train*np.array(random.choices(values, k = 50)).reshape(1,-1)\n",
        "\n",
        "for i in range(3):\n",
        "  x = x_train*np.array(random.choices(values, k = 50)).reshape(1,-1)\n",
        "  x_new = np.concatenate((x_new, x), axis = 0)\n",
        "\n",
        "x_new.shape"
      ],
      "metadata": {
        "id": "op4Js4IEUN0w",
        "colab": {
          "base_uri": "https://localhost:8080/"
        },
        "outputId": "8d9a9124-ec64-4ac9-d28d-950d45aba439"
      },
      "execution_count": null,
      "outputs": [
        {
          "output_type": "execute_result",
          "data": {
            "text/plain": [
              "(4, 50)"
            ]
          },
          "metadata": {},
          "execution_count": 86
        }
      ]
    },
    {
      "cell_type": "markdown",
      "source": [
        "## **Model**"
      ],
      "metadata": {
        "id": "uDk21r9PiW7I"
      }
    },
    {
      "cell_type": "code",
      "source": [
        "class AutoEncoder(Model):\n",
        "  \"\"\"\n",
        "  Parameters\n",
        "  ----------\n",
        "  output_units: int\n",
        "    Number of output units\n",
        "  \n",
        "  code_size: int\n",
        "    Number of units in bottle neck\n",
        "  \"\"\"\n",
        "\n",
        "  def __init__(self, output_units, code_size=8):\n",
        "    super().__init__()\n",
        "\n",
        "    self.encoder = Sequential([\n",
        "      Dense(32, activation='relu'),\n",
        "      Dropout(0.1),\n",
        "      Dense(16, activation='relu'),\n",
        "      Dropout(0.1),\n",
        "      Dense(code_size, activation='relu')\n",
        "    ])\n",
        "\n",
        "    self.decoder = Sequential([\n",
        "      Dense(16, activation='relu'),\n",
        "      Dropout(0.1),\n",
        "      Dense(32, activation='relu'),\n",
        "      Dropout(0.1),\n",
        "      Dense(output_units, activation='relu')\n",
        "    ])\n",
        "  \n",
        "  def call(self, inputs):\n",
        "    encoded = self.encoder(inputs)\n",
        "    decoded = self.decoder(encoded)\n",
        "    return decoded\n",
        "  \n",
        "model = AutoEncoder(output_units=x_train.shape[1])\n",
        "# configurations of model\n",
        "\n",
        "model.compile(loss='mse', metrics=['mse'], optimizer='adam')\n",
        "\n",
        "history = model.fit(\n",
        "    x_train2,\n",
        "    x_train2,\n",
        "    epochs=200,\n",
        ")"
      ],
      "metadata": {
        "colab": {
          "base_uri": "https://localhost:8080/"
        },
        "id": "VIaJnk7riX8Y",
        "outputId": "b152a9e0-eced-41bb-8f77-b904fc2e8a8b"
      },
      "execution_count": null,
      "outputs": [
        {
          "output_type": "stream",
          "name": "stdout",
          "text": [
            "Epoch 1/200\n",
            "1/1 [==============================] - 2s 2s/step - loss: 1.0567e-07 - mse: 1.0567e-07\n",
            "Epoch 2/200\n",
            "1/1 [==============================] - 0s 19ms/step - loss: 7.4083e-07 - mse: 7.4083e-07\n",
            "Epoch 3/200\n",
            "1/1 [==============================] - 0s 17ms/step - loss: 1.3890e-08 - mse: 1.3890e-08\n",
            "Epoch 4/200\n",
            "1/1 [==============================] - 0s 32ms/step - loss: 2.1563e-08 - mse: 2.1563e-08\n",
            "Epoch 5/200\n",
            "1/1 [==============================] - 0s 18ms/step - loss: 1.4257e-08 - mse: 1.4257e-08\n",
            "Epoch 6/200\n",
            "1/1 [==============================] - 0s 17ms/step - loss: 1.2608e-08 - mse: 1.2608e-08\n",
            "Epoch 7/200\n",
            "1/1 [==============================] - 0s 25ms/step - loss: 8.6370e-09 - mse: 8.6370e-09\n",
            "Epoch 8/200\n",
            "1/1 [==============================] - 0s 20ms/step - loss: 1.0606e-08 - mse: 1.0606e-08\n",
            "Epoch 9/200\n",
            "1/1 [==============================] - 0s 8ms/step - loss: 1.2899e-08 - mse: 1.2899e-08\n",
            "Epoch 10/200\n",
            "1/1 [==============================] - 0s 14ms/step - loss: 1.1797e-08 - mse: 1.1797e-08\n",
            "Epoch 11/200\n",
            "1/1 [==============================] - 0s 10ms/step - loss: 9.6987e-09 - mse: 9.6987e-09\n",
            "Epoch 12/200\n",
            "1/1 [==============================] - 0s 11ms/step - loss: 1.1168e-08 - mse: 1.1168e-08\n",
            "Epoch 13/200\n",
            "1/1 [==============================] - 0s 10ms/step - loss: 1.0013e-08 - mse: 1.0013e-08\n",
            "Epoch 14/200\n",
            "1/1 [==============================] - 0s 26ms/step - loss: 9.4117e-09 - mse: 9.4117e-09\n",
            "Epoch 15/200\n",
            "1/1 [==============================] - 0s 8ms/step - loss: 1.1235e-08 - mse: 1.1235e-08\n",
            "Epoch 16/200\n",
            "1/1 [==============================] - 0s 10ms/step - loss: 9.7870e-09 - mse: 9.7870e-09\n",
            "Epoch 17/200\n",
            "1/1 [==============================] - 0s 10ms/step - loss: 9.5054e-09 - mse: 9.5054e-09\n",
            "Epoch 18/200\n",
            "1/1 [==============================] - 0s 11ms/step - loss: 9.3180e-09 - mse: 9.3180e-09\n",
            "Epoch 19/200\n",
            "1/1 [==============================] - 0s 27ms/step - loss: 1.0095e-08 - mse: 1.0095e-08\n",
            "Epoch 20/200\n",
            "1/1 [==============================] - 0s 14ms/step - loss: 1.0202e-08 - mse: 1.0202e-08\n",
            "Epoch 21/200\n",
            "1/1 [==============================] - 0s 10ms/step - loss: 9.1095e-09 - mse: 9.1095e-09\n",
            "Epoch 22/200\n",
            "1/1 [==============================] - 0s 16ms/step - loss: 9.5538e-09 - mse: 9.5538e-09\n",
            "Epoch 23/200\n",
            "1/1 [==============================] - 0s 18ms/step - loss: 9.1553e-09 - mse: 9.1553e-09\n",
            "Epoch 24/200\n",
            "1/1 [==============================] - 0s 17ms/step - loss: 9.6400e-09 - mse: 9.6400e-09\n",
            "Epoch 25/200\n",
            "1/1 [==============================] - 0s 26ms/step - loss: 1.0386e-08 - mse: 1.0386e-08\n",
            "Epoch 26/200\n",
            "1/1 [==============================] - 0s 11ms/step - loss: 9.1639e-09 - mse: 9.1639e-09\n",
            "Epoch 27/200\n",
            "1/1 [==============================] - 0s 10ms/step - loss: 9.1823e-09 - mse: 9.1823e-09\n",
            "Epoch 28/200\n",
            "1/1 [==============================] - 0s 9ms/step - loss: 8.6943e-09 - mse: 8.6943e-09\n",
            "Epoch 29/200\n",
            "1/1 [==============================] - 0s 12ms/step - loss: 8.8003e-09 - mse: 8.8003e-09\n",
            "Epoch 30/200\n",
            "1/1 [==============================] - 0s 17ms/step - loss: 8.0680e-09 - mse: 8.0680e-09\n",
            "Epoch 31/200\n",
            "1/1 [==============================] - 0s 9ms/step - loss: 9.1757e-09 - mse: 9.1757e-09\n",
            "Epoch 32/200\n",
            "1/1 [==============================] - 0s 10ms/step - loss: 9.7973e-09 - mse: 9.7973e-09\n",
            "Epoch 33/200\n",
            "1/1 [==============================] - 0s 10ms/step - loss: 8.0356e-09 - mse: 8.0356e-09\n",
            "Epoch 34/200\n",
            "1/1 [==============================] - 0s 13ms/step - loss: 8.0017e-09 - mse: 8.0017e-09\n",
            "Epoch 35/200\n",
            "1/1 [==============================] - 0s 14ms/step - loss: 8.9753e-09 - mse: 8.9753e-09\n",
            "Epoch 36/200\n",
            "1/1 [==============================] - 0s 22ms/step - loss: 8.3809e-09 - mse: 8.3809e-09\n",
            "Epoch 37/200\n",
            "1/1 [==============================] - 0s 27ms/step - loss: 7.7872e-09 - mse: 7.7872e-09\n",
            "Epoch 38/200\n",
            "1/1 [==============================] - 0s 36ms/step - loss: 7.7157e-09 - mse: 7.7157e-09\n",
            "Epoch 39/200\n",
            "1/1 [==============================] - 0s 25ms/step - loss: 8.3604e-09 - mse: 8.3604e-09\n",
            "Epoch 40/200\n",
            "1/1 [==============================] - 0s 14ms/step - loss: 8.0183e-09 - mse: 8.0183e-09\n",
            "Epoch 41/200\n",
            "1/1 [==============================] - 0s 16ms/step - loss: 7.7095e-09 - mse: 7.7095e-09\n",
            "Epoch 42/200\n",
            "1/1 [==============================] - 0s 10ms/step - loss: 7.7784e-09 - mse: 7.7784e-09\n",
            "Epoch 43/200\n",
            "1/1 [==============================] - 0s 24ms/step - loss: 8.0544e-09 - mse: 8.0544e-09\n",
            "Epoch 44/200\n",
            "1/1 [==============================] - 0s 13ms/step - loss: 7.6186e-09 - mse: 7.6186e-09\n",
            "Epoch 45/200\n",
            "1/1 [==============================] - 0s 26ms/step - loss: 7.6873e-09 - mse: 7.6873e-09\n",
            "Epoch 46/200\n",
            "1/1 [==============================] - 0s 25ms/step - loss: 7.9144e-09 - mse: 7.9144e-09\n",
            "Epoch 47/200\n",
            "1/1 [==============================] - 0s 10ms/step - loss: 8.2177e-09 - mse: 8.2177e-09\n",
            "Epoch 48/200\n",
            "1/1 [==============================] - 0s 15ms/step - loss: 7.5836e-09 - mse: 7.5836e-09\n",
            "Epoch 49/200\n",
            "1/1 [==============================] - 0s 13ms/step - loss: 7.6323e-09 - mse: 7.6323e-09\n",
            "Epoch 50/200\n",
            "1/1 [==============================] - 0s 19ms/step - loss: 7.8790e-09 - mse: 7.8790e-09\n",
            "Epoch 51/200\n",
            "1/1 [==============================] - 0s 10ms/step - loss: 7.9097e-09 - mse: 7.9097e-09\n",
            "Epoch 52/200\n",
            "1/1 [==============================] - 0s 10ms/step - loss: 7.6156e-09 - mse: 7.6156e-09\n",
            "Epoch 53/200\n",
            "1/1 [==============================] - 0s 12ms/step - loss: 7.8322e-09 - mse: 7.8322e-09\n",
            "Epoch 54/200\n",
            "1/1 [==============================] - 0s 14ms/step - loss: 7.7787e-09 - mse: 7.7787e-09\n",
            "Epoch 55/200\n",
            "1/1 [==============================] - 0s 14ms/step - loss: 7.4747e-09 - mse: 7.4747e-09\n",
            "Epoch 56/200\n",
            "1/1 [==============================] - 0s 12ms/step - loss: 7.5776e-09 - mse: 7.5776e-09\n",
            "Epoch 57/200\n",
            "1/1 [==============================] - 0s 26ms/step - loss: 7.7541e-09 - mse: 7.7541e-09\n",
            "Epoch 58/200\n",
            "1/1 [==============================] - 0s 11ms/step - loss: 7.4672e-09 - mse: 7.4672e-09\n",
            "Epoch 59/200\n",
            "1/1 [==============================] - 0s 13ms/step - loss: 7.4499e-09 - mse: 7.4499e-09\n",
            "Epoch 60/200\n",
            "1/1 [==============================] - 0s 9ms/step - loss: 7.6792e-09 - mse: 7.6792e-09\n",
            "Epoch 61/200\n",
            "1/1 [==============================] - 0s 41ms/step - loss: 7.4606e-09 - mse: 7.4606e-09\n",
            "Epoch 62/200\n",
            "1/1 [==============================] - 0s 18ms/step - loss: 7.7750e-09 - mse: 7.7750e-09\n",
            "Epoch 63/200\n",
            "1/1 [==============================] - 0s 10ms/step - loss: 7.6521e-09 - mse: 7.6521e-09\n",
            "Epoch 64/200\n",
            "1/1 [==============================] - 0s 14ms/step - loss: 7.5580e-09 - mse: 7.5580e-09\n",
            "Epoch 65/200\n",
            "1/1 [==============================] - 0s 13ms/step - loss: 7.4142e-09 - mse: 7.4142e-09\n",
            "Epoch 66/200\n",
            "1/1 [==============================] - 0s 16ms/step - loss: 7.5416e-09 - mse: 7.5416e-09\n",
            "Epoch 67/200\n",
            "1/1 [==============================] - 0s 13ms/step - loss: 7.5085e-09 - mse: 7.5085e-09\n",
            "Epoch 68/200\n",
            "1/1 [==============================] - 0s 16ms/step - loss: 7.3627e-09 - mse: 7.3627e-09\n",
            "Epoch 69/200\n",
            "1/1 [==============================] - 0s 15ms/step - loss: 7.4650e-09 - mse: 7.4650e-09\n",
            "Epoch 70/200\n",
            "1/1 [==============================] - 0s 24ms/step - loss: 7.6116e-09 - mse: 7.6116e-09\n",
            "Epoch 71/200\n",
            "1/1 [==============================] - 0s 19ms/step - loss: 7.3917e-09 - mse: 7.3917e-09\n",
            "Epoch 72/200\n",
            "1/1 [==============================] - 0s 12ms/step - loss: 7.4390e-09 - mse: 7.4390e-09\n",
            "Epoch 73/200\n",
            "1/1 [==============================] - 0s 16ms/step - loss: 7.4868e-09 - mse: 7.4868e-09\n",
            "Epoch 74/200\n",
            "1/1 [==============================] - 0s 11ms/step - loss: 7.4253e-09 - mse: 7.4253e-09\n",
            "Epoch 75/200\n",
            "1/1 [==============================] - 0s 13ms/step - loss: 7.3977e-09 - mse: 7.3977e-09\n",
            "Epoch 76/200\n",
            "1/1 [==============================] - 0s 18ms/step - loss: 7.4693e-09 - mse: 7.4693e-09\n",
            "Epoch 77/200\n",
            "1/1 [==============================] - 0s 34ms/step - loss: 7.3896e-09 - mse: 7.3896e-09\n",
            "Epoch 78/200\n",
            "1/1 [==============================] - 0s 29ms/step - loss: 7.4888e-09 - mse: 7.4888e-09\n",
            "Epoch 79/200\n",
            "1/1 [==============================] - 0s 11ms/step - loss: 7.4062e-09 - mse: 7.4062e-09\n",
            "Epoch 80/200\n",
            "1/1 [==============================] - 0s 20ms/step - loss: 7.4141e-09 - mse: 7.4141e-09\n",
            "Epoch 81/200\n",
            "1/1 [==============================] - 0s 29ms/step - loss: 7.3796e-09 - mse: 7.3796e-09\n",
            "Epoch 82/200\n",
            "1/1 [==============================] - 0s 20ms/step - loss: 7.4746e-09 - mse: 7.4746e-09\n",
            "Epoch 83/200\n",
            "1/1 [==============================] - 0s 21ms/step - loss: 7.4186e-09 - mse: 7.4186e-09\n",
            "Epoch 84/200\n",
            "1/1 [==============================] - 0s 23ms/step - loss: 7.4245e-09 - mse: 7.4245e-09\n",
            "Epoch 85/200\n",
            "1/1 [==============================] - 0s 26ms/step - loss: 7.3985e-09 - mse: 7.3985e-09\n",
            "Epoch 86/200\n",
            "1/1 [==============================] - 0s 18ms/step - loss: 7.3464e-09 - mse: 7.3464e-09\n",
            "Epoch 87/200\n",
            "1/1 [==============================] - 0s 16ms/step - loss: 7.3668e-09 - mse: 7.3668e-09\n",
            "Epoch 88/200\n",
            "1/1 [==============================] - 0s 21ms/step - loss: 7.3861e-09 - mse: 7.3861e-09\n",
            "Epoch 89/200\n",
            "1/1 [==============================] - 0s 19ms/step - loss: 7.3730e-09 - mse: 7.3730e-09\n",
            "Epoch 90/200\n",
            "1/1 [==============================] - 0s 25ms/step - loss: 7.3496e-09 - mse: 7.3496e-09\n",
            "Epoch 91/200\n",
            "1/1 [==============================] - 0s 30ms/step - loss: 7.4242e-09 - mse: 7.4242e-09\n",
            "Epoch 92/200\n",
            "1/1 [==============================] - 0s 26ms/step - loss: 7.3509e-09 - mse: 7.3509e-09\n",
            "Epoch 93/200\n",
            "1/1 [==============================] - 0s 20ms/step - loss: 7.4501e-09 - mse: 7.4501e-09\n",
            "Epoch 94/200\n",
            "1/1 [==============================] - 0s 27ms/step - loss: 7.3241e-09 - mse: 7.3241e-09\n",
            "Epoch 95/200\n",
            "1/1 [==============================] - 0s 25ms/step - loss: 7.3575e-09 - mse: 7.3575e-09\n",
            "Epoch 96/200\n",
            "1/1 [==============================] - 0s 22ms/step - loss: 7.3480e-09 - mse: 7.3480e-09\n",
            "Epoch 97/200\n",
            "1/1 [==============================] - 0s 55ms/step - loss: 7.3069e-09 - mse: 7.3069e-09\n",
            "Epoch 98/200\n",
            "1/1 [==============================] - 0s 11ms/step - loss: 7.3034e-09 - mse: 7.3034e-09\n",
            "Epoch 99/200\n",
            "1/1 [==============================] - 0s 25ms/step - loss: 7.3795e-09 - mse: 7.3795e-09\n",
            "Epoch 100/200\n",
            "1/1 [==============================] - 0s 26ms/step - loss: 7.3924e-09 - mse: 7.3924e-09\n",
            "Epoch 101/200\n",
            "1/1 [==============================] - 0s 32ms/step - loss: 7.3745e-09 - mse: 7.3745e-09\n",
            "Epoch 102/200\n",
            "1/1 [==============================] - 0s 17ms/step - loss: 7.3782e-09 - mse: 7.3782e-09\n",
            "Epoch 103/200\n",
            "1/1 [==============================] - 0s 19ms/step - loss: 7.3025e-09 - mse: 7.3025e-09\n",
            "Epoch 104/200\n",
            "1/1 [==============================] - 0s 27ms/step - loss: 7.3488e-09 - mse: 7.3488e-09\n",
            "Epoch 105/200\n",
            "1/1 [==============================] - 0s 19ms/step - loss: 7.3550e-09 - mse: 7.3550e-09\n",
            "Epoch 106/200\n",
            "1/1 [==============================] - 0s 23ms/step - loss: 7.3184e-09 - mse: 7.3184e-09\n",
            "Epoch 107/200\n",
            "1/1 [==============================] - 0s 16ms/step - loss: 7.3345e-09 - mse: 7.3345e-09\n",
            "Epoch 108/200\n",
            "1/1 [==============================] - 0s 34ms/step - loss: 7.3047e-09 - mse: 7.3047e-09\n",
            "Epoch 109/200\n",
            "1/1 [==============================] - 0s 22ms/step - loss: 7.3528e-09 - mse: 7.3528e-09\n",
            "Epoch 110/200\n",
            "1/1 [==============================] - 0s 22ms/step - loss: 7.3194e-09 - mse: 7.3194e-09\n",
            "Epoch 111/200\n",
            "1/1 [==============================] - 0s 23ms/step - loss: 7.3248e-09 - mse: 7.3248e-09\n",
            "Epoch 112/200\n",
            "1/1 [==============================] - 0s 20ms/step - loss: 7.3128e-09 - mse: 7.3128e-09\n",
            "Epoch 113/200\n",
            "1/1 [==============================] - 0s 14ms/step - loss: 7.3155e-09 - mse: 7.3155e-09\n",
            "Epoch 114/200\n",
            "1/1 [==============================] - 0s 13ms/step - loss: 7.3108e-09 - mse: 7.3108e-09\n",
            "Epoch 115/200\n",
            "1/1 [==============================] - 0s 13ms/step - loss: 7.3168e-09 - mse: 7.3168e-09\n",
            "Epoch 116/200\n",
            "1/1 [==============================] - 0s 18ms/step - loss: 7.3251e-09 - mse: 7.3251e-09\n",
            "Epoch 117/200\n",
            "1/1 [==============================] - 0s 19ms/step - loss: 7.3066e-09 - mse: 7.3066e-09\n",
            "Epoch 118/200\n",
            "1/1 [==============================] - 0s 13ms/step - loss: 7.3103e-09 - mse: 7.3103e-09\n",
            "Epoch 119/200\n",
            "1/1 [==============================] - 0s 17ms/step - loss: 7.3109e-09 - mse: 7.3109e-09\n",
            "Epoch 120/200\n",
            "1/1 [==============================] - 0s 10ms/step - loss: 7.3010e-09 - mse: 7.3010e-09\n",
            "Epoch 121/200\n",
            "1/1 [==============================] - 0s 13ms/step - loss: 7.3116e-09 - mse: 7.3116e-09\n",
            "Epoch 122/200\n",
            "1/1 [==============================] - 0s 25ms/step - loss: 7.3028e-09 - mse: 7.3028e-09\n",
            "Epoch 123/200\n",
            "1/1 [==============================] - 0s 16ms/step - loss: 7.3043e-09 - mse: 7.3043e-09\n",
            "Epoch 124/200\n",
            "1/1 [==============================] - 0s 17ms/step - loss: 7.3071e-09 - mse: 7.3071e-09\n",
            "Epoch 125/200\n",
            "1/1 [==============================] - 0s 25ms/step - loss: 7.3035e-09 - mse: 7.3035e-09\n",
            "Epoch 126/200\n",
            "1/1 [==============================] - 0s 17ms/step - loss: 7.2989e-09 - mse: 7.2989e-09\n",
            "Epoch 127/200\n",
            "1/1 [==============================] - 0s 17ms/step - loss: 7.3031e-09 - mse: 7.3031e-09\n",
            "Epoch 128/200\n",
            "1/1 [==============================] - 0s 16ms/step - loss: 7.3028e-09 - mse: 7.3028e-09\n",
            "Epoch 129/200\n",
            "1/1 [==============================] - 0s 16ms/step - loss: 7.3044e-09 - mse: 7.3044e-09\n",
            "Epoch 130/200\n",
            "1/1 [==============================] - 0s 16ms/step - loss: 7.3032e-09 - mse: 7.3032e-09\n",
            "Epoch 131/200\n",
            "1/1 [==============================] - 0s 31ms/step - loss: 7.2999e-09 - mse: 7.2999e-09\n",
            "Epoch 132/200\n",
            "1/1 [==============================] - 0s 17ms/step - loss: 7.3021e-09 - mse: 7.3021e-09\n",
            "Epoch 133/200\n",
            "1/1 [==============================] - 0s 28ms/step - loss: 7.3028e-09 - mse: 7.3028e-09\n",
            "Epoch 134/200\n",
            "1/1 [==============================] - 0s 23ms/step - loss: 7.3047e-09 - mse: 7.3047e-09\n",
            "Epoch 135/200\n",
            "1/1 [==============================] - 0s 22ms/step - loss: 7.3017e-09 - mse: 7.3017e-09\n",
            "Epoch 136/200\n",
            "1/1 [==============================] - 0s 61ms/step - loss: 7.3048e-09 - mse: 7.3048e-09\n",
            "Epoch 137/200\n",
            "1/1 [==============================] - 0s 20ms/step - loss: 7.3014e-09 - mse: 7.3014e-09\n",
            "Epoch 138/200\n",
            "1/1 [==============================] - 0s 11ms/step - loss: 7.3017e-09 - mse: 7.3017e-09\n",
            "Epoch 139/200\n",
            "1/1 [==============================] - 0s 17ms/step - loss: 7.3022e-09 - mse: 7.3022e-09\n",
            "Epoch 140/200\n",
            "1/1 [==============================] - 0s 14ms/step - loss: 7.3010e-09 - mse: 7.3010e-09\n",
            "Epoch 141/200\n",
            "1/1 [==============================] - 0s 16ms/step - loss: 7.3024e-09 - mse: 7.3024e-09\n",
            "Epoch 142/200\n",
            "1/1 [==============================] - 0s 18ms/step - loss: 7.3017e-09 - mse: 7.3017e-09\n",
            "Epoch 143/200\n",
            "1/1 [==============================] - 0s 12ms/step - loss: 7.2985e-09 - mse: 7.2985e-09\n",
            "Epoch 144/200\n",
            "1/1 [==============================] - 0s 19ms/step - loss: 7.3014e-09 - mse: 7.3014e-09\n",
            "Epoch 145/200\n",
            "1/1 [==============================] - 0s 19ms/step - loss: 7.3015e-09 - mse: 7.3015e-09\n",
            "Epoch 146/200\n",
            "1/1 [==============================] - 0s 22ms/step - loss: 7.3023e-09 - mse: 7.3023e-09\n",
            "Epoch 147/200\n",
            "1/1 [==============================] - 0s 12ms/step - loss: 7.3015e-09 - mse: 7.3015e-09\n",
            "Epoch 148/200\n",
            "1/1 [==============================] - 0s 25ms/step - loss: 7.3019e-09 - mse: 7.3019e-09\n",
            "Epoch 149/200\n",
            "1/1 [==============================] - 0s 12ms/step - loss: 7.3011e-09 - mse: 7.3011e-09\n",
            "Epoch 150/200\n",
            "1/1 [==============================] - 0s 17ms/step - loss: 7.3033e-09 - mse: 7.3033e-09\n",
            "Epoch 151/200\n",
            "1/1 [==============================] - 0s 9ms/step - loss: 7.3011e-09 - mse: 7.3011e-09\n",
            "Epoch 152/200\n",
            "1/1 [==============================] - 0s 13ms/step - loss: 7.3012e-09 - mse: 7.3012e-09\n",
            "Epoch 153/200\n",
            "1/1 [==============================] - 0s 12ms/step - loss: 7.3011e-09 - mse: 7.3011e-09\n",
            "Epoch 154/200\n",
            "1/1 [==============================] - 0s 15ms/step - loss: 7.3010e-09 - mse: 7.3010e-09\n",
            "Epoch 155/200\n",
            "1/1 [==============================] - 0s 16ms/step - loss: 7.3012e-09 - mse: 7.3012e-09\n",
            "Epoch 156/200\n",
            "1/1 [==============================] - 0s 15ms/step - loss: 7.3024e-09 - mse: 7.3024e-09\n",
            "Epoch 157/200\n",
            "1/1 [==============================] - 0s 9ms/step - loss: 7.3011e-09 - mse: 7.3011e-09\n",
            "Epoch 158/200\n",
            "1/1 [==============================] - 0s 9ms/step - loss: 7.3011e-09 - mse: 7.3011e-09\n",
            "Epoch 159/200\n",
            "1/1 [==============================] - 0s 13ms/step - loss: 7.3010e-09 - mse: 7.3010e-09\n",
            "Epoch 160/200\n",
            "1/1 [==============================] - 0s 13ms/step - loss: 7.3012e-09 - mse: 7.3012e-09\n",
            "Epoch 161/200\n",
            "1/1 [==============================] - 0s 18ms/step - loss: 7.3011e-09 - mse: 7.3011e-09\n",
            "Epoch 162/200\n",
            "1/1 [==============================] - 0s 16ms/step - loss: 7.3011e-09 - mse: 7.3011e-09\n",
            "Epoch 163/200\n",
            "1/1 [==============================] - 0s 15ms/step - loss: 7.3011e-09 - mse: 7.3011e-09\n",
            "Epoch 164/200\n",
            "1/1 [==============================] - 0s 16ms/step - loss: 7.3011e-09 - mse: 7.3011e-09\n",
            "Epoch 165/200\n",
            "1/1 [==============================] - 0s 11ms/step - loss: 7.3011e-09 - mse: 7.3011e-09\n",
            "Epoch 166/200\n",
            "1/1 [==============================] - 0s 10ms/step - loss: 7.3007e-09 - mse: 7.3007e-09\n",
            "Epoch 167/200\n",
            "1/1 [==============================] - 0s 15ms/step - loss: 7.3011e-09 - mse: 7.3011e-09\n",
            "Epoch 168/200\n",
            "1/1 [==============================] - 0s 14ms/step - loss: 7.3011e-09 - mse: 7.3011e-09\n",
            "Epoch 169/200\n",
            "1/1 [==============================] - 0s 14ms/step - loss: 7.3011e-09 - mse: 7.3011e-09\n",
            "Epoch 170/200\n",
            "1/1 [==============================] - 0s 19ms/step - loss: 7.3010e-09 - mse: 7.3010e-09\n",
            "Epoch 171/200\n",
            "1/1 [==============================] - 0s 28ms/step - loss: 7.3010e-09 - mse: 7.3010e-09\n",
            "Epoch 172/200\n",
            "1/1 [==============================] - 0s 12ms/step - loss: 7.3010e-09 - mse: 7.3010e-09\n",
            "Epoch 173/200\n",
            "1/1 [==============================] - 0s 9ms/step - loss: 7.3020e-09 - mse: 7.3020e-09\n",
            "Epoch 174/200\n",
            "1/1 [==============================] - 0s 10ms/step - loss: 7.3011e-09 - mse: 7.3011e-09\n",
            "Epoch 175/200\n",
            "1/1 [==============================] - 0s 15ms/step - loss: 7.3010e-09 - mse: 7.3010e-09\n",
            "Epoch 176/200\n",
            "1/1 [==============================] - 0s 11ms/step - loss: 7.3011e-09 - mse: 7.3011e-09\n",
            "Epoch 177/200\n",
            "1/1 [==============================] - 0s 14ms/step - loss: 7.3010e-09 - mse: 7.3010e-09\n",
            "Epoch 178/200\n",
            "1/1 [==============================] - 0s 30ms/step - loss: 7.3010e-09 - mse: 7.3010e-09\n",
            "Epoch 179/200\n",
            "1/1 [==============================] - 0s 17ms/step - loss: 7.3011e-09 - mse: 7.3011e-09\n",
            "Epoch 180/200\n",
            "1/1 [==============================] - 0s 28ms/step - loss: 7.3010e-09 - mse: 7.3010e-09\n",
            "Epoch 181/200\n",
            "1/1 [==============================] - 0s 20ms/step - loss: 7.3011e-09 - mse: 7.3011e-09\n",
            "Epoch 182/200\n",
            "1/1 [==============================] - 0s 24ms/step - loss: 7.3010e-09 - mse: 7.3010e-09\n",
            "Epoch 183/200\n",
            "1/1 [==============================] - 0s 13ms/step - loss: 7.3015e-09 - mse: 7.3015e-09\n",
            "Epoch 184/200\n",
            "1/1 [==============================] - 0s 17ms/step - loss: 7.3012e-09 - mse: 7.3012e-09\n",
            "Epoch 185/200\n",
            "1/1 [==============================] - 0s 18ms/step - loss: 7.3010e-09 - mse: 7.3010e-09\n",
            "Epoch 186/200\n",
            "1/1 [==============================] - 0s 21ms/step - loss: 7.3011e-09 - mse: 7.3011e-09\n",
            "Epoch 187/200\n",
            "1/1 [==============================] - 0s 30ms/step - loss: 7.3011e-09 - mse: 7.3011e-09\n",
            "Epoch 188/200\n",
            "1/1 [==============================] - 0s 20ms/step - loss: 7.3010e-09 - mse: 7.3010e-09\n",
            "Epoch 189/200\n",
            "1/1 [==============================] - 0s 14ms/step - loss: 7.3011e-09 - mse: 7.3011e-09\n",
            "Epoch 190/200\n",
            "1/1 [==============================] - 0s 15ms/step - loss: 7.3010e-09 - mse: 7.3010e-09\n",
            "Epoch 191/200\n",
            "1/1 [==============================] - 0s 22ms/step - loss: 7.3010e-09 - mse: 7.3010e-09\n",
            "Epoch 192/200\n",
            "1/1 [==============================] - 0s 18ms/step - loss: 7.2995e-09 - mse: 7.2995e-09\n",
            "Epoch 193/200\n",
            "1/1 [==============================] - 0s 17ms/step - loss: 7.3011e-09 - mse: 7.3011e-09\n",
            "Epoch 194/200\n",
            "1/1 [==============================] - 0s 23ms/step - loss: 7.3011e-09 - mse: 7.3011e-09\n",
            "Epoch 195/200\n",
            "1/1 [==============================] - 0s 24ms/step - loss: 7.3010e-09 - mse: 7.3010e-09\n",
            "Epoch 196/200\n",
            "1/1 [==============================] - 0s 12ms/step - loss: 7.3011e-09 - mse: 7.3011e-09\n",
            "Epoch 197/200\n",
            "1/1 [==============================] - 0s 15ms/step - loss: 7.3011e-09 - mse: 7.3011e-09\n",
            "Epoch 198/200\n",
            "1/1 [==============================] - 0s 14ms/step - loss: 7.3010e-09 - mse: 7.3010e-09\n",
            "Epoch 199/200\n",
            "1/1 [==============================] - 0s 31ms/step - loss: 7.3011e-09 - mse: 7.3011e-09\n",
            "Epoch 200/200\n",
            "1/1 [==============================] - 0s 113ms/step - loss: 7.3010e-09 - mse: 7.3010e-09\n"
          ]
        }
      ]
    },
    {
      "cell_type": "code",
      "source": [
        "plt.plot(history.history['loss'])\n",
        "plt.xlabel('Epochs')\n",
        "plt.ylabel('MSE Loss')\n",
        "#plt.savefig('MSLE.png')\n",
        "plt.show()"
      ],
      "metadata": {
        "colab": {
          "base_uri": "https://localhost:8080/",
          "height": 616
        },
        "id": "qBumg1Ieiz7O",
        "outputId": "77780de5-b188-448c-8ac1-b1d81c6e0959"
      },
      "execution_count": null,
      "outputs": [
        {
          "output_type": "display_data",
          "data": {
            "text/plain": [
              "<Figure size 1440x720 with 1 Axes>"
            ],
            "image/png": "[encoded data removed]"
          },
          "metadata": {}
        }
      ]
    },
    {
      "cell_type": "code",
      "source": [
        "def find_threshold(model, x_train):\n",
        "  \n",
        "  reconstructions = model.predict(x_train)\n",
        "\n",
        "  plt.plot(x_train[0,:].reshape(50, -1), label = 'input')\n",
        "  plt.plot(reconstructions[0,:].reshape(50, -1), label = 'output')\n",
        "  plt.xlabel('Number of bins for each value of m (in GeV)',fontsize = 15)\n",
        "  plt.ylabel('Frequency',fontsize = 15)\n",
        "  plt.legend(fontsize = 15)\n",
        "  plt.xticks(fontsize=15)\n",
        "  plt.yticks(fontsize=15)\n",
        "  plt.show()\n",
        "\n",
        "  # provides losses of individual instances\n",
        "  reconstruction_errors = tf.keras.losses.msle(reconstructions, x_train)\n",
        "  print(reconstruction_errors.numpy())\n",
        "\n",
        "  # threshold for anomaly scores\n",
        "  threshold = np.mean(reconstruction_errors.numpy()) + np.std(reconstruction_errors.numpy())\n",
        "\n",
        "  return threshold\n",
        "\n",
        "threshold = find_threshold(model, x_train)\n",
        "print(f\"Threshold: {threshold}\")"
      ],
      "metadata": {
        "colab": {
          "base_uri": "https://localhost:8080/",
          "height": 665
        },
        "id": "ymo0iN0Kj2Ln",
        "outputId": "b32eeea6-c77d-45e2-d66c-e94d67f462e0"
      },
      "execution_count": null,
      "outputs": [
        {
          "output_type": "stream",
          "name": "stdout",
          "text": [
            "1/1 [==============================] - 0s 43ms/step\n"
          ]
        },
        {
          "output_type": "display_data",
          "data": {
            "text/plain": [
              "<Figure size 1440x720 with 1 Axes>"
            ],
            "image/png": "[encoded data removed]"
          },
          "metadata": {}
        },
        {
          "output_type": "stream",
          "name": "stdout",
          "text": [
            "[7.13807408e-09]\n",
            "Threshold: 7.138074077332806e-09\n"
          ]
        }
      ]
    },
    {
      "cell_type": "code",
      "source": [
        "def get_predictions(model, x_test, threshold):\n",
        "  predictions = model.predict(x_test)\n",
        "\n",
        "  figure, axis = plt.subplots(2, 2)\n",
        "    \n",
        "  axis[0,0].plot(x_test[0,:].reshape(50, -1), label = 'input')\n",
        "  axis[0,0].plot(predictions[0,:].reshape(50, -1), label = 'output')\n",
        "\n",
        "  axis[0,1].plot(x_test[1,:].reshape(50, -1), label = 'input')\n",
        "  axis[0,1].plot(predictions[1,:].reshape(50, -1), label = 'output')\n",
        "\n",
        "  axis[1,0].plot(x_test[2,:].reshape(50, -1), label = 'input')\n",
        "  axis[1,0].plot(predictions[2,:].reshape(50, -1), label = 'output')\n",
        "\n",
        "  axis[1,1].plot(x_test[3,:].reshape(50, -1), label = 'input')\n",
        "  axis[1,1].plot(predictions[3,:].reshape(50, -1), label = 'output')\n",
        "  \n",
        "  title_dict = {1: '0.5Tev', 2: '1TeV', 3: '2TeV', 4: '3TeV'}\n",
        "\n",
        "  i = 1\n",
        "  for ax in axis.flat:\n",
        "    ax.set(xlabel='Number of bins for each value of m (in GeV)', ylabel='Frequency')\n",
        "    ax.legend()\n",
        "    ax.set_title(title_dict[i])\n",
        "    i+=1\n",
        "\n",
        "  plt.show()\n",
        "\n",
        "  # provides losses of individual instances\n",
        "  errors = tf.keras.losses.msle(predictions, x_test)\n",
        "  print(errors.numpy())\n",
        "\n",
        "  # 0 = anomaly, 1 = normal\n",
        "  anomaly_mask = pd.Series(errors) > threshold\n",
        "  preds = anomaly_mask.map(lambda x: 1.0 if x == True else 0.0)\n",
        "  print(preds)\n",
        "\n",
        "  return preds\n",
        "\n",
        "predictions = get_predictions(model, x_test, threshold)"
      ],
      "metadata": {
        "id": "aLn-nqUpRAZE",
        "colab": {
          "base_uri": "https://localhost:8080/",
          "height": 739
        },
        "outputId": "49bb9b03-c253-4bb0-812d-5516b3842e9d"
      },
      "execution_count": null,
      "outputs": [
        {
          "output_type": "stream",
          "name": "stdout",
          "text": [
            "1/1 [==============================] - 0s 103ms/step\n"
          ]
        },
        {
          "output_type": "display_data",
          "data": {
            "text/plain": [
              "<Figure size 1440x720 with 4 Axes>"
            ],
            "image/png": "[encoded data removed]"
          },
          "metadata": {}
        },
        {
          "output_type": "stream",
          "name": "stdout",
          "text": [
            "[8.18388433e-07 4.27394179e-07 4.59633184e-07 4.47203987e-07]\n",
            "0    1.0\n",
            "1    1.0\n",
            "2    1.0\n",
            "3    1.0\n",
            "dtype: float64\n"
          ]
        }
      ]
    },
    {
      "cell_type": "code",
      "source": [],
      "metadata": {
        "id": "HxHByVIIzmXS"
      },
      "execution_count": null,
      "outputs": []
    }
  ]
}